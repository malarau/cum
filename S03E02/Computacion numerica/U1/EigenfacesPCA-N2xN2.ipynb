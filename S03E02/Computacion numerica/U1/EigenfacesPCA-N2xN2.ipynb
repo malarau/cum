{
 "cells": [
  {
   "cell_type": "code",
   "execution_count": 4,
   "id": "93a45bcc",
   "metadata": {},
   "outputs": [
    {
     "name": "stderr",
     "output_type": "stream",
     "text": [
      "\u001b[32m\u001b[1m   Resolving\u001b[22m\u001b[39m package versions...\n",
      "\u001b[32m\u001b[1m  No Changes\u001b[22m\u001b[39m to `C:\\Users\\s2kjn\\.julia\\environments\\v1.9\\Project.toml`\n",
      "\u001b[32m\u001b[1m  No Changes\u001b[22m\u001b[39m to `C:\\Users\\s2kjn\\.julia\\environments\\v1.9\\Manifest.toml`\n",
      "\u001b[32m\u001b[1m   Resolving\u001b[22m\u001b[39m package versions...\n",
      "\u001b[32m\u001b[1m  No Changes\u001b[22m\u001b[39m to `C:\\Users\\s2kjn\\.julia\\environments\\v1.9\\Project.toml`\n",
      "\u001b[32m\u001b[1m  No Changes\u001b[22m\u001b[39m to `C:\\Users\\s2kjn\\.julia\\environments\\v1.9\\Manifest.toml`\n",
      "\u001b[32m\u001b[1m   Resolving\u001b[22m\u001b[39m package versions...\n",
      "\u001b[32m\u001b[1m  No Changes\u001b[22m\u001b[39m to `C:\\Users\\s2kjn\\.julia\\environments\\v1.9\\Project.toml`\n",
      "\u001b[32m\u001b[1m  No Changes\u001b[22m\u001b[39m to `C:\\Users\\s2kjn\\.julia\\environments\\v1.9\\Manifest.toml`\n",
      "\u001b[32m\u001b[1m   Resolving\u001b[22m\u001b[39m package versions...\n",
      "\u001b[32m\u001b[1m  No Changes\u001b[22m\u001b[39m to `C:\\Users\\s2kjn\\.julia\\environments\\v1.9\\Project.toml`\n",
      "\u001b[32m\u001b[1m  No Changes\u001b[22m\u001b[39m to `C:\\Users\\s2kjn\\.julia\\environments\\v1.9\\Manifest.toml`\n",
      "\u001b[32m\u001b[1m   Resolving\u001b[22m\u001b[39m package versions...\n",
      "\u001b[32m\u001b[1m  No Changes\u001b[22m\u001b[39m to `C:\\Users\\s2kjn\\.julia\\environments\\v1.9\\Project.toml`\n",
      "\u001b[32m\u001b[1m  No Changes\u001b[22m\u001b[39m to `C:\\Users\\s2kjn\\.julia\\environments\\v1.9\\Manifest.toml`\n",
      "\u001b[32m\u001b[1m   Resolving\u001b[22m\u001b[39m package versions...\n",
      "\u001b[32m\u001b[1m  No Changes\u001b[22m\u001b[39m to `C:\\Users\\s2kjn\\.julia\\environments\\v1.9\\Project.toml`\n",
      "\u001b[32m\u001b[1m  No Changes\u001b[22m\u001b[39m to `C:\\Users\\s2kjn\\.julia\\environments\\v1.9\\Manifest.toml`\n"
     ]
    }
   ],
   "source": [
    "# Required pkg\n",
    "import Pkg;\n",
    "Pkg.add(\"Images\")\n",
    "Pkg.add(\"LinearAlgebra\")\n",
    "Pkg.add(\"Plots\")\n",
    "Pkg.add(\"Interpolations\")\n",
    "Pkg.add(\"DataFrames\")\n",
    "Pkg.add(\"XLSX\")\n",
    "using Images, Statistics, LinearAlgebra, Plots, Interpolations, Random, DataFrames, XLSX"
   ]
  },
  {
   "cell_type": "markdown",
   "id": "39399053",
   "metadata": {},
   "source": [
    "### [Auxiliary functions] to get: training_images, testing_images\n",
    "#### Each with a size = M * N^2\n",
    "\n",
    "M = Number of images (min_images_per_folder)\n",
    "\n",
    "N^2 = A vector of the original image_size*image_size image"
   ]
  },
  {
   "cell_type": "code",
   "execution_count": 5,
   "id": "225e53e3",
   "metadata": {},
   "outputs": [
    {
     "data": {
      "text/plain": [
       "get_images (generic function with 2 methods)"
      ]
     },
     "execution_count": 5,
     "metadata": {},
     "output_type": "execute_result"
    }
   ],
   "source": [
    "# Get useful folders\n",
    "\n",
    "# Return a Vector{String} with all the folders with {min_images_per_folder} inside.\n",
    "function get_useful_folders(min_images)\n",
    "    ### Getting images\n",
    "    useful_folders = Vector{String}()\n",
    "    \n",
    "    itr = walkdir(base_dir)    \n",
    "    (root, dirs, files) = first(itr)\n",
    "    for d in dirs\n",
    "        images_on_folder = readdir(base_dir * d)\n",
    "        if size(images_on_folder)[1] >= min_images\n",
    "            push!(useful_folders, base_dir * d * \"/\")\n",
    "        end\n",
    "    end\n",
    "    useful_folders\n",
    "end\n",
    "\n",
    "# After filter by get_useful_folders(), get random {n_folders}\n",
    "function get_random_n_folders(min_images_per_folder)\n",
    "    # Get all the useful folders\n",
    "    useful_folders = get_useful_folders(min_images_per_folder)\n",
    "    # Get random folders from {useful_folders}\n",
    "    rand(useful_folders, n_folders)\n",
    "end\n",
    "\n",
    "# Get all images from {n_folders} random folders, each case for {training_images} and {testing_images}\n",
    "# Return a Matrix, size = M * N^2\n",
    "#     M = Number of images (min_images_per_folder)\n",
    "#     N^2 = A row vector of the original N*N image (now: 1*N^2)\n",
    "\n",
    "function get_images(float_type, working_with=nothing)\n",
    "    \n",
    "    # Pick {n_folders} to work with if {working_with} not provided\n",
    "    if working_with === nothing\n",
    "       working_with = get_random_n_folders(min_images_per_folder)\n",
    "    end    \n",
    "        \n",
    "    training_images = zeros(float_type, size(working_with, 1)*n_training_images,  image_size*image_size)\n",
    "    testing_images = zeros(float_type, size(working_with, 1)*n_testing_images,  image_size*image_size)\n",
    "    \n",
    "    # For every folder, get pictures\n",
    "    for (i, folder) in enumerate(working_with)\n",
    "        cdir = readdir(folder)        \n",
    "        \n",
    "        # Google Drive create a \"desktop.ini\", then I have to \"findfirst\" and delete element\n",
    "        splice!(cdir, findfirst(contains(\"desktop.ini\"), cdir))\n",
    "            \n",
    "        training_count = 1\n",
    "        testing_count = 1\n",
    "\n",
    "        for image_relative_path in cdir \n",
    "            \n",
    "            row_im = vec(float_type.(Gray.( imresize(load(folder * image_relative_path), image_size, image_size) )))' # 1 x N*N\n",
    "            #display(Gray.(load(folder * image_relative_path)))\n",
    "            \n",
    "            if training_count <= n_training_images\n",
    "                training_images[ (n_training_images*(i-1) + training_count),:] = row_im\n",
    "                training_count += 1\n",
    "            elseif testing_count <= n_testing_images\n",
    "                testing_images[ (n_testing_images*(i-1) + testing_count),:] = row_im\n",
    "                testing_count += 1\n",
    "            else\n",
    "                break  # Stop here if both training and testing images are collected\n",
    "            end\n",
    "        end\n",
    "    end\n",
    "    (training_images, testing_images)\n",
    "end"
   ]
  },
  {
   "cell_type": "code",
   "execution_count": 6,
   "id": "9e00d89e",
   "metadata": {},
   "outputs": [
    {
     "data": {
      "text/plain": [
       "show_testing_images (generic function with 1 method)"
      ]
     },
     "execution_count": 6,
     "metadata": {},
     "output_type": "execute_result"
    }
   ],
   "source": [
    "function show_training_images(images)\n",
    "    for i in 1:n_folders\n",
    "        row = vcat([ Gray.(reshape(images[j,:], image_size, image_size)) for j in (n_training_images*(i-1))+1:((n_training_images*(i-1))+n_training_images)])\n",
    "        display(row)\n",
    "    end    \n",
    "end\n",
    "\n",
    "function show_testing_images(images)\n",
    "    for i in 1:n_folders\n",
    "        row = vcat([ Gray.(reshape(images[j,:], image_size, image_size)) for j in (n_testing_images*(i-1))+1:((n_testing_images*(i-1))+n_testing_images)])\n",
    "        display(row)\n",
    "    end    \n",
    "end"
   ]
  },
  {
   "cell_type": "markdown",
   "id": "b254de3e",
   "metadata": {},
   "source": [
    "# Getting the basics\n",
    "\n",
    "### μ, A, C, eigenvalues, eigenvectors\n",
    "\n",
    "#### n_folders\n",
    "Number of folders to use, randomly selected. **Between 1 and _size(get_useful_folders(n_folders), 1)_**\n",
    "\n",
    "#### n_training_images\n",
    "Number of training images to pick from every folder\n",
    "\n",
    "#### n_testing_images\n",
    "Same but for testing\n",
    "\n",
    "#### min_images_per_folder\n",
    "Before, it will filter the folders on the directory by {min_images_per_folder}"
   ]
  },
  {
   "cell_type": "code",
   "execution_count": 7,
   "id": "1475d4ea",
   "metadata": {},
   "outputs": [],
   "source": [
    "# ./lfw/  = Color, not aligned\n",
    "# ./lfw2/ = Black and white, already aligned (eyes)\n",
    "base_dir = \"./lfw/\" \n",
    "image_size = 64\n",
    "\n",
    "n_folders = 10\n",
    "n_training_images = 12\n",
    "n_testing_images = 6\n",
    "\n",
    "min_images_per_folder = n_training_images + n_testing_images + 1; # +1 because google drive creating desktop.ini"
   ]
  },
  {
   "cell_type": "markdown",
   "id": "e07192e5",
   "metadata": {},
   "source": [
    "#### (training_images, testing_images), μ, A, eigenvalues, eigenvectors, elapsed_time, mem_used"
   ]
  },
  {
   "cell_type": "code",
   "execution_count": 8,
   "id": "be62963c",
   "metadata": {},
   "outputs": [
    {
     "data": {
      "text/plain": [
       "setup_basics (generic function with 2 methods)"
      ]
     },
     "execution_count": 8,
     "metadata": {},
     "output_type": "execute_result"
    }
   ],
   "source": [
    "function setup_basics(float_type, folders=nothing)\n",
    "    (training_images, testing_images) = get_images(float_type, folders)\n",
    "    \n",
    "    # Mean\n",
    "    μ = mean(training_images, dims = 1)\n",
    "\n",
    "    # Centered matrix\n",
    "    A = training_images.-μ\n",
    "\n",
    "    # Covariance (N2xN2) and eigen\n",
    "    run_block = @timed begin\n",
    "        (eigenvalues, eigenvectors) = eigen(cov(A), sortby = x -> -x)\n",
    "    end\n",
    "    \n",
    "    (eigenvalues, eigenvectors) = run_block.value # Again\n",
    "    elapsed_time = run_block.time\n",
    "    mem_used = run_block.bytes / 1024^3 # Bytes to Gigabytes\n",
    "    \n",
    "    (training_images, testing_images), μ, A, eigenvalues, eigenvectors, elapsed_time, mem_used\n",
    "end"
   ]
  },
  {
   "cell_type": "markdown",
   "id": "5465428e",
   "metadata": {},
   "source": [
    "## Set folders to use, or random"
   ]
  },
  {
   "cell_type": "code",
   "execution_count": null,
   "id": "55a04b2a",
   "metadata": {},
   "outputs": [],
   "source": [
    "# Set folders to use, or random\n",
    "\n",
    "# Get random folders \n",
    "#random_n_folders = get_random_n_folders(min_images_per_folder)\n",
    "\n",
    "# Fixed\n",
    "random_n_folders = [\n",
    " \"./lfw/Guillermo_Coria/\",\n",
    " \"./lfw/Atal_Bihari_Vajpayee/\",\n",
    " \"./lfw/Kofi_Annan/\",\n",
    " \"./lfw/Nicole_Kidman/\",\n",
    " \"./lfw/Kofi_Annan/\",\n",
    " \"./lfw/Pervez_Musharraf/\",\n",
    " \"./lfw/Richard_Myers/\",\n",
    " \"./lfw/Tom_Daschle/\",\n",
    " \"./lfw/Amelie_Mauresmo/\",\n",
    " \"./lfw/Atal_Bihari_Vajpayee/\"\n",
    "];"
   ]
  },
  {
   "cell_type": "code",
   "execution_count": null,
   "id": "e8c3d772",
   "metadata": {},
   "outputs": [],
   "source": []
  },
  {
   "cell_type": "markdown",
   "id": "d8324fa6",
   "metadata": {},
   "source": [
    "# Reconstruction\n",
    "## Measuring _data_ differences for: Float 16, 32, 64, for every k on every image"
   ]
  },
  {
   "cell_type": "code",
   "execution_count": 9,
   "id": "c997545a",
   "metadata": {},
   "outputs": [
    {
     "data": {
      "text/plain": [
       "3-element Vector{DataType}:\n",
       " Float16\n",
       " Float32\n",
       " Float64"
      ]
     },
     "execution_count": 9,
     "metadata": {},
     "output_type": "execute_result"
    }
   ],
   "source": [
    "precisions = [Float16, Float32, Float64]"
   ]
  },
  {
   "cell_type": "markdown",
   "id": "75096092",
   "metadata": {},
   "source": [
    "#### Setup:"
   ]
  },
  {
   "cell_type": "code",
   "execution_count": null,
   "id": "300888de",
   "metadata": {},
   "outputs": [],
   "source": [
    "n_folders = 2\n",
    "n_training_images = 4\n",
    "n_testing_images = 4\n",
    "\n",
    "min_images_per_folder = n_training_images + n_testing_images + 1; # +1 because google drive creating desktop.ini"
   ]
  },
  {
   "cell_type": "markdown",
   "id": "f5601538",
   "metadata": {},
   "source": [
    "#### [Auxiliary functions]:"
   ]
  },
  {
   "cell_type": "code",
   "execution_count": null,
   "id": "89d39f28",
   "metadata": {},
   "outputs": [],
   "source": [
    "#\n",
    "# Returns a VECTOR with the norm error between original and reconstructed using k vectors.\n",
    "#\n",
    "#           |  k=1    |    k=2   |   ...   |  k = index_X_percent |\n",
    "#-----------------------------------------------------------------|\n",
    "#   Image   |  error  |   error  |  ...    |        error         |\n",
    "\n",
    "function reconstruct_for_k_eigenfaces(U, A, μ, training_images, display_images)\n",
    "    # Projections\n",
    "    P = transpose(U) * transpose(A)\n",
    "\n",
    "    # Reconstruction using k eigenvectors\n",
    "    reconstructed_images = (P' * U').+μ\n",
    "    \n",
    "    if display_images == true\n",
    "        display(\n",
    "            [\n",
    "                Gray.(reshape(training_images[2,:], image_size, image_size)), # Original\n",
    "                Gray.(reshape(reconstructed_images[2,:], image_size, image_size))  # Using k eigenfaces\n",
    "            ]\n",
    "        )\n",
    "    end\n",
    "    return norm.(eachrow(training_images - reconstructed_images), 2) # row_norms\n",
    "end\n",
    "\n",
    "\n",
    "# For every precision creates a table with the different reconstruction errors for every k on every image.\n",
    "# Example:\n",
    "\n",
    "#           |  k=1    |    k=2   |   ...   |  k = index_X_percent |\n",
    "#-----------------------------------------------------------------|\n",
    "# Image_1   |  error  |   error  |  ...    |        error         |\n",
    "#-----------------------------------------------------------------|\n",
    "# Image_2   |  error  |   error  |  ...    |        error         |\n",
    "#-----------------------------------------------------------------|\n",
    "#   ...     |   ...   |    ...   |   ...   |        ...           |\n",
    "#-----------------------------------------------------------------|\n",
    "# Image_M   |  error  |   error  |  ...    |        error         |\n",
    "#-----------------------------------------------------------------|\n",
    "\n",
    "\n",
    "function reconstruc_all_for_X_percent_of_k(percent)\n",
    "    errors_by_precision = []\n",
    "    \n",
    "    # Random\n",
    "    training_set = get_random_n_folders(min_images_per_folder)\n",
    "    \n",
    "    for used_precision in precisions\n",
    "        \n",
    "        # Getting the basics\n",
    "        ((training_images, testing_images), μ, A, eigenvalues, eigenvectors, elapsed_time, mem_used) = setup_basics(used_precision, training_set);\n",
    "        \n",
    "        # Using the to XX% most significant of all eigenvalues\n",
    "        cumulative_eigenvalues = cumsum(eigenvalues./sum(eigenvalues))\n",
    "        index_X_percent = findfirst(cumulative_eigenvalues .>= (percent/100))\n",
    "        \n",
    "        errors_by_k = zeros(Float64, n_folders*n_training_images, index_X_percent)\n",
    "        for k in 1:index_X_percent\n",
    "            errors_by_k[:,k] = reconstruct_for_k_eigenfaces(eigenvectors[:, 1:k], A, μ, training_images, false)\n",
    "        end\n",
    "            \n",
    "        push!(errors_by_precision, errors_by_k)\n",
    "    end\n",
    "    errors_by_precision\n",
    "end\n",
    "\n"
   ]
  },
  {
   "cell_type": "markdown",
   "id": "d9c918a7",
   "metadata": {},
   "source": [
    "#### Run function"
   ]
  },
  {
   "cell_type": "code",
   "execution_count": null,
   "id": "c5e1bc82",
   "metadata": {},
   "outputs": [],
   "source": [
    "errors_by_precision = reconstruc_all_for_X_percent_of_k(99);"
   ]
  },
  {
   "cell_type": "markdown",
   "id": "f8d612f5",
   "metadata": {},
   "source": [
    "#### Analysis"
   ]
  },
  {
   "cell_type": "code",
   "execution_count": null,
   "id": "042f7a1f",
   "metadata": {},
   "outputs": [],
   "source": [
    "# Working with eps 64\n",
    "epsilon = eps(Float64)\n",
    "\n",
    "# Absolite diff bigger than eps? (64 vs 16)\n",
    "result = abs.(errors_by_precision[3] - errors_by_precision[2]) .> epsilon\n",
    "\n",
    "# Results\n",
    "println(result)"
   ]
  },
  {
   "cell_type": "code",
   "execution_count": null,
   "id": "9cba3b49",
   "metadata": {},
   "outputs": [],
   "source": []
  },
  {
   "cell_type": "markdown",
   "id": "4e509535",
   "metadata": {},
   "source": [
    "## Measuring _mem and time_ differences for: Float 16, 32, 64 on setup"
   ]
  },
  {
   "cell_type": "markdown",
   "id": "3f55ba77",
   "metadata": {},
   "source": [
    "#### Run block"
   ]
  },
  {
   "cell_type": "code",
   "execution_count": null,
   "id": "b8a04330",
   "metadata": {},
   "outputs": [],
   "source": [
    "array_n_folders[end]"
   ]
  },
  {
   "cell_type": "code",
   "execution_count": null,
   "id": "cee6aefe",
   "metadata": {},
   "outputs": [],
   "source": [
    "#\n",
    "# Memory and time used to calculate covariance matrix and eigen for F16, 32, 64\n",
    "#\n",
    "mem_time_by_precision = []\n",
    "    \n",
    "#\n",
    "# Original values -> Aux\n",
    "aux_n_folders = n_folders\n",
    "aux_n_training_images = n_training_images\n",
    "aux_n_testing_images = n_testing_images\n",
    "aux_random_n_folders = random_n_folders\n",
    "\n",
    "# Different values to test:\n",
    "array_n_folders = [2, 4] # <-------- Modify this\n",
    "array_n_training_images = [4, 8] # <-------- Modify this\n",
    "n_testing_images = 4\n",
    "\n",
    "# Update {min_images_per_folder} using the bigger values\n",
    "min_images_per_folder = n_testing_images + array_n_training_images[end] + 1; # +1 because google drive creating desktop.ini\n",
    "\n",
    "# Use the new {min_images_per_folder} to get the folders\n",
    "training_set = get_random_n_folders(min_images_per_folder)\n",
    "\n",
    "for used_precision in precisions\n",
    "\n",
    "    data = zeros(Float64, size(array_n_folders,1)*size(array_n_training_images,1), 4) \n",
    "    index = 1\n",
    "    # Table data:\n",
    "\n",
    "    # n_folders | n_training_images | elapsed_time | mem_used\n",
    "    #    ..              ..                ..           ..\n",
    "    #    ..              ..                ..           ..\n",
    "\n",
    "    for aux1 in array_n_folders\n",
    "        n_folders = aux1\n",
    "\n",
    "        for aux2 in array_n_training_images\n",
    "            n_training_images = aux2\n",
    "\n",
    "            # Working here...\n",
    "            ((training_images, testing_images), μ, A, eigenvalues, eigenvectors, elapsed_time, mem_used) = setup_basics(used_precision, training_set[1:n_folders]);\n",
    "\n",
    "            # Save data:\n",
    "            data[index,:] = [n_folders, n_training_images, elapsed_time, mem_used]\n",
    "            index += 1            \n",
    "        end\n",
    "    end\n",
    "\n",
    "    push!(mem_time_by_precision, data)\n",
    "end\n",
    "\n",
    "# Aux -> Original values\n",
    "n_folders = aux_n_folders\n",
    "n_training_images = aux_n_training_images\n",
    "n_testing_images = aux_n_testing_images;"
   ]
  },
  {
   "cell_type": "code",
   "execution_count": null,
   "id": "499d9350",
   "metadata": {},
   "outputs": [],
   "source": [
    "[]"
   ]
  },
  {
   "cell_type": "markdown",
   "id": "3e48941c",
   "metadata": {},
   "source": [
    "#### Show data"
   ]
  },
  {
   "cell_type": "code",
   "execution_count": null,
   "id": "5268940f",
   "metadata": {},
   "outputs": [],
   "source": [
    "# Encabezado de la tabla\n",
    "println(\"Float16:\")\n",
    "println(\"n_folders | n_training_images | elapsed_time | mem_used\")\n",
    "mem_time_by_precision[1]"
   ]
  },
  {
   "cell_type": "code",
   "execution_count": null,
   "id": "6e6e46f9",
   "metadata": {},
   "outputs": [],
   "source": [
    "println(\"Float32:\")\n",
    "mem_time_by_precision[2]"
   ]
  },
  {
   "cell_type": "code",
   "execution_count": null,
   "id": "1ec78ff0",
   "metadata": {},
   "outputs": [],
   "source": [
    "println(\"Float64:\")\n",
    "mem_time_by_precision[3]"
   ]
  },
  {
   "cell_type": "markdown",
   "id": "88ca7c63",
   "metadata": {},
   "source": [
    "## Plot eigenvalues"
   ]
  },
  {
   "cell_type": "markdown",
   "id": "78c9c71e",
   "metadata": {},
   "source": [
    "#### Setup data first:"
   ]
  },
  {
   "cell_type": "code",
   "execution_count": null,
   "id": "75bc10f9",
   "metadata": {},
   "outputs": [],
   "source": [
    "used_precision = Float64\n",
    "\n",
    "n_folders = 5\n",
    "n_training_images = 7\n",
    "n_testing_images = 6\n",
    "\n",
    "min_images_per_folder = n_training_images + n_testing_images + 1; # +1 because google drive creating desktop.ini\n",
    "\n",
    "((training_images, testing_images), μ, A, eigenvalues, eigenvectors, elapsed_time, mem_used) = setup_basics(used_precision);\n",
    "\n",
    "X_percent = 95\n",
    "X_percent = X_percent / 100"
   ]
  },
  {
   "cell_type": "markdown",
   "id": "428c8a04",
   "metadata": {},
   "source": [
    "#### Run block:"
   ]
  },
  {
   "cell_type": "code",
   "execution_count": null,
   "id": "bd2c6c5f",
   "metadata": {},
   "outputs": [],
   "source": [
    "cumulative_eigenvalues = cumsum(eigenvalues ./ sum(eigenvalues))\n",
    "index_X_percent = findfirst(cumulative_eigenvalues .>= X_percent)\n",
    "\n",
    "# To put X_percent in the middle\n",
    "x_range = 1:index_X_percent * 2\n",
    "\n",
    "# Plot 2 curves con el rango x limitado\n",
    "plot(\n",
    "    [eigenvalues[x_range] ./ sum(eigenvalues)], \n",
    "    label=\"eigenvalues\",\n",
    "    title=\"$(X_percent)% coverage at the $index_X_percent-th elem of $(size(eigenvalues, 1)) (~$(round(index_X_percent/(size(eigenvalues, 1)), digits=4))%)\",\n",
    "    legend=:outerbottom,\n",
    "    titlefontsize=12\n",
    ")\n",
    "\n",
    "# Plot cumulative eigenvalues con el rango x limitado\n",
    "plot!(cumulative_eigenvalues[x_range], label=\"cumulative eigenvalues\")\n",
    "\n",
    "# Add X% text\n",
    "annotate!([(index_X_percent, cumulative_eigenvalues[index_X_percent], text(\"$(X_percent)%\", 8))])\n",
    "\n",
    "# Add x line\n",
    "vline!([index_X_percent], line=:black, linewidth=0.5, label=nothing)\n",
    "\n",
    "# Add y line\n",
    "hline!([cumulative_eigenvalues[index_X_percent]], line=:black, linewidth=0.5, label=nothing)"
   ]
  },
  {
   "cell_type": "markdown",
   "id": "196c7241",
   "metadata": {},
   "source": [
    "# Recognition"
   ]
  },
  {
   "cell_type": "code",
   "execution_count": null,
   "id": "44085a1d",
   "metadata": {
    "scrolled": false
   },
   "outputs": [],
   "source": [
    "#show_training_images(training_images)"
   ]
  },
  {
   "cell_type": "code",
   "execution_count": null,
   "id": "72bd7a76",
   "metadata": {},
   "outputs": [],
   "source": [
    "#show_testing_images(testing_images)"
   ]
  },
  {
   "cell_type": "markdown",
   "id": "21418dc1",
   "metadata": {},
   "source": [
    "#### Setup data first:"
   ]
  },
  {
   "cell_type": "code",
   "execution_count": 23,
   "id": "eed58e5b",
   "metadata": {},
   "outputs": [
    {
     "data": {
      "text/plain": [
       "0.99"
      ]
     },
     "execution_count": 23,
     "metadata": {},
     "output_type": "execute_result"
    }
   ],
   "source": [
    "n_folders = 4\n",
    "n_training_images = 16\n",
    "n_testing_images = 6\n",
    "\n",
    "min_images_per_folder = n_training_images + n_testing_images + 1; # +1 because google drive creating desktop.ini\n",
    "\n",
    "# Selecting the top {X_percent}% of the eigenvalues\n",
    "X_percent = 99\n",
    "X_percent = X_percent / 100"
   ]
  },
  {
   "cell_type": "code",
   "execution_count": 24,
   "id": "82973aa4",
   "metadata": {},
   "outputs": [
    {
     "name": "stdout",
     "output_type": "stream",
     "text": [
      "We want 4 folders with 22 min_images_per_folder, we have: 53\n"
     ]
    }
   ],
   "source": [
    "# Check if there are as many folder after the filter using: min_images_per_folder\n",
    "println(\"We want $n_folders folders with $(min_images_per_folder-1) min_images_per_folder, we have: $(size(get_useful_folders(min_images_per_folder), 1))\")"
   ]
  },
  {
   "cell_type": "markdown",
   "id": "d3c7b5e8",
   "metadata": {},
   "source": [
    "#### Aux functions:"
   ]
  },
  {
   "cell_type": "code",
   "execution_count": 25,
   "id": "a57b4834",
   "metadata": {
    "scrolled": true
   },
   "outputs": [
    {
     "data": {
      "text/plain": [
       "test_for_k_components (generic function with 1 method)"
      ]
     },
     "execution_count": 25,
     "metadata": {},
     "output_type": "execute_result"
    }
   ],
   "source": [
    "# Use k components to test accuracy.\n",
    "\n",
    "function test_for_k_components(A, eigenfaces, random_n_folders, display_data)\n",
    "    P = transpose(eigenfaces)*transpose(A);\n",
    "\n",
    "    correct = 0.0\n",
    "    all_min_dif = [] # We collect all the min norm diff\n",
    "    for w in 1:size(testing_images,1)\n",
    "        x_i = testing_images[w,:]' - μ\n",
    "        P_i = transpose(eigenfaces) * transpose(x_i);\n",
    "\n",
    "        dist=[]\n",
    "        for j in 1:size(P,2)\n",
    "            push!(dist, norm(P[:,j] - P_i))\n",
    "        end\n",
    "        pred = argmin(dist)\n",
    "        push!(all_min_dif, dist[pred])\n",
    "\n",
    "        celeb_tested = random_n_folders[ div(w - 1, n_testing_images) + 1 ]            \n",
    "        celeb_predicted = random_n_folders[ div(pred - 1, n_training_images) + 1 ]\n",
    "        \n",
    "        if (celeb_tested == celeb_predicted)\n",
    "            correct+=1\n",
    "        end   \n",
    "                \n",
    "        if display_data == true\n",
    "            println(\"_________________________________\")\n",
    "            println(\"Current: $celeb_tested (#$w)\")\n",
    "            println(\"Pred:    $celeb_predicted (#$pred)\")\n",
    "\n",
    "            println(\"Correct: $(correct/w*100)% \")\n",
    "\n",
    "            IJulia.display([\n",
    "                Gray.(reshape(testing_images[w,:], image_size, image_size)),\n",
    "                Gray.(reshape(training_images[pred,:], image_size, image_size))\n",
    "            ])\n",
    "        end\n",
    "    end\n",
    "            \n",
    "    accurracy = correct/size(testing_images,1)*100\n",
    "    (accurracy, vec(all_min_dif))\n",
    "end\n"
   ]
  },
  {
   "cell_type": "markdown",
   "id": "5619d1c3",
   "metadata": {},
   "source": [
    "#### Run block:"
   ]
  },
  {
   "cell_type": "code",
   "execution_count": 29,
   "id": "5688e04b",
   "metadata": {},
   "outputs": [],
   "source": [
    "# The training set (USE THE SAME FOR EVERY PRECISION)\n",
    "training_set = get_random_n_folders(min_images_per_folder)\n",
    "\n",
    "# Firts run, to get eigenvalues and then -> index_X_percent\n",
    "used_precision = Float16\n",
    "((training_images, testing_images), μ, A, eigenvalues, eigenvectors, elapsed_time, mem_used) = setup_basics(used_precision, training_set);\n",
    "\n",
    "# Testing for the {X_percent}%\n",
    "cumulative_eigenvalues = cumsum(eigenvalues ./ sum(eigenvalues))\n",
    "index_X_percent = findfirst(cumulative_eigenvalues .>= X_percent)\n",
    "\n",
    "\n",
    "# Table format for {accuracy_by_precision}\n",
    "#\n",
    "#           |  Float16  |  Float32  |  Float64  |\n",
    "#-----------|-----------|-----------|-----------|\n",
    "#    k=1    | correct%  | correct%  | correct%  |\n",
    "#    k=2    | correct%  | correct%  | correct%  |\n",
    "#    ...    |   ...     |   ...     |   ...     |\n",
    "#   k = X%  | correct%  | correct%  | correct%  |\n",
    "\n",
    "\n",
    "# Table format for {recognition_dif_by_precision}\n",
    "#\n",
    "#                |  k=1    |    k=2   |   ...   |  k = index_X_percent |\n",
    "#----------------------------------------------------------------------|\n",
    "# Test_image_1   |  error  |   error  |  ...    |        error         |\n",
    "#----------------------------------------------------------------------|\n",
    "# Test_image_2   |  error  |   error  |  ...    |        error         |\n",
    "#----------------------------------------------------------------------|\n",
    "#        ...     |   ...   |    ...   |   ...   |        ...           |\n",
    "#----------------------------------------------------------------------|\n",
    "# Test_image_M   |  error  |   error  |  ...    |        error         |\n",
    "#-----------------------------------------------------------------     |\n",
    "\n",
    "\n",
    "# The data:\n",
    "#\n",
    "accuracy_by_precision = zeros(Float64, index_X_percent, 3)\n",
    "recognition_dif_by_precision = []\n",
    "\n",
    "# TODO: Iterations?\n",
    "\n",
    "for (col, used_precision) in enumerate(precisions)\n",
    "    ((training_images, testing_images), μ, A, eigenvalues, eigenvectors, elapsed_time, mem_used) = setup_basics(used_precision, training_set);\n",
    "\n",
    "    recognition_diff = zeros(Float64, n_folders*n_testing_images, index_X_percent)\n",
    "    \n",
    "    for k in 1:index_X_percent\n",
    "\n",
    "        # accuracy = A single value\n",
    "        # diff     = A complete column\n",
    "        (accuracy, diff) = test_for_k_components(A, eigenvectors[:,1:k], training_set, false)\n",
    "\n",
    "        accuracy_by_precision[k,col] = accuracy\n",
    "        recognition_diff[:,k] = diff\n",
    "        \n",
    "    end\n",
    "    \n",
    "    push!(recognition_dif_by_precision, recognition_diff)\n",
    "end"
   ]
  },
  {
   "cell_type": "code",
   "execution_count": 30,
   "id": "ebd60ddc",
   "metadata": {},
   "outputs": [
    {
     "data": {
      "text/plain": [
       "55×3 Matrix{Float64}:\n",
       " 25.0     25.0     25.0\n",
       " 50.0     50.0     50.0\n",
       " 50.0     50.0     50.0\n",
       " 50.0     50.0     50.0\n",
       " 45.8333  45.8333  45.8333\n",
       " 50.0     50.0     50.0\n",
       " 58.3333  58.3333  58.3333\n",
       " 62.5     62.5     62.5\n",
       " 70.8333  70.8333  70.8333\n",
       " 66.6667  66.6667  66.6667\n",
       " 66.6667  66.6667  66.6667\n",
       " 66.6667  66.6667  66.6667\n",
       " 66.6667  66.6667  66.6667\n",
       "  ⋮                \n",
       " 62.5     62.5     62.5\n",
       " 62.5     62.5     62.5\n",
       " 62.5     62.5     62.5\n",
       " 62.5     62.5     62.5\n",
       " 62.5     62.5     62.5\n",
       " 62.5     62.5     62.5\n",
       " 62.5     62.5     62.5\n",
       " 62.5     62.5     62.5\n",
       " 66.6667  66.6667  66.6667\n",
       " 66.6667  66.6667  66.6667\n",
       " 66.6667  66.6667  66.6667\n",
       " 66.6667  66.6667  66.6667"
      ]
     },
     "execution_count": 30,
     "metadata": {},
     "output_type": "execute_result"
    }
   ],
   "source": [
    "accuracy_by_precision"
   ]
  },
  {
   "cell_type": "code",
   "execution_count": 31,
   "id": "78aea309",
   "metadata": {},
   "outputs": [
    {
     "data": {
      "text/plain": [
       "24×55 Matrix{Float64}:\n",
       " 0.208648   0.739821  3.20446   3.21128  …  10.7832   10.8401   10.8417\n",
       " 0.146082   0.790647  1.49252   1.81987     10.7736   10.7764   10.7843\n",
       " 0.0194562  2.30985   3.17064   3.49171     14.1605   14.2546   14.2564\n",
       " 0.0230539  1.16578   5.33679   5.99195     14.0265   14.0375   14.0377\n",
       " 0.113374   1.15541   3.08742   4.62805     12.1702   12.1727   12.2282\n",
       " 0.306637   2.61853   4.51483   5.14994  …  13.0097   13.0835   13.2247\n",
       " 0.370003   1.86477   3.03135   3.11599     11.6976   11.6977   11.6989\n",
       " 0.569699   1.11394   1.3978    1.98023     10.5192   10.5589   10.5772\n",
       " 1.123      1.66049   2.20035   3.15844      8.20307   8.28277   8.29033\n",
       " 0.0516705  0.56199   0.665732  1.42374     11.6646   11.7346   11.8444\n",
       " 1.25304    1.53345   4.24222   5.85566  …  16.0629   16.314    16.3461\n",
       " 1.5972     2.31413   2.51018   4.30703     13.1344   13.2209   13.222\n",
       " 0.154884   2.73505   4.84932   6.28002     13.7212   13.732    13.7665\n",
       " 0.079181   1.14457   3.63452   4.13079      9.61721   9.81374   9.84139\n",
       " 0.0695486  0.387697  1.5131    2.54185     10.0304   10.0874   10.1327\n",
       " 0.959132   2.64889   2.78706   4.93675  …   9.46757   9.58753   9.59647\n",
       " 0.261006   1.12221   2.67678   3.54246     10.2869   10.3144   10.3147\n",
       " 0.230959   1.02267   3.28631   3.50582     11.5587   11.5692   11.5979\n",
       " 0.381298   1.22287   2.22507   2.60585     10.7119   10.7284   10.7414\n",
       " 0.259998   0.419787  1.98042   3.29541     10.5528   10.5528   10.5784\n",
       " 0.0842774  0.839779  1.77372   1.8811   …   8.18008   8.21139   8.62713\n",
       " 0.221302   2.49257   3.05825   3.07095     11.7632   11.7939   11.83\n",
       " 0.19591    1.90293   2.21191   2.82357     10.0921   10.1094   10.1405\n",
       " 0.156702   0.667868  2.58051   4.59249      9.09277   9.09327   9.09436"
      ]
     },
     "execution_count": 31,
     "metadata": {},
     "output_type": "execute_result"
    }
   ],
   "source": [
    "recognition_dif_by_precision[3]"
   ]
  },
  {
   "cell_type": "code",
   "execution_count": 32,
   "id": "45045ce0",
   "metadata": {},
   "outputs": [
    {
     "data": {
      "text/plain": [
       "24×55 Matrix{Float64}:\n",
       " 0.208643   0.73982   3.20446   3.21128  …  10.7832   10.8401   10.8417\n",
       " 0.146081   0.790646  1.49251   1.81987     10.7736   10.7764   10.7843\n",
       " 0.0194566  2.30985   3.17065   3.49172     14.1605   14.2546   14.2564\n",
       " 0.0230474  1.16578   5.33679   5.99194     14.0265   14.0375   14.0377\n",
       " 0.113379   1.15541   3.08743   4.62805     12.1702   12.1727   12.2282\n",
       " 0.306635   2.61853   4.51484   5.14994  …  13.0097   13.0835   13.2247\n",
       " 0.370003   1.86477   3.03135   3.11599     11.6976   11.6977   11.6989\n",
       " 0.569703   1.11393   1.3978    1.98024     10.5192   10.5589   10.5772\n",
       " 1.123      1.66049   2.20035   3.15844      8.20307   8.28277   8.29034\n",
       " 0.051671   0.56199   0.665737  1.42374     11.6646   11.7346   11.8444\n",
       " 1.25304    1.53345   4.24221   5.85565  …  16.0629   16.314    16.3461\n",
       " 1.59719    2.31412   2.51018   4.30704     13.1344   13.2209   13.222\n",
       " 0.154885   2.73505   4.84931   6.28002     13.7212   13.732    13.7665\n",
       " 0.0791874  1.14457   3.63452   4.13079      9.6172    9.81374   9.84139\n",
       " 0.0695512  0.387697  1.51311   2.54185     10.0304   10.0874   10.1327\n",
       " 0.959128   2.64889   2.78706   4.93676  …   9.46758   9.58753   9.59647\n",
       " 0.261006   1.12221   2.67678   3.54246     10.2869   10.3144   10.3147\n",
       " 0.230959   1.02268   3.2863    3.50581     11.5587   11.5692   11.5979\n",
       " 0.381301   1.22287   2.22507   2.60585     10.7119   10.7284   10.7414\n",
       " 0.260002   0.419786  1.98043   3.29541     10.5528   10.5528   10.5784\n",
       " 0.084275   0.839778  1.77372   1.8811   …   8.18007   8.21139   8.62712\n",
       " 0.221304   2.49257   3.05824   3.07095     11.7631   11.7939   11.83\n",
       " 0.195914   1.90293   2.21191   2.82357     10.0921   10.1094   10.1405\n",
       " 0.156704   0.667868  2.58051   4.59249      9.09278   9.09328   9.09436"
      ]
     },
     "execution_count": 32,
     "metadata": {},
     "output_type": "execute_result"
    }
   ],
   "source": [
    "recognition_dif_by_precision[2]"
   ]
  },
  {
   "cell_type": "code",
   "execution_count": 33,
   "id": "20bba834",
   "metadata": {},
   "outputs": [
    {
     "data": {
      "text/plain": [
       "24×55 Matrix{Float64}:\n",
       " 0.226562   0.73877   3.20703   3.21484  …  10.7812   10.8359   10.8359\n",
       " 0.152344   0.792969  1.49316   1.81543     10.7734   10.7812   10.7891\n",
       " 0.0234375  2.31055   3.17188   3.49219     14.1641   14.2578   14.2578\n",
       " 0.015625   1.16992   5.34766   5.99609     14.0312   14.0391   14.0391\n",
       " 0.113281   1.14453   3.08594   4.62891     12.1719   12.1719   12.2266\n",
       " 0.300781   2.62891   4.51172   5.14453  …  13.0      13.0781   13.2188\n",
       " 0.370117   1.86914   3.02734   3.11133     11.6953   11.6953   11.6953\n",
       " 0.5625     1.11621   1.40039   1.98535     10.5156   10.5547   10.5781\n",
       " 1.11719    1.6582    2.20117   3.16602      8.21094   8.28906   8.29688\n",
       " 0.046875   0.563965  0.664551  1.43457     11.6641   11.7344   11.8516\n",
       " 1.21875    1.50684   4.23438   5.84766  …  16.0625   16.3125   16.3438\n",
       " 1.60938    2.30664   2.50195   4.30078     13.1328   13.2188   13.2188\n",
       " 0.164062   2.73633   4.85156   6.26953     13.7266   13.7344   13.7734\n",
       " 0.0898438  1.14844   3.63867   4.13672      9.61719   9.8125    9.84375\n",
       " 0.0722656  0.385986  1.52344   2.54688     10.0312   10.0859   10.1328\n",
       " 0.976562   2.6543    2.79492   4.94141  …   9.46875   9.58594   9.59375\n",
       " 0.289062   1.1377    2.6875    3.54297     10.2891   10.3125   10.3125\n",
       " 0.226562   1.01465   3.2832    3.49805     11.5625   11.5703   11.6016\n",
       " 0.382812   1.22656   2.23047   2.58984     10.7109   10.7266   10.7344\n",
       " 0.25       0.421875  1.96777   3.29297     10.5469   10.5469   10.5703\n",
       " 0.0820312  0.84668   1.76562   1.87305  …   8.1875    8.21094   8.63281\n",
       " 0.234375   2.50195   3.0625    3.07422     11.7656   11.7969   11.8281\n",
       " 0.208496   1.90723   2.21289   2.82031     10.0938   10.1094   10.1406\n",
       " 0.160156   0.664062  2.57812   4.58984      9.10156   9.10156   9.10156"
      ]
     },
     "execution_count": 33,
     "metadata": {},
     "output_type": "execute_result"
    }
   ],
   "source": [
    "recognition_dif_by_precision[1]"
   ]
  },
  {
   "cell_type": "markdown",
   "id": "4a9bc572",
   "metadata": {},
   "source": [
    "#### Comparison"
   ]
  },
  {
   "cell_type": "code",
   "execution_count": 39,
   "id": "60548a31",
   "metadata": {},
   "outputs": [
    {
     "name": "stdout",
     "output_type": "stream",
     "text": [
      "1 = Difference between values is > than epsilon Float64\n",
      "0 = No\n",
      "\n",
      "Bool[1 1 1 1 1 1 1 1 1 1 1 1 1 1 1 1 1 1 1 1 1 1 1 1 1 1 1 1 1 1 1 1 1 1 1 1 1 1 1 1 1 1 1 1 1 1 1 1 1 1 1 1 1 1 1; 1 1 1 1 1 1 1 1 1 1 1 1 1 1 1 1 1 1 1 1 1 1 1 1 1 1 1 1 1 1 1 1 1 1 1 1 1 1 1 1 1 1 1 1 1 1 1 1 1 1 1 1 1 1 1; 1 1 1 1 1 1 1 1 1 1 1 1 1 1 1 1 1 1 1 1 1 1 1 1 1 1 1 1 1 1 1 1 1 1 1 1 1 1 1 1 1 1 1 1 1 1 1 1 1 1 1 1 1 1 1; 1 1 1 1 1 1 1 1 1 1 1 1 1 1 1 1 1 1 1 1 1 1 1 1 1 1 1 1 1 1 1 1 1 1 1 1 1 1 1 1 1 1 1 1 1 1 1 1 1 1 1 1 1 1 1; 1 1 1 1 1 1 1 1 1 1 1 1 1 1 1 1 1 1 1 1 1 1 1 1 1 1 1 1 1 1 1 1 1 1 1 1 1 1 1 1 1 1 1 1 1 1 1 1 1 1 1 1 1 1 1; 1 1 1 1 1 1 1 1 1 1 1 1 1 1 1 1 1 1 1 1 1 1 1 1 1 1 1 1 1 1 1 1 1 1 1 1 1 1 1 1 1 1 1 1 1 1 1 1 1 1 1 1 1 1 1; 1 1 1 1 1 1 1 1 1 1 1 1 1 1 1 1 1 1 1 1 1 1 1 1 1 1 1 1 1 1 1 1 1 1 1 1 1 1 1 1 1 1 1 1 1 1 1 1 1 1 1 1 1 1 1; 1 1 1 1 1 1 1 1 1 1 1 1 1 1 1 1 1 1 1 1 1 1 1 1 1 1 1 1 1 1 1 1 1 1 1 1 1 1 1 1 1 1 1 1 1 1 1 1 1 1 1 1 1 1 1; 1 1 1 1 1 1 1 1 1 1 1 1 1 1 1 1 1 1 1 1 1 1 1 1 1 1 1 1 1 1 1 1 1 1 1 1 1 1 1 1 1 1 1 1 1 1 1 1 1 1 1 1 1 1 1; 1 1 1 1 1 1 1 1 1 1 1 1 1 1 1 1 1 1 1 1 1 1 1 1 1 1 1 1 1 1 1 1 1 1 1 1 1 1 1 1 1 1 1 1 1 1 1 1 1 1 1 1 1 1 1; 1 1 1 1 1 1 1 1 1 1 1 1 1 1 1 1 1 1 1 1 1 1 1 1 1 1 1 1 1 1 1 1 1 1 1 1 1 1 1 1 1 1 1 1 1 1 1 1 1 1 1 1 1 1 1; 1 1 1 1 1 1 1 1 1 1 1 1 1 1 1 1 1 1 1 1 1 1 1 1 1 1 1 1 1 1 1 1 1 1 1 1 1 1 1 1 1 1 1 1 1 1 1 1 1 1 1 1 1 1 1; 1 1 1 1 1 1 1 1 1 1 1 1 1 1 1 1 1 1 1 1 1 1 1 1 1 1 1 1 1 1 1 1 1 1 1 1 1 1 1 1 1 1 1 1 1 1 1 1 1 1 1 1 1 1 1; 1 1 1 1 1 1 1 1 1 1 1 1 1 1 1 1 1 1 1 1 1 1 1 1 1 1 1 1 1 1 1 1 1 1 1 1 1 1 1 1 1 1 1 1 1 1 1 1 1 1 1 1 1 1 1; 1 1 1 1 1 1 1 1 1 1 1 1 1 1 1 1 1 1 1 1 1 1 1 1 1 1 1 1 1 1 1 1 1 1 1 1 1 1 1 1 1 1 1 1 1 1 1 1 1 1 1 1 1 1 1; 1 1 1 1 1 1 1 1 1 1 1 1 1 1 1 1 1 1 1 1 1 1 1 1 1 1 1 1 1 1 1 1 1 1 1 1 1 1 1 1 1 1 1 1 1 1 1 1 1 1 1 1 1 1 1; 1 1 1 1 1 1 1 1 1 1 1 1 1 1 1 1 1 1 1 1 1 1 1 1 1 1 1 1 1 1 1 1 1 1 1 1 1 1 1 1 1 1 1 1 1 1 1 1 1 1 1 1 1 1 1; 1 1 1 1 1 1 1 1 1 1 1 1 1 1 1 1 1 1 1 1 1 1 1 1 1 1 1 1 1 1 1 1 1 1 1 1 1 1 1 1 1 1 1 1 1 1 1 1 1 1 1 1 1 1 1; 1 1 1 1 1 1 1 1 1 1 1 1 1 1 1 1 1 1 1 1 1 1 1 1 1 1 1 1 1 1 1 1 1 1 1 1 1 1 1 1 1 1 1 1 1 1 1 1 1 1 1 1 1 1 1; 1 1 1 1 1 1 1 1 1 1 1 1 1 1 1 1 1 1 1 1 1 1 1 1 1 1 1 1 1 1 1 1 1 1 1 1 1 1 1 1 1 1 1 1 1 1 1 1 1 1 1 1 1 1 1; 1 1 1 1 1 1 1 1 1 1 1 1 1 1 1 1 1 1 1 1 1 1 1 1 1 1 1 1 1 1 1 1 1 1 1 1 1 1 1 1 1 1 1 1 1 1 1 1 1 1 1 1 1 1 1; 1 1 1 1 1 1 1 1 1 1 1 1 1 1 1 1 1 1 1 1 1 1 1 1 1 1 1 1 1 1 1 1 1 1 1 1 1 1 1 1 1 1 1 1 1 1 1 1 1 1 1 1 1 1 1; 1 1 1 1 1 1 1 1 1 1 1 1 1 1 1 1 1 1 1 1 1 1 1 1 1 1 1 1 1 1 1 1 1 1 1 1 1 1 1 1 1 1 1 1 1 1 1 1 1 1 1 1 1 1 1; 1 1 1 1 1 1 1 1 1 1 1 1 1 1 1 1 1 1 1 1 1 1 1 1 1 1 1 1 1 1 1 1 1 1 1 1 1 1 1 1 1 1 1 1 1 1 1 1 1 1 1 1 1 1 1]\n"
     ]
    }
   ],
   "source": [
    "# Working with eps 64\n",
    "epsilon = eps(Float64)\n",
    "\n",
    "# Abs diff bigger than eps?\n",
    "# [3] = 64\n",
    "# [2] = 32\n",
    "# [1] = 16\n",
    "result = abs.(recognition_dif_by_precision[3] - recognition_dif_by_precision[1]) .> epsilon\n",
    "\n",
    "# Results\n",
    "println(\"1 = Difference between values is > than epsilon $(typeof(epsilon))\")\n",
    "println(\"0 = No\\n\")\n",
    "println(result)"
   ]
  },
  {
   "cell_type": "code",
   "execution_count": null,
   "id": "8f0c8906",
   "metadata": {},
   "outputs": [],
   "source": []
  },
  {
   "cell_type": "code",
   "execution_count": null,
   "id": "23af32be",
   "metadata": {},
   "outputs": [],
   "source": []
  },
  {
   "cell_type": "code",
   "execution_count": null,
   "id": "db0a838d",
   "metadata": {},
   "outputs": [],
   "source": []
  },
  {
   "cell_type": "code",
   "execution_count": null,
   "id": "cab9cd33",
   "metadata": {},
   "outputs": [],
   "source": [
    "\"\"\"\n",
    "DATA FRAMES ---> EXCEL\n",
    "\n",
    "# Define DF\n",
    "df = DataFrame(\n",
    "    used_precision = UInt8[],\n",
    "    image_size = UInt16[],\n",
    "    n_folders = UInt16[],\n",
    "    n_training_images = UInt8[],\n",
    "    n_testing_images = UInt8[],\n",
    "    eigen_elapsed_time = Float64[],\n",
    "    used_eigenfaces = UInt8[],\n",
    "    norm_error = Float64[],\n",
    "    acurracy = Float16[]\n",
    ")\n",
    "\n",
    "# Define a row\n",
    "row_dict = Dict{String, Any}()\n",
    "\n",
    "# Save data\n",
    "row_dict[\"used_precision\"] = p\n",
    "row_dict[\"image_size\"] = image_size\n",
    "row_dict[\"persons\"] = used_persons\n",
    "row_dict[\"images_db\"] = images_to_db\n",
    "row_dict[\"images_to_test\"] = images_to_test\n",
    "row_dict[\"covariance_calc_time\"] = covariance_elapsed_time\n",
    "row_dict[\"eigen_elapsed_time\"] = eigen_elapsed_time\n",
    "row_dict[\"used_eigenfaces\"] = n_components\n",
    "row_dict[\"norm_error\"] = error\n",
    "row_dict[\"acurracy\"] = acurracy\n",
    "\n",
    "# Push to DF\n",
    "push!(df, row_dict)\n",
    "\n",
    "# Write excel\n",
    "XLSX.writetable(\"eigenframe.xlsx\", df, overwrite=true, sheetname=\"Recognition\")\n",
    "\"\"\";"
   ]
  },
  {
   "cell_type": "code",
   "execution_count": null,
   "id": "5a35c8f9",
   "metadata": {},
   "outputs": [],
   "source": []
  }
 ],
 "metadata": {
  "@webio": {
   "lastCommId": null,
   "lastKernelId": null
  },
  "kernelspec": {
   "display_name": "Julia 1.9.3",
   "language": "julia",
   "name": "julia-1.9"
  },
  "language_info": {
   "file_extension": ".jl",
   "mimetype": "application/julia",
   "name": "julia",
   "version": "1.9.3"
  }
 },
 "nbformat": 4,
 "nbformat_minor": 5
}
