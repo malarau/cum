{
 "cells": [
  {
   "cell_type": "code",
   "execution_count": 6,
   "id": "93a45bcc",
   "metadata": {},
   "outputs": [
    {
     "name": "stderr",
     "output_type": "stream",
     "text": [
      "\u001b[32m\u001b[1m    Updating\u001b[22m\u001b[39m registry at `C:\\Users\\s2kjn\\.julia\\registries\\General.toml`\n",
      "\u001b[32m\u001b[1m   Resolving\u001b[22m\u001b[39m package versions...\n",
      "\u001b[32m\u001b[1m  No Changes\u001b[22m\u001b[39m to `C:\\Users\\s2kjn\\.julia\\environments\\v1.9\\Project.toml`\n",
      "\u001b[32m\u001b[1m  No Changes\u001b[22m\u001b[39m to `C:\\Users\\s2kjn\\.julia\\environments\\v1.9\\Manifest.toml`\n",
      "\u001b[32m\u001b[1m   Resolving\u001b[22m\u001b[39m package versions...\n",
      "\u001b[32m\u001b[1m  No Changes\u001b[22m\u001b[39m to `C:\\Users\\s2kjn\\.julia\\environments\\v1.9\\Project.toml`\n",
      "\u001b[32m\u001b[1m  No Changes\u001b[22m\u001b[39m to `C:\\Users\\s2kjn\\.julia\\environments\\v1.9\\Manifest.toml`\n",
      "\u001b[32m\u001b[1m   Resolving\u001b[22m\u001b[39m package versions...\n",
      "\u001b[32m\u001b[1m  No Changes\u001b[22m\u001b[39m to `C:\\Users\\s2kjn\\.julia\\environments\\v1.9\\Project.toml`\n",
      "\u001b[32m\u001b[1m  No Changes\u001b[22m\u001b[39m to `C:\\Users\\s2kjn\\.julia\\environments\\v1.9\\Manifest.toml`\n",
      "\u001b[32m\u001b[1m   Resolving\u001b[22m\u001b[39m package versions...\n",
      "\u001b[32m\u001b[1m  No Changes\u001b[22m\u001b[39m to `C:\\Users\\s2kjn\\.julia\\environments\\v1.9\\Project.toml`\n",
      "\u001b[32m\u001b[1m  No Changes\u001b[22m\u001b[39m to `C:\\Users\\s2kjn\\.julia\\environments\\v1.9\\Manifest.toml`\n",
      "\u001b[32m\u001b[1m   Resolving\u001b[22m\u001b[39m package versions...\n",
      "\u001b[32m\u001b[1m  No Changes\u001b[22m\u001b[39m to `C:\\Users\\s2kjn\\.julia\\environments\\v1.9\\Project.toml`\n",
      "\u001b[32m\u001b[1m  No Changes\u001b[22m\u001b[39m to `C:\\Users\\s2kjn\\.julia\\environments\\v1.9\\Manifest.toml`\n",
      "\u001b[32m\u001b[1m   Resolving\u001b[22m\u001b[39m package versions...\n",
      "\u001b[32m\u001b[1m  No Changes\u001b[22m\u001b[39m to `C:\\Users\\s2kjn\\.julia\\environments\\v1.9\\Project.toml`\n",
      "\u001b[32m\u001b[1m  No Changes\u001b[22m\u001b[39m to `C:\\Users\\s2kjn\\.julia\\environments\\v1.9\\Manifest.toml`\n"
     ]
    }
   ],
   "source": [
    "# Required pkg\n",
    "import Pkg;\n",
    "Pkg.add(\"Images\")\n",
    "Pkg.add(\"LinearAlgebra\")\n",
    "Pkg.add(\"Plots\")\n",
    "Pkg.add(\"Interpolations\")\n",
    "Pkg.add(\"DataFrames\")\n",
    "Pkg.add(\"XLSX\")\n",
    "using Images, Statistics, LinearAlgebra, Plots, Interpolations, Random, DataFrames, XLSX"
   ]
  },
  {
   "cell_type": "markdown",
   "id": "39399053",
   "metadata": {},
   "source": [
    "### [Auxiliary functions] to get: training_images, testing_images\n",
    "#### Each with a size = M * N^2\n",
    "\n",
    "M = Number of images (min_images_per_folder)\n",
    "\n",
    "N^2 = A vector of the original image_size*image_size image"
   ]
  },
  {
   "cell_type": "code",
   "execution_count": 7,
   "id": "225e53e3",
   "metadata": {},
   "outputs": [
    {
     "data": {
      "text/plain": [
       "get_images (generic function with 2 methods)"
      ]
     },
     "execution_count": 7,
     "metadata": {},
     "output_type": "execute_result"
    }
   ],
   "source": [
    "# Get useful folders\n",
    "\n",
    "# Return a Vector{String} with all the folders with {min_images_per_folder} inside.\n",
    "function get_useful_folders(min_images)\n",
    "    ### Getting images\n",
    "    useful_folders = Vector{String}()\n",
    "    \n",
    "    itr = walkdir(base_dir)    \n",
    "    (root, dirs, files) = first(itr)\n",
    "    for d in dirs\n",
    "        images_on_folder = readdir(base_dir * d)\n",
    "        if size(images_on_folder)[1] >= min_images\n",
    "            push!(useful_folders, base_dir * d * \"/\")\n",
    "        end\n",
    "    end\n",
    "    useful_folders\n",
    "end\n",
    "\n",
    "# After filter by get_useful_folders(), get random {n_folders}\n",
    "function get_random_n_folders(min_images_per_folder)\n",
    "    # Get all the useful folders\n",
    "    useful_folders = get_useful_folders(min_images_per_folder)\n",
    "    # Get random folders from {useful_folders}\n",
    "    rand(useful_folders, n_folders)\n",
    "end\n",
    "\n",
    "# Get all images from {n_folders} random folders, each case for {training_images} and {testing_images}\n",
    "# Return a Matrix, size = M * N^2\n",
    "#     M = Number of images (min_images_per_folder)\n",
    "#     N^2 = A row vector of the original N*N image (now: 1*N^2)\n",
    "\n",
    "function get_images(float_type, working_with=nothing)\n",
    "    \n",
    "    # Pick {n_folders} to work with if {working_with} not provided\n",
    "    if working_with === nothing\n",
    "       working_with = get_random_n_folders(min_images_per_folder)\n",
    "    end    \n",
    "        \n",
    "    training_images = zeros(float_type, size(working_with, 1)*n_training_images,  image_size*image_size)\n",
    "    testing_images = zeros(float_type, size(working_with, 1)*n_testing_images,  image_size*image_size)\n",
    "    \n",
    "    # For every folder, get pictures\n",
    "    for (i, folder) in enumerate(working_with)\n",
    "        cdir = readdir(folder)        \n",
    "        \n",
    "        # Google Drive create a \"desktop.ini\", then I have to \"findfirst\" and delete element\n",
    "        splice!(cdir, findfirst(contains(\"desktop.ini\"), cdir))\n",
    "            \n",
    "        training_count = 1\n",
    "        testing_count = 1\n",
    "\n",
    "        for image_relative_path in cdir \n",
    "            \n",
    "            row_im = vec(float_type.(Gray.( imresize(load(folder * image_relative_path), image_size, image_size) )))' # 1 x N*N\n",
    "            #display(Gray.(load(folder * image_relative_path)))\n",
    "            \n",
    "            if training_count <= n_training_images\n",
    "                training_images[ (n_training_images*(i-1) + training_count),:] = row_im\n",
    "                training_count += 1\n",
    "            elseif testing_count <= n_testing_images\n",
    "                testing_images[ (n_testing_images*(i-1) + testing_count),:] = row_im\n",
    "                testing_count += 1\n",
    "            else\n",
    "                break  # Stop here if both training and testing images are collected\n",
    "            end\n",
    "        end\n",
    "    end\n",
    "    (training_images, testing_images)\n",
    "end"
   ]
  },
  {
   "cell_type": "code",
   "execution_count": 8,
   "id": "9e00d89e",
   "metadata": {},
   "outputs": [
    {
     "data": {
      "text/plain": [
       "show_testing_images (generic function with 1 method)"
      ]
     },
     "execution_count": 8,
     "metadata": {},
     "output_type": "execute_result"
    }
   ],
   "source": [
    "function show_training_images(images)\n",
    "    for i in 1:n_folders\n",
    "        row = vcat([ Gray.(reshape(images[j,:], image_size, image_size)) for j in (n_training_images*(i-1))+1:((n_training_images*(i-1))+n_training_images)])\n",
    "        display(row)\n",
    "    end    \n",
    "end\n",
    "\n",
    "function show_testing_images(images)\n",
    "    for i in 1:n_folders\n",
    "        row = vcat([ Gray.(reshape(images[j,:], image_size, image_size)) for j in (n_testing_images*(i-1))+1:((n_testing_images*(i-1))+n_testing_images)])\n",
    "        display(row)\n",
    "    end    \n",
    "end"
   ]
  },
  {
   "cell_type": "markdown",
   "id": "b254de3e",
   "metadata": {},
   "source": [
    "# Getting the basics\n",
    "\n",
    "### μ, A, C, eigenvalues, eigenvectors\n",
    "\n",
    "#### n_folders\n",
    "Number of folders to use, randomly selected. **Between 1 and _size(get_useful_folders(n_folders), 1)_**\n",
    "\n",
    "#### n_training_images\n",
    "Number of training images to pick from every folder\n",
    "\n",
    "#### n_testing_images\n",
    "Same but for testing\n",
    "\n",
    "#### min_images_per_folder\n",
    "Before, it will filter the folders on the directory by {min_images_per_folder}"
   ]
  },
  {
   "cell_type": "code",
   "execution_count": 118,
   "id": "1475d4ea",
   "metadata": {},
   "outputs": [],
   "source": [
    "# ./lfw/  = Color, not aligned\n",
    "# ./lfw2/ = Black and white, already aligned (eyes)\n",
    "base_dir = \"./lfw/\" \n",
    "image_size = 64\n",
    "\n",
    "n_folders = 10\n",
    "n_training_images = 12\n",
    "n_testing_images = 6\n",
    "\n",
    "min_images_per_folder = n_training_images + n_testing_images + 1; # +1 because google drive creating desktop.ini"
   ]
  },
  {
   "cell_type": "markdown",
   "id": "e07192e5",
   "metadata": {},
   "source": [
    "#### (training_images, testing_images), μ, A, eigenvalues, eigenvectors, elapsed_time, mem_used"
   ]
  },
  {
   "cell_type": "code",
   "execution_count": 169,
   "id": "be62963c",
   "metadata": {},
   "outputs": [
    {
     "data": {
      "text/plain": [
       "setup_basics (generic function with 2 methods)"
      ]
     },
     "execution_count": 169,
     "metadata": {},
     "output_type": "execute_result"
    }
   ],
   "source": [
    "function setup_basics(float_type, folders=nothing)\n",
    "    (training_images, testing_images) = get_images(float_type, folders)\n",
    "    \n",
    "    # Mean\n",
    "    μ = mean(training_images, dims = 1)\n",
    "\n",
    "    # Centered matrix\n",
    "    A = training_images.-μ\n",
    "\n",
    "    # Covariance (N2xN2) and eigen\n",
    "    run_block = @timed begin\n",
    "        (eigenvalues, eigenvectors) = eigen(cov(A), sortby = x -> -x)\n",
    "    end\n",
    "    \n",
    "    (eigenvalues, eigenvectors) = run_block.value # Again\n",
    "    elapsed_time = run_block.time\n",
    "    mem_used = run_block.bytes / 1024^3 # Bytes to Gigabytes\n",
    "    \n",
    "    (training_images, testing_images), μ, A, eigenvalues, eigenvectors, elapsed_time, mem_used\n",
    "end"
   ]
  },
  {
   "cell_type": "markdown",
   "id": "5465428e",
   "metadata": {},
   "source": [
    "## Set folders to use, or random"
   ]
  },
  {
   "cell_type": "code",
   "execution_count": 232,
   "id": "55a04b2a",
   "metadata": {},
   "outputs": [],
   "source": [
    "# Set folders to use, or random\n",
    "\n",
    "# Get random folders \n",
    "#random_n_folders = get_random_n_folders(min_images_per_folder)\n",
    "\n",
    "# Fixed\n",
    "random_n_folders = [\n",
    " \"./lfw/Guillermo_Coria/\",\n",
    " \"./lfw/Atal_Bihari_Vajpayee/\",\n",
    " \"./lfw/Kofi_Annan/\",\n",
    " \"./lfw/Nicole_Kidman/\",\n",
    " \"./lfw/Kofi_Annan/\",\n",
    " \"./lfw/Pervez_Musharraf/\",\n",
    " \"./lfw/Richard_Myers/\",\n",
    " \"./lfw/Tom_Daschle/\",\n",
    " \"./lfw/Amelie_Mauresmo/\",\n",
    " \"./lfw/Atal_Bihari_Vajpayee/\"\n",
    "];"
   ]
  },
  {
   "cell_type": "code",
   "execution_count": 171,
   "id": "e8c3d772",
   "metadata": {},
   "outputs": [
    {
     "data": {
      "text/plain": [
       "reconstruct_for_k_eigenfaces (generic function with 1 method)"
      ]
     },
     "execution_count": 171,
     "metadata": {},
     "output_type": "execute_result"
    }
   ],
   "source": []
  },
  {
   "cell_type": "markdown",
   "id": "d8324fa6",
   "metadata": {},
   "source": [
    "# Reconstruction\n",
    "## Measuring _data_ differences for: Float 16, 32, 64, for every k on every image"
   ]
  },
  {
   "cell_type": "code",
   "execution_count": 143,
   "id": "c997545a",
   "metadata": {},
   "outputs": [
    {
     "data": {
      "text/plain": [
       "3-element Vector{DataType}:\n",
       " Float16\n",
       " Float32\n",
       " Float64"
      ]
     },
     "execution_count": 143,
     "metadata": {},
     "output_type": "execute_result"
    }
   ],
   "source": [
    "precisions = [Float16, Float32, Float64]"
   ]
  },
  {
   "cell_type": "markdown",
   "id": "f5601538",
   "metadata": {},
   "source": [
    "#### [Auxiliary functions]:"
   ]
  },
  {
   "cell_type": "code",
   "execution_count": 316,
   "id": "89d39f28",
   "metadata": {},
   "outputs": [
    {
     "data": {
      "text/plain": [
       "reconstruc_all_for_X_percent_of_k (generic function with 1 method)"
      ]
     },
     "execution_count": 316,
     "metadata": {},
     "output_type": "execute_result"
    }
   ],
   "source": [
    "#\n",
    "# Returns a vector with the norm error between original and reconstructed using k vectors.\n",
    "#\n",
    "function reconstruct_for_k_eigenfaces(k, display_images)\n",
    "    # Use k components\n",
    "    U = eigenvectors[:, 1:k]\n",
    "\n",
    "    # Projections\n",
    "    P = transpose(U) * transpose(A)\n",
    "\n",
    "    # Reconstruction using k eigenvectors\n",
    "    reconstructed_images = (P' * U').+μ\n",
    "    \n",
    "    if display_images == true\n",
    "        display(\n",
    "            [\n",
    "                Gray.(reshape(training_images[2,:], image_size, image_size)), # Original\n",
    "                Gray.(reshape(reconstructed_images[2,:], image_size, image_size))  # Using k eigenfaces\n",
    "            ]\n",
    "        )\n",
    "    end\n",
    "    return norm.(eachrow(training_images - reconstructed_images), 2) # row_norms\n",
    "end\n",
    "\n",
    "\n",
    "# For every precision creates a table with the different reconstruction errors for every k on every image.\n",
    "# Example:\n",
    "\n",
    "#           |  k=1    |    k=2   |   ...   |  k = index_X_percent |\n",
    "#-----------------------------------------------------------------|\n",
    "# Image_1   |  error  |   error  |  ...    |        error         |\n",
    "#-----------------------------------------------------------------|\n",
    "# Image_2   |  error  |   error  |  ...    |        error         |\n",
    "#-----------------------------------------------------------------|\n",
    "#   ...     |   ...   |    ...   |   ...   |        ...           |\n",
    "#-----------------------------------------------------------------|\n",
    "# Image_M   |  error  |   error  |  ...    |        error         |\n",
    "#-----------------------------------------------------------------|\n",
    "\n",
    "\n",
    "function reconstruc_all_for_X_percent_of_k(percent)\n",
    "    errors_by_precision = []\n",
    "    \n",
    "    training_set = get_random_n_folders(min_images_per_folder)\n",
    "    \n",
    "    for used_precision in precisions\n",
    "        \n",
    "        # Getting the basics\n",
    "        ((training_images, testing_images), μ, A, eigenvalues, eigenvectors, elapsed_time, mem_used) = setup_basics(used_precision, training_set);\n",
    "        \n",
    "        # Using the to XX% most significant of all eigenvalues\n",
    "        cumulative_eigenvalues = cumsum(eigenvalues./sum(eigenvalues))\n",
    "        index_X_percent = findfirst(cumulative_eigenvalues .>= (percent/100))\n",
    "        \n",
    "        errors_by_k = zeros(Float64, n_folders*n_training_images, index_X_percent)\n",
    "        for k in 1:index_X_percent\n",
    "            errors_by_k[:,k] = reconstruct_for_k_eigenfaces(k, false)\n",
    "        end\n",
    "            \n",
    "        push!(errors_by_precision, errors_by_k)\n",
    "    end\n",
    "    errors_by_precision\n",
    "end\n",
    "\n"
   ]
  },
  {
   "cell_type": "markdown",
   "id": "d9c918a7",
   "metadata": {},
   "source": [
    "#### Run function"
   ]
  },
  {
   "cell_type": "code",
   "execution_count": 317,
   "id": "c5e1bc82",
   "metadata": {},
   "outputs": [],
   "source": [
    "errors_by_precision = reconstruc_all_for_X_percent_of_k(99);"
   ]
  },
  {
   "cell_type": "markdown",
   "id": "f8d612f5",
   "metadata": {},
   "source": [
    "#### Analysis"
   ]
  },
  {
   "cell_type": "code",
   "execution_count": 320,
   "id": "042f7a1f",
   "metadata": {},
   "outputs": [
    {
     "name": "stdout",
     "output_type": "stream",
     "text": [
      "Bool[0 0 0 0 0 0 0; 0 0 0 0 0 0 0; 0 0 0 0 0 0 0; 0 0 0 0 0 0 0; 0 0 0 0 0 0 0; 0 0 0 0 0 0 0; 0 0 0 0 0 0 0; 0 0 0 0 0 0 0]\n"
     ]
    }
   ],
   "source": [
    "# Working with eps 64\n",
    "epsilon = eps(Float64)\n",
    "\n",
    "# Absolite diff bigger than eps? (64 vs 16)\n",
    "result = abs.(errors_by_precision[3] - errors_by_precision[2]) .> epsilon\n",
    "\n",
    "# Results\n",
    "println(result)"
   ]
  },
  {
   "cell_type": "code",
   "execution_count": null,
   "id": "9cba3b49",
   "metadata": {},
   "outputs": [],
   "source": []
  },
  {
   "cell_type": "markdown",
   "id": "4e509535",
   "metadata": {},
   "source": [
    "## Measuring _mem and time_ differences for: Float 16, 32, 64 on setup"
   ]
  },
  {
   "cell_type": "markdown",
   "id": "3f55ba77",
   "metadata": {},
   "source": [
    "#### Run block"
   ]
  },
  {
   "cell_type": "code",
   "execution_count": 324,
   "id": "cee6aefe",
   "metadata": {},
   "outputs": [],
   "source": [
    "#\n",
    "# Memory and time used to calculate covariance matrix and eigen for F16, 32, 64\n",
    "#\n",
    "mem_time_by_precision = []\n",
    "    \n",
    "#\n",
    "# Original values -> Aux\n",
    "aux_n_folders = n_folders\n",
    "aux_n_training_images = n_training_images\n",
    "aux_n_testing_images = n_testing_images\n",
    "aux_random_n_folders = random_n_folders\n",
    "\n",
    "# Different values to test:\n",
    "array_n_folders = [2, 10, 20] # <-------- Modify this\n",
    "array_n_training_images = [4, 8] # <-------- Modify this\n",
    "\n",
    "# Update {min_images_per_folder} using the bigger values\n",
    "min_images_per_folder = array_n_folders[end] + array_n_training_images[end] + 1; # +1 because google drive creating desktop.ini\n",
    "\n",
    "# Use the new {min_images_per_folder} to get the folders\n",
    "training_set = get_random_n_folders(min_images_per_folder)\n",
    "\n",
    "for used_precision in precisions\n",
    "\n",
    "    data = zeros(Float64, size(array_n_folders,1)*size(array_n_training_images,1), 4) \n",
    "    index = 1\n",
    "    # Table data:\n",
    "\n",
    "    # n_folders | n_training_images | elapsed_time | mem_used\n",
    "    #    ..              ..                ..           ..\n",
    "    #    ..              ..                ..           ..\n",
    "\n",
    "    for aux1 in array_n_folders\n",
    "        n_folders = aux1\n",
    "\n",
    "        for aux2 in array_n_training_images\n",
    "            n_training_images = aux2\n",
    "\n",
    "            # Working here...\n",
    "            ((training_images, testing_images), μ, A, eigenvalues, eigenvectors, elapsed_time, mem_used) = setup_basics(used_precision, training_set);\n",
    "\n",
    "            # Save data:\n",
    "            data[index,:] = [n_folders, n_training_images, elapsed_time, mem_used]\n",
    "            index += 1            \n",
    "        end\n",
    "    end\n",
    "\n",
    "    push!(mem_time_by_precision, data)\n",
    "end\n",
    "\n",
    "# Aux -> Original values\n",
    "n_folders = aux_n_folders\n",
    "n_training_images = aux_n_training_images\n",
    "n_testing_images = aux_n_testing_images;"
   ]
  },
  {
   "cell_type": "markdown",
   "id": "3e48941c",
   "metadata": {},
   "source": [
    "#### Show data"
   ]
  },
  {
   "cell_type": "code",
   "execution_count": 329,
   "id": "5268940f",
   "metadata": {},
   "outputs": [
    {
     "name": "stdout",
     "output_type": "stream",
     "text": [
      "n_folders | n_training_images | elapsed_time | mem_used\n"
     ]
    },
    {
     "data": {
      "text/plain": [
       "6×4 Matrix{Float64}:\n",
       "  2.0  4.0  3.2363   0.251085\n",
       "  2.0  8.0  3.15272  0.251207\n",
       " 10.0  4.0  3.45625  0.251085\n",
       " 10.0  8.0  3.26348  0.251207\n",
       " 20.0  4.0  3.17593  0.251085\n",
       " 20.0  8.0  3.17135  0.251207"
      ]
     },
     "execution_count": 329,
     "metadata": {},
     "output_type": "execute_result"
    }
   ],
   "source": [
    "println(\"n_folders | n_training_images | elapsed_time | mem_used\")\n",
    "mem_time_by_precision[2]"
   ]
  },
  {
   "cell_type": "markdown",
   "id": "88ca7c63",
   "metadata": {},
   "source": [
    "## Plot eigenvalues"
   ]
  },
  {
   "cell_type": "markdown",
   "id": "78c9c71e",
   "metadata": {},
   "source": [
    "#### Setup data first:"
   ]
  },
  {
   "cell_type": "code",
   "execution_count": 209,
   "id": "75bc10f9",
   "metadata": {},
   "outputs": [
    {
     "data": {
      "text/plain": [
       "0.95"
      ]
     },
     "execution_count": 209,
     "metadata": {},
     "output_type": "execute_result"
    }
   ],
   "source": [
    "n_folders = 5\n",
    "n_training_images = 7\n",
    "n_testing_images = 6\n",
    "\n",
    "min_images_per_folder = n_training_images + n_testing_images + 1; # +1 because google drive creating desktop.ini\n",
    "\n",
    "((training_images, testing_images), μ, A, eigenvalues, eigenvectors, elapsed_time, mem_used) = setup_basics(used_precision);\n",
    "\n",
    "\n",
    "X_percent = 95\n",
    "X_percent = X_percent / 100"
   ]
  },
  {
   "cell_type": "markdown",
   "id": "428c8a04",
   "metadata": {},
   "source": [
    "#### Run block:"
   ]
  },
  {
   "cell_type": "code",
   "execution_count": 234,
   "id": "bd2c6c5f",
   "metadata": {},
   "outputs": [
    {
     "data": {
      "image/png": "[encoded data removed]",
      "image/svg+xml": [
       "<?xml version=\"1.0\" encoding=\"utf-8\"?>\n",
       "<svg xmlns=\"http://www.w3.org/2000/svg\" xmlns:xlink=\"http://www.w3.org/1999/xlink\" width=\"600\" height=\"400\" viewBox=\"0 0 2400 1600\">\n",
       "<defs>\n",
       "  <clipPath id=\"clip240\">\n",
       "    <rect x=\"0\" y=\"0\" width=\"2400\" height=\"1600\"/>\n",
       "  </clipPath>\n",
       "</defs>\n",
       "<path clip-path=\"url(#clip240)\" d=\"M0 1600 L2400 1600 L2400 0 L0 0  Z\" fill=\"#ffffff\" fill-rule=\"evenodd\" fill-opacity=\"1\"/>\n",
       "<defs>\n",
       "  <clipPath id=\"clip241\">\n",
       "    <rect x=\"480\" y=\"0\" width=\"1681\" height=\"1600\"/>\n",
       "  </clipPath>\n",
       "</defs>\n",
       "<path clip-path=\"url(#clip240)\" d=\"M186.274 1233.37 L2352.76 1233.37 L2352.76 114.832 L186.274 114.832  Z\" fill=\"#ffffff\" fill-rule=\"evenodd\" fill-opacity=\"1\"/>\n",
       "<defs>\n",
       "  <clipPath id=\"clip242\">\n",
       "    <rect x=\"186\" y=\"114\" width=\"2167\" height=\"1120\"/>\n",
       "  </clipPath>\n",
       "</defs>\n",
       "<polyline clip-path=\"url(#clip242)\" style=\"stroke:#000000; stroke-linecap:round; stroke-linejoin:round; stroke-width:2; stroke-opacity:0.1; fill:none\" points=\"200.058,1233.37 200.058,114.832 \"/>\n",
       "<polyline clip-path=\"url(#clip242)\" style=\"stroke:#000000; stroke-linecap:round; stroke-linejoin:round; stroke-width:2; stroke-opacity:0.1; fill:none\" points=\"675.372,1233.37 675.372,114.832 \"/>\n",
       "<polyline clip-path=\"url(#clip242)\" style=\"stroke:#000000; stroke-linecap:round; stroke-linejoin:round; stroke-width:2; stroke-opacity:0.1; fill:none\" points=\"1150.69,1233.37 1150.69,114.832 \"/>\n",
       "<polyline clip-path=\"url(#clip242)\" style=\"stroke:#000000; stroke-linecap:round; stroke-linejoin:round; stroke-width:2; stroke-opacity:0.1; fill:none\" points=\"1626,1233.37 1626,114.832 \"/>\n",
       "<polyline clip-path=\"url(#clip242)\" style=\"stroke:#000000; stroke-linecap:round; stroke-linejoin:round; stroke-width:2; stroke-opacity:0.1; fill:none\" points=\"2101.31,1233.37 2101.31,114.832 \"/>\n",
       "<polyline clip-path=\"url(#clip240)\" style=\"stroke:#000000; stroke-linecap:round; stroke-linejoin:round; stroke-width:4; stroke-opacity:1; fill:none\" points=\"186.274,1233.37 2352.76,1233.37 \"/>\n",
       "<polyline clip-path=\"url(#clip240)\" style=\"stroke:#000000; stroke-linecap:round; stroke-linejoin:round; stroke-width:4; stroke-opacity:1; fill:none\" points=\"200.058,1233.37 200.058,1217.96 \"/>\n",
       "<polyline clip-path=\"url(#clip240)\" style=\"stroke:#000000; stroke-linecap:round; stroke-linejoin:round; stroke-width:4; stroke-opacity:1; fill:none\" points=\"675.372,1233.37 675.372,1217.96 \"/>\n",
       "<polyline clip-path=\"url(#clip240)\" style=\"stroke:#000000; stroke-linecap:round; stroke-linejoin:round; stroke-width:4; stroke-opacity:1; fill:none\" points=\"1150.69,1233.37 1150.69,1217.96 \"/>\n",
       "<polyline clip-path=\"url(#clip240)\" style=\"stroke:#000000; stroke-linecap:round; stroke-linejoin:round; stroke-width:4; stroke-opacity:1; fill:none\" points=\"1626,1233.37 1626,1217.96 \"/>\n",
       "<polyline clip-path=\"url(#clip240)\" style=\"stroke:#000000; stroke-linecap:round; stroke-linejoin:round; stroke-width:4; stroke-opacity:1; fill:none\" points=\"2101.31,1233.37 2101.31,1217.96 \"/>\n",
       "<path clip-path=\"url(#clip240)\" d=\"M200.058 1264.29 Q196.447 1264.29 194.618 1267.85 Q192.813 1271.39 192.813 1278.52 Q192.813 1285.63 194.618 1289.19 Q196.447 1292.73 200.058 1292.73 Q203.692 1292.73 205.498 1289.19 Q207.327 1285.63 207.327 1278.52 Q207.327 1271.39 205.498 1267.85 Q203.692 1264.29 200.058 1264.29 M200.058 1260.58 Q205.868 1260.58 208.924 1265.19 Q212.002 1269.77 212.002 1278.52 Q212.002 1287.25 208.924 1291.86 Q205.868 1296.44 200.058 1296.44 Q194.248 1296.44 191.169 1291.86 Q188.114 1287.25 188.114 1278.52 Q188.114 1269.77 191.169 1265.19 Q194.248 1260.58 200.058 1260.58 Z\" fill=\"#000000\" fill-rule=\"nonzero\" fill-opacity=\"1\" /><path clip-path=\"url(#clip240)\" d=\"M650.06 1291.83 L657.699 1291.83 L657.699 1265.47 L649.389 1267.13 L649.389 1262.87 L657.652 1261.21 L662.328 1261.21 L662.328 1291.83 L669.967 1291.83 L669.967 1295.77 L650.06 1295.77 L650.06 1291.83 Z\" fill=\"#000000\" fill-rule=\"nonzero\" fill-opacity=\"1\" /><path clip-path=\"url(#clip240)\" d=\"M689.412 1264.29 Q685.8 1264.29 683.972 1267.85 Q682.166 1271.39 682.166 1278.52 Q682.166 1285.63 683.972 1289.19 Q685.8 1292.73 689.412 1292.73 Q693.046 1292.73 694.851 1289.19 Q696.68 1285.63 696.68 1278.52 Q696.68 1271.39 694.851 1267.85 Q693.046 1264.29 689.412 1264.29 M689.412 1260.58 Q695.222 1260.58 698.277 1265.19 Q701.356 1269.77 701.356 1278.52 Q701.356 1287.25 698.277 1291.86 Q695.222 1296.44 689.412 1296.44 Q683.601 1296.44 680.523 1291.86 Q677.467 1287.25 677.467 1278.52 Q677.467 1269.77 680.523 1265.19 Q683.601 1260.58 689.412 1260.58 Z\" fill=\"#000000\" fill-rule=\"nonzero\" fill-opacity=\"1\" /><path clip-path=\"url(#clip240)\" d=\"M1129.46 1291.83 L1145.78 1291.83 L1145.78 1295.77 L1123.83 1295.77 L1123.83 1291.83 Q1126.5 1289.08 1131.08 1284.45 Q1135.69 1279.8 1136.87 1278.45 Q1139.11 1275.93 1139.99 1274.19 Q1140.89 1272.43 1140.89 1270.74 Q1140.89 1267.99 1138.95 1266.25 Q1137.03 1264.52 1133.93 1264.52 Q1131.73 1264.52 1129.27 1265.28 Q1126.84 1266.05 1124.07 1267.6 L1124.07 1262.87 Q1126.89 1261.74 1129.34 1261.16 Q1131.8 1260.58 1133.83 1260.58 Q1139.2 1260.58 1142.4 1263.27 Q1145.59 1265.95 1145.59 1270.44 Q1145.59 1272.57 1144.78 1274.49 Q1144 1276.39 1141.89 1278.99 Q1141.31 1279.66 1138.21 1282.87 Q1135.11 1286.07 1129.46 1291.83 Z\" fill=\"#000000\" fill-rule=\"nonzero\" fill-opacity=\"1\" /><path clip-path=\"url(#clip240)\" d=\"M1165.59 1264.29 Q1161.98 1264.29 1160.15 1267.85 Q1158.35 1271.39 1158.35 1278.52 Q1158.35 1285.63 1160.15 1289.19 Q1161.98 1292.73 1165.59 1292.73 Q1169.23 1292.73 1171.03 1289.19 Q1172.86 1285.63 1172.86 1278.52 Q1172.86 1271.39 1171.03 1267.85 Q1169.23 1264.29 1165.59 1264.29 M1165.59 1260.58 Q1171.4 1260.58 1174.46 1265.19 Q1177.54 1269.77 1177.54 1278.52 Q1177.54 1287.25 1174.46 1291.86 Q1171.4 1296.44 1165.59 1296.44 Q1159.78 1296.44 1156.7 1291.86 Q1153.65 1287.25 1153.65 1278.52 Q1153.65 1269.77 1156.7 1265.19 Q1159.78 1260.58 1165.59 1260.58 Z\" fill=\"#000000\" fill-rule=\"nonzero\" fill-opacity=\"1\" /><path clip-path=\"url(#clip240)\" d=\"M1614.84 1277.13 Q1618.2 1277.85 1620.07 1280.12 Q1621.97 1282.39 1621.97 1285.72 Q1621.97 1290.84 1618.45 1293.64 Q1614.94 1296.44 1608.45 1296.44 Q1606.28 1296.44 1603.96 1296 Q1601.67 1295.58 1599.22 1294.73 L1599.22 1290.21 Q1601.16 1291.35 1603.48 1291.92 Q1605.79 1292.5 1608.32 1292.5 Q1612.71 1292.5 1615.01 1290.77 Q1617.32 1289.03 1617.32 1285.72 Q1617.32 1282.67 1615.17 1280.95 Q1613.04 1279.22 1609.22 1279.22 L1605.19 1279.22 L1605.19 1275.37 L1609.4 1275.37 Q1612.85 1275.37 1614.68 1274.01 Q1616.51 1272.62 1616.51 1270.03 Q1616.51 1267.36 1614.61 1265.95 Q1612.74 1264.52 1609.22 1264.52 Q1607.3 1264.52 1605.1 1264.93 Q1602.9 1265.35 1600.26 1266.23 L1600.26 1262.06 Q1602.92 1261.32 1605.24 1260.95 Q1607.57 1260.58 1609.63 1260.58 Q1614.96 1260.58 1618.06 1263.01 Q1621.16 1265.42 1621.16 1269.54 Q1621.16 1272.41 1619.52 1274.4 Q1617.88 1276.37 1614.84 1277.13 Z\" fill=\"#000000\" fill-rule=\"nonzero\" fill-opacity=\"1\" /><path clip-path=\"url(#clip240)\" d=\"M1640.84 1264.29 Q1637.23 1264.29 1635.4 1267.85 Q1633.59 1271.39 1633.59 1278.52 Q1633.59 1285.63 1635.4 1289.19 Q1637.23 1292.73 1640.84 1292.73 Q1644.47 1292.73 1646.28 1289.19 Q1648.11 1285.63 1648.11 1278.52 Q1648.11 1271.39 1646.28 1267.85 Q1644.47 1264.29 1640.84 1264.29 M1640.84 1260.58 Q1646.65 1260.58 1649.7 1265.19 Q1652.78 1269.77 1652.78 1278.52 Q1652.78 1287.25 1649.7 1291.86 Q1646.65 1296.44 1640.84 1296.44 Q1635.03 1296.44 1631.95 1291.86 Q1628.89 1287.25 1628.89 1278.52 Q1628.89 1269.77 1631.95 1265.19 Q1635.03 1260.58 1640.84 1260.58 Z\" fill=\"#000000\" fill-rule=\"nonzero\" fill-opacity=\"1\" /><path clip-path=\"url(#clip240)\" d=\"M2089.49 1265.28 L2077.68 1283.73 L2089.49 1283.73 L2089.49 1265.28 M2088.26 1261.21 L2094.14 1261.21 L2094.14 1283.73 L2099.07 1283.73 L2099.07 1287.62 L2094.14 1287.62 L2094.14 1295.77 L2089.49 1295.77 L2089.49 1287.62 L2073.88 1287.62 L2073.88 1283.11 L2088.26 1261.21 Z\" fill=\"#000000\" fill-rule=\"nonzero\" fill-opacity=\"1\" /><path clip-path=\"url(#clip240)\" d=\"M2116.8 1264.29 Q2113.19 1264.29 2111.36 1267.85 Q2109.56 1271.39 2109.56 1278.52 Q2109.56 1285.63 2111.36 1289.19 Q2113.19 1292.73 2116.8 1292.73 Q2120.43 1292.73 2122.24 1289.19 Q2124.07 1285.63 2124.07 1278.52 Q2124.07 1271.39 2122.24 1267.85 Q2120.43 1264.29 2116.8 1264.29 M2116.8 1260.58 Q2122.61 1260.58 2125.67 1265.19 Q2128.75 1269.77 2128.75 1278.52 Q2128.75 1287.25 2125.67 1291.86 Q2122.61 1296.44 2116.8 1296.44 Q2110.99 1296.44 2107.91 1291.86 Q2104.86 1287.25 2104.86 1278.52 Q2104.86 1269.77 2107.91 1265.19 Q2110.99 1260.58 2116.8 1260.58 Z\" fill=\"#000000\" fill-rule=\"nonzero\" fill-opacity=\"1\" /><polyline clip-path=\"url(#clip242)\" style=\"stroke:#000000; stroke-linecap:round; stroke-linejoin:round; stroke-width:2; stroke-opacity:0.1; fill:none\" points=\"186.274,1201.73 2352.76,1201.73 \"/>\n",
       "<polyline clip-path=\"url(#clip242)\" style=\"stroke:#000000; stroke-linecap:round; stroke-linejoin:round; stroke-width:2; stroke-opacity:0.1; fill:none\" points=\"186.274,939.709 2352.76,939.709 \"/>\n",
       "<polyline clip-path=\"url(#clip242)\" style=\"stroke:#000000; stroke-linecap:round; stroke-linejoin:round; stroke-width:2; stroke-opacity:0.1; fill:none\" points=\"186.274,677.69 2352.76,677.69 \"/>\n",
       "<polyline clip-path=\"url(#clip242)\" style=\"stroke:#000000; stroke-linecap:round; stroke-linejoin:round; stroke-width:2; stroke-opacity:0.1; fill:none\" points=\"186.274,415.672 2352.76,415.672 \"/>\n",
       "<polyline clip-path=\"url(#clip242)\" style=\"stroke:#000000; stroke-linecap:round; stroke-linejoin:round; stroke-width:2; stroke-opacity:0.1; fill:none\" points=\"186.274,153.653 2352.76,153.653 \"/>\n",
       "<polyline clip-path=\"url(#clip240)\" style=\"stroke:#000000; stroke-linecap:round; stroke-linejoin:round; stroke-width:4; stroke-opacity:1; fill:none\" points=\"186.274,1233.37 186.274,114.832 \"/>\n",
       "<polyline clip-path=\"url(#clip240)\" style=\"stroke:#000000; stroke-linecap:round; stroke-linejoin:round; stroke-width:4; stroke-opacity:1; fill:none\" points=\"186.274,1201.73 205.172,1201.73 \"/>\n",
       "<polyline clip-path=\"url(#clip240)\" style=\"stroke:#000000; stroke-linecap:round; stroke-linejoin:round; stroke-width:4; stroke-opacity:1; fill:none\" points=\"186.274,939.709 205.172,939.709 \"/>\n",
       "<polyline clip-path=\"url(#clip240)\" style=\"stroke:#000000; stroke-linecap:round; stroke-linejoin:round; stroke-width:4; stroke-opacity:1; fill:none\" points=\"186.274,677.69 205.172,677.69 \"/>\n",
       "<polyline clip-path=\"url(#clip240)\" style=\"stroke:#000000; stroke-linecap:round; stroke-linejoin:round; stroke-width:4; stroke-opacity:1; fill:none\" points=\"186.274,415.672 205.172,415.672 \"/>\n",
       "<polyline clip-path=\"url(#clip240)\" style=\"stroke:#000000; stroke-linecap:round; stroke-linejoin:round; stroke-width:4; stroke-opacity:1; fill:none\" points=\"186.274,153.653 205.172,153.653 \"/>\n",
       "<path clip-path=\"url(#clip240)\" d=\"M62.9365 1187.53 Q59.3254 1187.53 57.4967 1191.09 Q55.6912 1194.63 55.6912 1201.76 Q55.6912 1208.87 57.4967 1212.43 Q59.3254 1215.97 62.9365 1215.97 Q66.5707 1215.97 68.3763 1212.43 Q70.205 1208.87 70.205 1201.76 Q70.205 1194.63 68.3763 1191.09 Q66.5707 1187.53 62.9365 1187.53 M62.9365 1183.82 Q68.7467 1183.82 71.8022 1188.43 Q74.8809 1193.01 74.8809 1201.76 Q74.8809 1210.49 71.8022 1215.1 Q68.7467 1219.68 62.9365 1219.68 Q57.1264 1219.68 54.0477 1215.1 Q50.9921 1210.49 50.9921 1201.76 Q50.9921 1193.01 54.0477 1188.43 Q57.1264 1183.82 62.9365 1183.82 Z\" fill=\"#000000\" fill-rule=\"nonzero\" fill-opacity=\"1\" /><path clip-path=\"url(#clip240)\" d=\"M83.0984 1213.13 L87.9827 1213.13 L87.9827 1219.01 L83.0984 1219.01 L83.0984 1213.13 Z\" fill=\"#000000\" fill-rule=\"nonzero\" fill-opacity=\"1\" /><path clip-path=\"url(#clip240)\" d=\"M108.168 1187.53 Q104.557 1187.53 102.728 1191.09 Q100.922 1194.63 100.922 1201.76 Q100.922 1208.87 102.728 1212.43 Q104.557 1215.97 108.168 1215.97 Q111.802 1215.97 113.608 1212.43 Q115.436 1208.87 115.436 1201.76 Q115.436 1194.63 113.608 1191.09 Q111.802 1187.53 108.168 1187.53 M108.168 1183.82 Q113.978 1183.82 117.033 1188.43 Q120.112 1193.01 120.112 1201.76 Q120.112 1210.49 117.033 1215.1 Q113.978 1219.68 108.168 1219.68 Q102.358 1219.68 99.2789 1215.1 Q96.2234 1210.49 96.2234 1201.76 Q96.2234 1193.01 99.2789 1188.43 Q102.358 1183.82 108.168 1183.82 Z\" fill=\"#000000\" fill-rule=\"nonzero\" fill-opacity=\"1\" /><path clip-path=\"url(#clip240)\" d=\"M138.33 1187.53 Q134.719 1187.53 132.89 1191.09 Q131.084 1194.63 131.084 1201.76 Q131.084 1208.87 132.89 1212.43 Q134.719 1215.97 138.33 1215.97 Q141.964 1215.97 143.769 1212.43 Q145.598 1208.87 145.598 1201.76 Q145.598 1194.63 143.769 1191.09 Q141.964 1187.53 138.33 1187.53 M138.33 1183.82 Q144.14 1183.82 147.195 1188.43 Q150.274 1193.01 150.274 1201.76 Q150.274 1210.49 147.195 1215.1 Q144.14 1219.68 138.33 1219.68 Q132.519 1219.68 129.441 1215.1 Q126.385 1210.49 126.385 1201.76 Q126.385 1193.01 129.441 1188.43 Q132.519 1183.82 138.33 1183.82 Z\" fill=\"#000000\" fill-rule=\"nonzero\" fill-opacity=\"1\" /><path clip-path=\"url(#clip240)\" d=\"M63.9319 925.507 Q60.3208 925.507 58.4921 929.072 Q56.6865 932.614 56.6865 939.743 Q56.6865 946.85 58.4921 950.415 Q60.3208 953.956 63.9319 953.956 Q67.5661 953.956 69.3717 950.415 Q71.2004 946.85 71.2004 939.743 Q71.2004 932.614 69.3717 929.072 Q67.5661 925.507 63.9319 925.507 M63.9319 921.804 Q69.742 921.804 72.7976 926.41 Q75.8763 930.993 75.8763 939.743 Q75.8763 948.47 72.7976 953.077 Q69.742 957.66 63.9319 957.66 Q58.1217 957.66 55.043 953.077 Q51.9875 948.47 51.9875 939.743 Q51.9875 930.993 55.043 926.41 Q58.1217 921.804 63.9319 921.804 Z\" fill=\"#000000\" fill-rule=\"nonzero\" fill-opacity=\"1\" /><path clip-path=\"url(#clip240)\" d=\"M84.0938 951.109 L88.978 951.109 L88.978 956.989 L84.0938 956.989 L84.0938 951.109 Z\" fill=\"#000000\" fill-rule=\"nonzero\" fill-opacity=\"1\" /><path clip-path=\"url(#clip240)\" d=\"M103.191 953.054 L119.51 953.054 L119.51 956.989 L97.566 956.989 L97.566 953.054 Q100.228 950.299 104.811 945.669 Q109.418 941.017 110.598 939.674 Q112.844 937.151 113.723 935.415 Q114.626 933.656 114.626 931.966 Q114.626 929.211 112.682 927.475 Q110.76 925.739 107.658 925.739 Q105.459 925.739 103.006 926.503 Q100.575 927.267 97.7974 928.818 L97.7974 924.095 Q100.621 922.961 103.075 922.382 Q105.529 921.804 107.566 921.804 Q112.936 921.804 116.131 924.489 Q119.325 927.174 119.325 931.665 Q119.325 933.794 118.515 935.716 Q117.728 937.614 115.621 940.206 Q115.043 940.878 111.941 944.095 Q108.839 947.29 103.191 953.054 Z\" fill=\"#000000\" fill-rule=\"nonzero\" fill-opacity=\"1\" /><path clip-path=\"url(#clip240)\" d=\"M129.371 922.429 L147.728 922.429 L147.728 926.364 L133.654 926.364 L133.654 934.836 Q134.672 934.489 135.691 934.327 Q136.709 934.142 137.728 934.142 Q143.515 934.142 146.894 937.313 Q150.274 940.484 150.274 945.901 Q150.274 951.479 146.802 954.581 Q143.33 957.66 137.01 957.66 Q134.834 957.66 132.566 957.29 Q130.32 956.919 127.913 956.179 L127.913 951.479 Q129.996 952.614 132.219 953.169 Q134.441 953.725 136.918 953.725 Q140.922 953.725 143.26 951.618 Q145.598 949.512 145.598 945.901 Q145.598 942.29 143.26 940.183 Q140.922 938.077 136.918 938.077 Q135.043 938.077 133.168 938.493 Q131.316 938.91 129.371 939.79 L129.371 922.429 Z\" fill=\"#000000\" fill-rule=\"nonzero\" fill-opacity=\"1\" /><path clip-path=\"url(#clip240)\" d=\"M62.9365 663.489 Q59.3254 663.489 57.4967 667.054 Q55.6912 670.595 55.6912 677.725 Q55.6912 684.831 57.4967 688.396 Q59.3254 691.938 62.9365 691.938 Q66.5707 691.938 68.3763 688.396 Q70.205 684.831 70.205 677.725 Q70.205 670.595 68.3763 667.054 Q66.5707 663.489 62.9365 663.489 M62.9365 659.785 Q68.7467 659.785 71.8022 664.392 Q74.8809 668.975 74.8809 677.725 Q74.8809 686.452 71.8022 691.058 Q68.7467 695.642 62.9365 695.642 Q57.1264 695.642 54.0477 691.058 Q50.9921 686.452 50.9921 677.725 Q50.9921 668.975 54.0477 664.392 Q57.1264 659.785 62.9365 659.785 Z\" fill=\"#000000\" fill-rule=\"nonzero\" fill-opacity=\"1\" /><path clip-path=\"url(#clip240)\" d=\"M83.0984 689.091 L87.9827 689.091 L87.9827 694.97 L83.0984 694.97 L83.0984 689.091 Z\" fill=\"#000000\" fill-rule=\"nonzero\" fill-opacity=\"1\" /><path clip-path=\"url(#clip240)\" d=\"M98.2141 660.41 L116.57 660.41 L116.57 664.345 L102.496 664.345 L102.496 672.818 Q103.515 672.47 104.534 672.308 Q105.552 672.123 106.571 672.123 Q112.358 672.123 115.737 675.294 Q119.117 678.466 119.117 683.882 Q119.117 689.461 115.645 692.563 Q112.172 695.642 105.853 695.642 Q103.677 695.642 101.409 695.271 Q99.1632 694.901 96.7558 694.16 L96.7558 689.461 Q98.8391 690.595 101.061 691.151 Q103.284 691.706 105.76 691.706 Q109.765 691.706 112.103 689.6 Q114.441 687.493 114.441 683.882 Q114.441 680.271 112.103 678.165 Q109.765 676.058 105.76 676.058 Q103.885 676.058 102.01 676.475 Q100.159 676.892 98.2141 677.771 L98.2141 660.41 Z\" fill=\"#000000\" fill-rule=\"nonzero\" fill-opacity=\"1\" /><path clip-path=\"url(#clip240)\" d=\"M138.33 663.489 Q134.719 663.489 132.89 667.054 Q131.084 670.595 131.084 677.725 Q131.084 684.831 132.89 688.396 Q134.719 691.938 138.33 691.938 Q141.964 691.938 143.769 688.396 Q145.598 684.831 145.598 677.725 Q145.598 670.595 143.769 667.054 Q141.964 663.489 138.33 663.489 M138.33 659.785 Q144.14 659.785 147.195 664.392 Q150.274 668.975 150.274 677.725 Q150.274 686.452 147.195 691.058 Q144.14 695.642 138.33 695.642 Q132.519 695.642 129.441 691.058 Q126.385 686.452 126.385 677.725 Q126.385 668.975 129.441 664.392 Q132.519 659.785 138.33 659.785 Z\" fill=\"#000000\" fill-rule=\"nonzero\" fill-opacity=\"1\" /><path clip-path=\"url(#clip240)\" d=\"M63.9319 401.47 Q60.3208 401.47 58.4921 405.035 Q56.6865 408.577 56.6865 415.707 Q56.6865 422.813 58.4921 426.378 Q60.3208 429.919 63.9319 429.919 Q67.5661 429.919 69.3717 426.378 Q71.2004 422.813 71.2004 415.707 Q71.2004 408.577 69.3717 405.035 Q67.5661 401.47 63.9319 401.47 M63.9319 397.767 Q69.742 397.767 72.7976 402.373 Q75.8763 406.957 75.8763 415.707 Q75.8763 424.433 72.7976 429.04 Q69.742 433.623 63.9319 433.623 Q58.1217 433.623 55.043 429.04 Q51.9875 424.433 51.9875 415.707 Q51.9875 406.957 55.043 402.373 Q58.1217 397.767 63.9319 397.767 Z\" fill=\"#000000\" fill-rule=\"nonzero\" fill-opacity=\"1\" /><path clip-path=\"url(#clip240)\" d=\"M84.0938 427.072 L88.978 427.072 L88.978 432.952 L84.0938 432.952 L84.0938 427.072 Z\" fill=\"#000000\" fill-rule=\"nonzero\" fill-opacity=\"1\" /><path clip-path=\"url(#clip240)\" d=\"M97.9826 398.392 L120.205 398.392 L120.205 400.383 L107.658 432.952 L102.774 432.952 L114.58 402.327 L97.9826 402.327 L97.9826 398.392 Z\" fill=\"#000000\" fill-rule=\"nonzero\" fill-opacity=\"1\" /><path clip-path=\"url(#clip240)\" d=\"M129.371 398.392 L147.728 398.392 L147.728 402.327 L133.654 402.327 L133.654 410.799 Q134.672 410.452 135.691 410.29 Q136.709 410.105 137.728 410.105 Q143.515 410.105 146.894 413.276 Q150.274 416.447 150.274 421.864 Q150.274 427.443 146.802 430.544 Q143.33 433.623 137.01 433.623 Q134.834 433.623 132.566 433.253 Q130.32 432.882 127.913 432.142 L127.913 427.443 Q129.996 428.577 132.219 429.132 Q134.441 429.688 136.918 429.688 Q140.922 429.688 143.26 427.581 Q145.598 425.475 145.598 421.864 Q145.598 418.253 143.26 416.146 Q140.922 414.04 136.918 414.04 Q135.043 414.04 133.168 414.457 Q131.316 414.873 129.371 415.753 L129.371 398.392 Z\" fill=\"#000000\" fill-rule=\"nonzero\" fill-opacity=\"1\" /><path clip-path=\"url(#clip240)\" d=\"M53.7467 166.998 L61.3856 166.998 L61.3856 140.633 L53.0754 142.299 L53.0754 138.04 L61.3393 136.373 L66.0152 136.373 L66.0152 166.998 L73.654 166.998 L73.654 170.933 L53.7467 170.933 L53.7467 166.998 Z\" fill=\"#000000\" fill-rule=\"nonzero\" fill-opacity=\"1\" /><path clip-path=\"url(#clip240)\" d=\"M83.0984 165.054 L87.9827 165.054 L87.9827 170.933 L83.0984 170.933 L83.0984 165.054 Z\" fill=\"#000000\" fill-rule=\"nonzero\" fill-opacity=\"1\" /><path clip-path=\"url(#clip240)\" d=\"M108.168 139.452 Q104.557 139.452 102.728 143.017 Q100.922 146.558 100.922 153.688 Q100.922 160.795 102.728 164.359 Q104.557 167.901 108.168 167.901 Q111.802 167.901 113.608 164.359 Q115.436 160.795 115.436 153.688 Q115.436 146.558 113.608 143.017 Q111.802 139.452 108.168 139.452 M108.168 135.748 Q113.978 135.748 117.033 140.355 Q120.112 144.938 120.112 153.688 Q120.112 162.415 117.033 167.021 Q113.978 171.605 108.168 171.605 Q102.358 171.605 99.2789 167.021 Q96.2234 162.415 96.2234 153.688 Q96.2234 144.938 99.2789 140.355 Q102.358 135.748 108.168 135.748 Z\" fill=\"#000000\" fill-rule=\"nonzero\" fill-opacity=\"1\" /><path clip-path=\"url(#clip240)\" d=\"M138.33 139.452 Q134.719 139.452 132.89 143.017 Q131.084 146.558 131.084 153.688 Q131.084 160.795 132.89 164.359 Q134.719 167.901 138.33 167.901 Q141.964 167.901 143.769 164.359 Q145.598 160.795 145.598 153.688 Q145.598 146.558 143.769 143.017 Q141.964 139.452 138.33 139.452 M138.33 135.748 Q144.14 135.748 147.195 140.355 Q150.274 144.938 150.274 153.688 Q150.274 162.415 147.195 167.021 Q144.14 171.605 138.33 171.605 Q132.519 171.605 129.441 167.021 Q126.385 162.415 126.385 153.688 Q126.385 144.938 129.441 140.355 Q132.519 135.748 138.33 135.748 Z\" fill=\"#000000\" fill-rule=\"nonzero\" fill-opacity=\"1\" /><path clip-path=\"url(#clip240)\" d=\"M307.02 14.986 Q301.603 14.986 298.86 20.3332 Q296.152 25.6457 296.152 36.3401 Q296.152 46.9997 298.86 52.3469 Q301.603 57.6594 307.02 57.6594 Q312.471 57.6594 315.18 52.3469 Q317.923 46.9997 317.923 36.3401 Q317.923 25.6457 315.18 20.3332 Q312.471 14.986 307.02 14.986 M307.02 9.43051 Q315.735 9.43051 320.319 16.3402 Q324.937 23.2152 324.937 36.3401 Q324.937 49.4303 320.319 56.34 Q315.735 63.2149 307.02 63.2149 Q298.305 63.2149 293.687 56.34 Q289.104 49.4303 289.104 36.3401 Q289.104 23.2152 293.687 16.3402 Q298.305 9.43051 307.02 9.43051 Z\" fill=\"#000000\" fill-rule=\"nonzero\" fill-opacity=\"1\" /><path clip-path=\"url(#clip240)\" d=\"M337.263 53.3886 L344.589 53.3886 L344.589 62.208 L337.263 62.208 L337.263 53.3886 Z\" fill=\"#000000\" fill-rule=\"nonzero\" fill-opacity=\"1\" /><path clip-path=\"url(#clip240)\" d=\"M360.075 61.1316 L360.075 54.7428 Q362.714 55.9928 365.423 56.6525 Q368.131 57.3122 370.735 57.3122 Q377.679 57.3122 381.325 52.6594 Q385.006 47.972 385.527 38.4581 Q383.513 41.4442 380.422 43.0414 Q377.332 44.6386 373.582 44.6386 Q365.805 44.6386 361.256 39.9512 Q356.742 35.229 356.742 27.0693 Q356.742 19.0832 361.464 14.2569 Q366.186 9.43051 374.034 9.43051 Q383.027 9.43051 387.749 16.3402 Q392.506 23.2152 392.506 36.3401 Q392.506 48.597 386.672 55.9233 Q380.874 63.2149 371.048 63.2149 Q368.409 63.2149 365.7 62.6941 Q362.992 62.1733 360.075 61.1316 M374.034 39.1526 Q378.756 39.1526 381.499 35.9234 Q384.277 32.6943 384.277 27.0693 Q384.277 21.4791 381.499 18.2499 Q378.756 14.986 374.034 14.986 Q369.311 14.986 366.534 18.2499 Q363.791 21.4791 363.791 27.0693 Q363.791 32.6943 366.534 35.9234 Q369.311 39.1526 374.034 39.1526 Z\" fill=\"#000000\" fill-rule=\"nonzero\" fill-opacity=\"1\" /><path clip-path=\"url(#clip240)\" d=\"M405.179 10.368 L432.714 10.368 L432.714 16.2707 L411.603 16.2707 L411.603 28.979 Q413.131 28.4582 414.658 28.2151 Q416.186 27.9374 417.714 27.9374 Q426.394 27.9374 431.464 32.6943 Q436.533 37.4512 436.533 45.5761 Q436.533 53.9442 431.325 58.5969 Q426.117 63.2149 416.638 63.2149 Q413.374 63.2149 409.971 62.6594 Q406.603 62.1038 402.992 60.9927 L402.992 53.9442 Q406.117 55.6455 409.45 56.4789 Q412.783 57.3122 416.499 57.3122 Q422.506 57.3122 426.013 54.1525 Q429.519 50.9928 429.519 45.5761 Q429.519 40.1595 426.013 36.9998 Q422.506 33.8401 416.499 33.8401 Q413.686 33.8401 410.874 34.4651 Q408.096 35.0901 405.179 36.4095 L405.179 10.368 Z\" fill=\"#000000\" fill-rule=\"nonzero\" fill-opacity=\"1\" /><path clip-path=\"url(#clip240)\" d=\"M494.45 39.3956 Q491.429 39.3956 489.693 41.9651 Q487.991 44.5345 487.991 49.1178 Q487.991 53.6317 489.693 56.2358 Q491.429 58.8052 494.45 58.8052 Q497.401 58.8052 499.102 56.2358 Q500.839 53.6317 500.839 49.1178 Q500.839 44.5692 499.102 41.9998 Q497.401 39.3956 494.45 39.3956 M494.45 34.9859 Q499.936 34.9859 503.165 38.8053 Q506.394 42.6248 506.394 49.1178 Q506.394 55.6108 503.13 59.4302 Q499.901 63.2149 494.45 63.2149 Q488.894 63.2149 485.665 59.4302 Q482.436 55.6108 482.436 49.1178 Q482.436 42.59 485.665 38.8053 Q488.929 34.9859 494.45 34.9859 M458.617 13.8402 Q455.63 13.8402 453.894 16.4444 Q452.193 19.0138 452.193 23.5277 Q452.193 28.111 453.894 30.6804 Q455.596 33.2498 458.617 33.2498 Q461.637 33.2498 463.339 30.6804 Q465.075 28.111 465.075 23.5277 Q465.075 19.0485 463.339 16.4444 Q461.603 13.8402 458.617 13.8402 M489.971 9.43051 L495.526 9.43051 L463.096 63.2149 L457.54 63.2149 L489.971 9.43051 M458.617 9.43051 Q464.103 9.43051 467.366 13.2499 Q470.63 17.0346 470.63 23.5277 Q470.63 30.0901 467.366 33.8748 Q464.137 37.6595 458.617 37.6595 Q453.096 37.6595 449.867 33.8748 Q446.672 30.0554 446.672 23.5277 Q446.672 17.0694 449.901 13.2499 Q453.13 9.43051 458.617 9.43051 Z\" fill=\"#000000\" fill-rule=\"nonzero\" fill-opacity=\"1\" /><path clip-path=\"url(#clip240)\" d=\"M567.609 24.8124 L567.609 30.7846 Q564.901 29.2915 562.158 28.5623 Q559.449 27.7985 556.672 27.7985 Q550.456 27.7985 547.019 31.7568 Q543.581 35.6804 543.581 42.7984 Q543.581 49.9164 547.019 53.8747 Q550.456 57.7983 556.672 57.7983 Q559.449 57.7983 562.158 57.0691 Q564.901 56.3053 567.609 54.8122 L567.609 60.715 Q564.935 61.9649 562.053 62.5899 Q559.206 63.2149 555.977 63.2149 Q547.192 63.2149 542.019 57.6941 Q536.845 52.1733 536.845 42.7984 Q536.845 33.2845 542.054 27.8332 Q547.297 22.3818 556.394 22.3818 Q559.345 22.3818 562.158 23.0068 Q564.97 23.5971 567.609 24.8124 Z\" fill=\"#000000\" fill-rule=\"nonzero\" fill-opacity=\"1\" /><path clip-path=\"url(#clip240)\" d=\"M593.789 27.7985 Q588.651 27.7985 585.664 31.8262 Q582.678 35.8193 582.678 42.7984 Q582.678 49.7775 585.63 53.8053 Q588.616 57.7983 593.789 57.7983 Q598.894 57.7983 601.88 53.7705 Q604.866 49.7428 604.866 42.7984 Q604.866 35.8887 601.88 31.8609 Q598.894 27.7985 593.789 27.7985 M593.789 22.3818 Q602.123 22.3818 606.88 27.7985 Q611.637 33.2151 611.637 42.7984 Q611.637 52.3469 606.88 57.7983 Q602.123 63.2149 593.789 63.2149 Q585.421 63.2149 580.664 57.7983 Q575.942 52.3469 575.942 42.7984 Q575.942 33.2151 580.664 27.7985 Q585.421 22.3818 593.789 22.3818 Z\" fill=\"#000000\" fill-rule=\"nonzero\" fill-opacity=\"1\" /><path clip-path=\"url(#clip240)\" d=\"M617.643 23.3193 L624.414 23.3193 L636.567 55.958 L648.72 23.3193 L655.49 23.3193 L640.907 62.208 L632.227 62.208 L617.643 23.3193 Z\" fill=\"#000000\" fill-rule=\"nonzero\" fill-opacity=\"1\" /><path clip-path=\"url(#clip240)\" d=\"M697.574 41.1664 L697.574 44.2914 L668.199 44.2914 Q668.615 50.8886 672.157 54.3608 Q675.733 57.7983 682.088 57.7983 Q685.768 57.7983 689.206 56.8955 Q692.678 55.9928 696.081 54.1872 L696.081 60.2288 Q692.643 61.6872 689.032 62.4511 Q685.421 63.2149 681.706 63.2149 Q672.4 63.2149 666.949 57.7983 Q661.532 52.3817 661.532 43.1456 Q661.532 33.597 666.671 28.0068 Q671.845 22.3818 680.594 22.3818 Q688.442 22.3818 692.99 27.4512 Q697.574 32.4859 697.574 41.1664 M691.185 39.2915 Q691.115 34.0484 688.233 30.9234 Q685.386 27.7985 680.664 27.7985 Q675.317 27.7985 672.088 30.8193 Q668.893 33.8401 668.407 39.3262 L691.185 39.2915 Z\" fill=\"#000000\" fill-rule=\"nonzero\" fill-opacity=\"1\" /><path clip-path=\"url(#clip240)\" d=\"M730.594 29.2915 Q729.518 28.6665 728.233 28.3887 Q726.983 28.0762 725.455 28.0762 Q720.039 28.0762 717.122 31.6179 Q714.24 35.1248 714.24 41.722 L714.24 62.208 L707.817 62.208 L707.817 23.3193 L714.24 23.3193 L714.24 29.361 Q716.254 25.8193 719.483 24.1179 Q722.712 22.3818 727.33 22.3818 Q727.99 22.3818 728.789 22.486 Q729.587 22.5554 730.56 22.729 L730.594 29.2915 Z\" fill=\"#000000\" fill-rule=\"nonzero\" fill-opacity=\"1\" /><path clip-path=\"url(#clip240)\" d=\"M754.969 42.6595 Q747.226 42.6595 744.24 44.4303 Q741.254 46.2011 741.254 50.472 Q741.254 53.8747 743.476 55.8886 Q745.733 57.8677 749.587 57.8677 Q754.9 57.8677 758.094 54.1178 Q761.323 50.3331 761.323 44.0831 L761.323 42.6595 L754.969 42.6595 M767.712 40.0206 L767.712 62.208 L761.323 62.208 L761.323 56.3053 Q759.136 59.8469 755.872 61.5483 Q752.608 63.2149 747.886 63.2149 Q741.914 63.2149 738.372 59.8816 Q734.865 56.5136 734.865 50.8886 Q734.865 44.3262 739.24 40.9928 Q743.65 37.6595 752.365 37.6595 L761.323 37.6595 L761.323 37.0345 Q761.323 32.6248 758.407 30.229 Q755.525 27.7985 750.282 27.7985 Q746.948 27.7985 743.789 28.5971 Q740.629 29.3957 737.712 30.9929 L737.712 25.0901 Q741.219 23.736 744.518 23.0763 Q747.816 22.3818 750.941 22.3818 Q759.379 22.3818 763.545 26.7568 Q767.712 31.1318 767.712 40.0206 Z\" fill=\"#000000\" fill-rule=\"nonzero\" fill-opacity=\"1\" /><path clip-path=\"url(#clip240)\" d=\"M806.462 42.3123 Q806.462 35.3679 803.58 31.5484 Q800.733 27.729 795.559 27.729 Q790.42 27.729 787.538 31.5484 Q784.691 35.3679 784.691 42.3123 Q784.691 49.222 787.538 53.0414 Q790.42 56.8608 795.559 56.8608 Q800.733 56.8608 803.58 53.0414 Q806.462 49.222 806.462 42.3123 M812.851 57.3816 Q812.851 67.3121 808.441 72.1385 Q804.031 76.9996 794.934 76.9996 Q791.566 76.9996 788.58 76.4788 Q785.594 75.9926 782.781 74.951 L782.781 68.7357 Q785.594 70.2635 788.337 70.9927 Q791.08 71.7218 793.927 71.7218 Q800.212 71.7218 803.337 68.4232 Q806.462 65.1594 806.462 58.5275 L806.462 55.3678 Q804.483 58.8052 801.392 60.5066 Q798.302 62.208 793.997 62.208 Q786.844 62.208 782.469 56.7566 Q778.094 51.3053 778.094 42.3123 Q778.094 33.2845 782.469 27.8332 Q786.844 22.3818 793.997 22.3818 Q798.302 22.3818 801.392 24.0832 Q804.483 25.7846 806.462 29.2221 L806.462 23.3193 L812.851 23.3193 L812.851 57.3816 Z\" fill=\"#000000\" fill-rule=\"nonzero\" fill-opacity=\"1\" /><path clip-path=\"url(#clip240)\" d=\"M859.274 41.1664 L859.274 44.2914 L829.899 44.2914 Q830.316 50.8886 833.858 54.3608 Q837.434 57.7983 843.788 57.7983 Q847.469 57.7983 850.906 56.8955 Q854.378 55.9928 857.781 54.1872 L857.781 60.2288 Q854.344 61.6872 850.732 62.4511 Q847.121 63.2149 843.406 63.2149 Q834.101 63.2149 828.649 57.7983 Q823.233 52.3817 823.233 43.1456 Q823.233 33.597 828.371 28.0068 Q833.545 22.3818 842.295 22.3818 Q850.142 22.3818 854.691 27.4512 Q859.274 32.4859 859.274 41.1664 M852.885 39.2915 Q852.816 34.0484 849.934 30.9234 Q847.087 27.7985 842.364 27.7985 Q837.017 27.7985 833.788 30.8193 Q830.594 33.8401 830.108 39.3262 L852.885 39.2915 Z\" fill=\"#000000\" fill-rule=\"nonzero\" fill-opacity=\"1\" /><path clip-path=\"url(#clip240)\" d=\"M910.038 42.6595 Q902.295 42.6595 899.309 44.4303 Q896.323 46.2011 896.323 50.472 Q896.323 53.8747 898.545 55.8886 Q900.802 57.8677 904.656 57.8677 Q909.968 57.8677 913.163 54.1178 Q916.392 50.3331 916.392 44.0831 L916.392 42.6595 L910.038 42.6595 M922.781 40.0206 L922.781 62.208 L916.392 62.208 L916.392 56.3053 Q914.204 59.8469 910.94 61.5483 Q907.677 63.2149 902.954 63.2149 Q896.982 63.2149 893.441 59.8816 Q889.934 56.5136 889.934 50.8886 Q889.934 44.3262 894.309 40.9928 Q898.718 37.6595 907.434 37.6595 L916.392 37.6595 L916.392 37.0345 Q916.392 32.6248 913.475 30.229 Q910.593 27.7985 905.35 27.7985 Q902.017 27.7985 898.857 28.5971 Q895.698 29.3957 892.781 30.9929 L892.781 25.0901 Q896.288 23.736 899.586 23.0763 Q902.885 22.3818 906.01 22.3818 Q914.447 22.3818 918.614 26.7568 Q922.781 31.1318 922.781 40.0206 Z\" fill=\"#000000\" fill-rule=\"nonzero\" fill-opacity=\"1\" /><path clip-path=\"url(#clip240)\" d=\"M942.26 12.2777 L942.26 23.3193 L955.419 23.3193 L955.419 28.2846 L942.26 28.2846 L942.26 49.3956 Q942.26 54.1525 943.544 55.5066 Q944.864 56.8608 948.857 56.8608 L955.419 56.8608 L955.419 62.208 L948.857 62.208 Q941.461 62.208 938.649 59.465 Q935.836 56.6872 935.836 49.3956 L935.836 28.2846 L931.149 28.2846 L931.149 23.3193 L935.836 23.3193 L935.836 12.2777 L942.26 12.2777 Z\" fill=\"#000000\" fill-rule=\"nonzero\" fill-opacity=\"1\" /><path clip-path=\"url(#clip240)\" d=\"M992.746 12.2777 L992.746 23.3193 L1005.91 23.3193 L1005.91 28.2846 L992.746 28.2846 L992.746 49.3956 Q992.746 54.1525 994.03 55.5066 Q995.35 56.8608 999.343 56.8608 L1005.91 56.8608 L1005.91 62.208 L999.343 62.208 Q991.947 62.208 989.135 59.465 Q986.322 56.6872 986.322 49.3956 L986.322 28.2846 L981.635 28.2846 L981.635 23.3193 L986.322 23.3193 L986.322 12.2777 L992.746 12.2777 Z\" fill=\"#000000\" fill-rule=\"nonzero\" fill-opacity=\"1\" /><path clip-path=\"url(#clip240)\" d=\"M1046.63 38.7359 L1046.63 62.208 L1040.25 62.208 L1040.25 38.9442 Q1040.25 33.4234 1038.09 30.6804 Q1035.94 27.9374 1031.63 27.9374 Q1026.46 27.9374 1023.47 31.2359 Q1020.49 34.5345 1020.49 40.229 L1020.49 62.208 L1014.06 62.208 L1014.06 8.18051 L1020.49 8.18051 L1020.49 29.361 Q1022.78 25.854 1025.87 24.1179 Q1029 22.3818 1033.06 22.3818 Q1039.76 22.3818 1043.2 26.5485 Q1046.63 30.6804 1046.63 38.7359 Z\" fill=\"#000000\" fill-rule=\"nonzero\" fill-opacity=\"1\" /><path clip-path=\"url(#clip240)\" d=\"M1092.64 41.1664 L1092.64 44.2914 L1063.27 44.2914 Q1063.68 50.8886 1067.22 54.3608 Q1070.8 57.7983 1077.15 57.7983 Q1080.84 57.7983 1084.27 56.8955 Q1087.75 55.9928 1091.15 54.1872 L1091.15 60.2288 Q1087.71 61.6872 1084.1 62.4511 Q1080.49 63.2149 1076.77 63.2149 Q1067.47 63.2149 1062.02 57.7983 Q1056.6 52.3817 1056.6 43.1456 Q1056.6 33.597 1061.74 28.0068 Q1066.91 22.3818 1075.66 22.3818 Q1083.51 22.3818 1088.06 27.4512 Q1092.64 32.4859 1092.64 41.1664 M1086.25 39.2915 Q1086.18 34.0484 1083.3 30.9234 Q1080.45 27.7985 1075.73 27.7985 Q1070.38 27.7985 1067.15 30.8193 Q1063.96 33.8401 1063.47 39.3262 L1086.25 39.2915 Z\" fill=\"#000000\" fill-rule=\"nonzero\" fill-opacity=\"1\" /><path clip-path=\"url(#clip240)\" d=\"M1132.68 56.3053 L1157.15 56.3053 L1157.15 62.208 L1124.24 62.208 L1124.24 56.3053 Q1128.23 52.1733 1135.11 45.2289 Q1142.02 38.2498 1143.79 36.2359 Q1147.15 32.4512 1148.47 29.8471 Q1149.83 27.2082 1149.83 24.6735 Q1149.83 20.5416 1146.91 17.9374 Q1144.03 15.3333 1139.38 15.3333 Q1136.08 15.3333 1132.4 16.4791 Q1128.75 17.6249 1124.59 19.9513 L1124.59 12.868 Q1128.82 11.1666 1132.5 10.2986 Q1136.18 9.43051 1139.24 9.43051 Q1147.29 9.43051 1152.09 13.4583 Q1156.88 17.486 1156.88 24.2221 Q1156.88 27.4165 1155.66 30.2984 Q1154.48 33.1457 1151.32 37.0345 Q1150.45 38.0415 1145.8 42.8678 Q1141.15 47.6595 1132.68 56.3053 Z\" fill=\"#000000\" fill-rule=\"nonzero\" fill-opacity=\"1\" /><path clip-path=\"url(#clip240)\" d=\"M1177.92 56.3053 L1202.4 56.3053 L1202.4 62.208 L1169.48 62.208 L1169.48 56.3053 Q1173.47 52.1733 1180.35 45.2289 Q1187.26 38.2498 1189.03 36.2359 Q1192.4 32.4512 1193.72 29.8471 Q1195.07 27.2082 1195.07 24.6735 Q1195.07 20.5416 1192.15 17.9374 Q1189.27 15.3333 1184.62 15.3333 Q1181.32 15.3333 1177.64 16.4791 Q1173.99 17.6249 1169.83 19.9513 L1169.83 12.868 Q1174.06 11.1666 1177.74 10.2986 Q1181.43 9.43051 1184.48 9.43051 Q1192.54 9.43051 1197.33 13.4583 Q1202.12 17.486 1202.12 24.2221 Q1202.12 27.4165 1200.9 30.2984 Q1199.72 33.1457 1196.56 37.0345 Q1195.7 38.0415 1191.04 42.8678 Q1186.39 47.6595 1177.92 56.3053 Z\" fill=\"#000000\" fill-rule=\"nonzero\" fill-opacity=\"1\" /><path clip-path=\"url(#clip240)\" d=\"M1212.99 39.8817 L1231.7 39.8817 L1231.7 45.5761 L1212.99 45.5761 L1212.99 39.8817 Z\" fill=\"#000000\" fill-rule=\"nonzero\" fill-opacity=\"1\" /><path clip-path=\"url(#clip240)\" d=\"M1248.2 12.2777 L1248.2 23.3193 L1261.36 23.3193 L1261.36 28.2846 L1248.2 28.2846 L1248.2 49.3956 Q1248.2 54.1525 1249.48 55.5066 Q1250.8 56.8608 1254.79 56.8608 L1261.36 56.8608 L1261.36 62.208 L1254.79 62.208 Q1247.4 62.208 1244.58 59.465 Q1241.77 56.6872 1241.77 49.3956 L1241.77 28.2846 L1237.08 28.2846 L1237.08 23.3193 L1241.77 23.3193 L1241.77 12.2777 L1248.2 12.2777 Z\" fill=\"#000000\" fill-rule=\"nonzero\" fill-opacity=\"1\" /><path clip-path=\"url(#clip240)\" d=\"M1302.08 38.7359 L1302.08 62.208 L1295.7 62.208 L1295.7 38.9442 Q1295.7 33.4234 1293.54 30.6804 Q1291.39 27.9374 1287.08 27.9374 Q1281.91 27.9374 1278.92 31.2359 Q1275.94 34.5345 1275.94 40.229 L1275.94 62.208 L1269.51 62.208 L1269.51 8.18051 L1275.94 8.18051 L1275.94 29.361 Q1278.23 25.854 1281.32 24.1179 Q1284.45 22.3818 1288.51 22.3818 Q1295.21 22.3818 1298.65 26.5485 Q1302.08 30.6804 1302.08 38.7359 Z\" fill=\"#000000\" fill-rule=\"nonzero\" fill-opacity=\"1\" /><path clip-path=\"url(#clip240)\" d=\"M1370.69 41.1664 L1370.69 44.2914 L1341.32 44.2914 Q1341.74 50.8886 1345.28 54.3608 Q1348.85 57.7983 1355.21 57.7983 Q1358.89 57.7983 1362.33 56.8955 Q1365.8 55.9928 1369.2 54.1872 L1369.2 60.2288 Q1365.76 61.6872 1362.15 62.4511 Q1358.54 63.2149 1354.83 63.2149 Q1345.52 63.2149 1340.07 57.7983 Q1334.65 52.3817 1334.65 43.1456 Q1334.65 33.597 1339.79 28.0068 Q1344.97 22.3818 1353.72 22.3818 Q1361.56 22.3818 1366.11 27.4512 Q1370.69 32.4859 1370.69 41.1664 M1364.31 39.2915 Q1364.24 34.0484 1361.35 30.9234 Q1358.51 27.7985 1353.79 27.7985 Q1348.44 27.7985 1345.21 30.8193 Q1342.01 33.8401 1341.53 39.3262 L1364.31 39.2915 Z\" fill=\"#000000\" fill-rule=\"nonzero\" fill-opacity=\"1\" /><path clip-path=\"url(#clip240)\" d=\"M1381.18 8.18051 L1387.57 8.18051 L1387.57 62.208 L1381.18 62.208 L1381.18 8.18051 Z\" fill=\"#000000\" fill-rule=\"nonzero\" fill-opacity=\"1\" /><path clip-path=\"url(#clip240)\" d=\"M1434.2 41.1664 L1434.2 44.2914 L1404.83 44.2914 Q1405.24 50.8886 1408.79 54.3608 Q1412.36 57.7983 1418.72 57.7983 Q1422.4 57.7983 1425.83 56.8955 Q1429.31 55.9928 1432.71 54.1872 L1432.71 60.2288 Q1429.27 61.6872 1425.66 62.4511 Q1422.05 63.2149 1418.33 63.2149 Q1409.03 63.2149 1403.58 57.7983 Q1398.16 52.3817 1398.16 43.1456 Q1398.16 33.597 1403.3 28.0068 Q1408.47 22.3818 1417.22 22.3818 Q1425.07 22.3818 1429.62 27.4512 Q1434.2 32.4859 1434.2 41.1664 M1427.81 39.2915 Q1427.74 34.0484 1424.86 30.9234 Q1422.01 27.7985 1417.29 27.7985 Q1411.94 27.7985 1408.72 30.8193 Q1405.52 33.8401 1405.04 39.3262 L1427.81 39.2915 Z\" fill=\"#000000\" fill-rule=\"nonzero\" fill-opacity=\"1\" /><path clip-path=\"url(#clip240)\" d=\"M1474.97 30.7846 Q1477.36 26.479 1480.69 24.4304 Q1484.03 22.3818 1488.54 22.3818 Q1494.62 22.3818 1497.92 26.6526 Q1501.22 30.8887 1501.22 38.7359 L1501.22 62.208 L1494.79 62.208 L1494.79 38.9442 Q1494.79 33.354 1492.81 30.6457 Q1490.83 27.9374 1486.77 27.9374 Q1481.81 27.9374 1478.92 31.2359 Q1476.04 34.5345 1476.04 40.229 L1476.04 62.208 L1469.62 62.208 L1469.62 38.9442 Q1469.62 33.3193 1467.64 30.6457 Q1465.66 27.9374 1461.53 27.9374 Q1456.63 27.9374 1453.75 31.2707 Q1450.87 34.5693 1450.87 40.229 L1450.87 62.208 L1444.44 62.208 L1444.44 23.3193 L1450.87 23.3193 L1450.87 29.361 Q1453.06 25.7846 1456.11 24.0832 Q1459.17 22.3818 1463.37 22.3818 Q1467.6 22.3818 1470.56 24.5346 Q1473.54 26.6874 1474.97 30.7846 Z\" fill=\"#000000\" fill-rule=\"nonzero\" fill-opacity=\"1\" /><path clip-path=\"url(#clip240)\" d=\"M1551.63 27.7985 Q1546.49 27.7985 1543.51 31.8262 Q1540.52 35.8193 1540.52 42.7984 Q1540.52 49.7775 1543.47 53.8053 Q1546.46 57.7983 1551.63 57.7983 Q1556.74 57.7983 1559.72 53.7705 Q1562.71 49.7428 1562.71 42.7984 Q1562.71 35.8887 1559.72 31.8609 Q1556.74 27.7985 1551.63 27.7985 M1551.63 22.3818 Q1559.96 22.3818 1564.72 27.7985 Q1569.48 33.2151 1569.48 42.7984 Q1569.48 52.3469 1564.72 57.7983 Q1559.96 63.2149 1551.63 63.2149 Q1543.26 63.2149 1538.51 57.7983 Q1533.78 52.3469 1533.78 42.7984 Q1533.78 33.2151 1538.51 27.7985 Q1543.26 22.3818 1551.63 22.3818 Z\" fill=\"#000000\" fill-rule=\"nonzero\" fill-opacity=\"1\" /><path clip-path=\"url(#clip240)\" d=\"M1599.76 8.18051 L1599.76 13.493 L1593.65 13.493 Q1590.21 13.493 1588.85 14.8819 Q1587.53 16.2707 1587.53 19.8818 L1587.53 23.3193 L1598.05 23.3193 L1598.05 28.2846 L1587.53 28.2846 L1587.53 62.208 L1581.11 62.208 L1581.11 28.2846 L1575 28.2846 L1575 23.3193 L1581.11 23.3193 L1581.11 20.611 Q1581.11 14.118 1584.13 11.1666 Q1587.15 8.18051 1593.71 8.18051 L1599.76 8.18051 Z\" fill=\"#000000\" fill-rule=\"nonzero\" fill-opacity=\"1\" /><path clip-path=\"url(#clip240)\" d=\"M1647.88 16.4791 L1630.17 44.1525 L1647.88 44.1525 L1647.88 16.4791 M1646.04 10.368 L1654.86 10.368 L1654.86 44.1525 L1662.26 44.1525 L1662.26 49.9858 L1654.86 49.9858 L1654.86 62.208 L1647.88 62.208 L1647.88 49.9858 L1624.48 49.9858 L1624.48 43.215 L1646.04 10.368 Z\" fill=\"#000000\" fill-rule=\"nonzero\" fill-opacity=\"1\" /><path clip-path=\"url(#clip240)\" d=\"M1688.85 14.986 Q1683.44 14.986 1680.69 20.3332 Q1677.98 25.6457 1677.98 36.3401 Q1677.98 46.9997 1680.69 52.3469 Q1683.44 57.6594 1688.85 57.6594 Q1694.3 57.6594 1697.01 52.3469 Q1699.76 46.9997 1699.76 36.3401 Q1699.76 25.6457 1697.01 20.3332 Q1694.3 14.986 1688.85 14.986 M1688.85 9.43051 Q1697.57 9.43051 1702.15 16.3402 Q1706.77 23.2152 1706.77 36.3401 Q1706.77 49.4303 1702.15 56.34 Q1697.57 63.2149 1688.85 63.2149 Q1680.14 63.2149 1675.52 56.34 Q1670.94 49.4303 1670.94 36.3401 Q1670.94 23.2152 1675.52 16.3402 Q1680.14 9.43051 1688.85 9.43051 Z\" fill=\"#000000\" fill-rule=\"nonzero\" fill-opacity=\"1\" /><path clip-path=\"url(#clip240)\" d=\"M1719.3 61.1316 L1719.3 54.7428 Q1721.94 55.9928 1724.65 56.6525 Q1727.36 57.3122 1729.96 57.3122 Q1736.91 57.3122 1740.55 52.6594 Q1744.23 47.972 1744.76 38.4581 Q1742.74 41.4442 1739.65 43.0414 Q1736.56 44.6386 1732.81 44.6386 Q1725.03 44.6386 1720.48 39.9512 Q1715.97 35.229 1715.97 27.0693 Q1715.97 19.0832 1720.69 14.2569 Q1725.42 9.43051 1733.26 9.43051 Q1742.26 9.43051 1746.98 16.3402 Q1751.73 23.2152 1751.73 36.3401 Q1751.73 48.597 1745.9 55.9233 Q1740.1 63.2149 1730.28 63.2149 Q1727.64 63.2149 1724.93 62.6941 Q1722.22 62.1733 1719.3 61.1316 M1733.26 39.1526 Q1737.98 39.1526 1740.73 35.9234 Q1743.51 32.6943 1743.51 27.0693 Q1743.51 21.4791 1740.73 18.2499 Q1737.98 14.986 1733.26 14.986 Q1728.54 14.986 1725.76 18.2499 Q1723.02 21.4791 1723.02 27.0693 Q1723.02 32.6943 1725.76 35.9234 Q1728.54 39.1526 1733.26 39.1526 Z\" fill=\"#000000\" fill-rule=\"nonzero\" fill-opacity=\"1\" /><path clip-path=\"url(#clip240)\" d=\"M1780.21 33.4929 Q1775.48 33.4929 1772.71 36.722 Q1769.96 39.9512 1769.96 45.5761 Q1769.96 51.1664 1772.71 54.4303 Q1775.48 57.6594 1780.21 57.6594 Q1784.93 57.6594 1787.67 54.4303 Q1790.45 51.1664 1790.45 45.5761 Q1790.45 39.9512 1787.67 36.722 Q1784.93 33.4929 1780.21 33.4929 M1794.13 11.5138 L1794.13 17.9027 Q1791.49 16.6527 1788.78 15.993 Q1786.11 15.3333 1783.47 15.3333 Q1776.53 15.3333 1772.85 20.0207 Q1769.2 24.7082 1768.68 34.1873 Q1770.73 31.1665 1773.82 29.5693 Q1776.91 27.9374 1780.62 27.9374 Q1788.44 27.9374 1792.95 32.6943 Q1797.5 37.4165 1797.5 45.5761 Q1797.5 53.5622 1792.78 58.3886 Q1788.05 63.2149 1780.21 63.2149 Q1771.21 63.2149 1766.46 56.34 Q1761.7 49.4303 1761.7 36.3401 Q1761.7 24.0485 1767.53 16.7569 Q1773.37 9.43051 1783.19 9.43051 Q1785.83 9.43051 1788.51 9.95134 Q1791.21 10.4722 1794.13 11.5138 Z\" fill=\"#000000\" fill-rule=\"nonzero\" fill-opacity=\"1\" /><path clip-path=\"url(#clip240)\" d=\"M1846.63 8.24996 Q1841.98 16.236 1839.72 24.0485 Q1837.46 31.8609 1837.46 39.8817 Q1837.46 47.9025 1839.72 55.7844 Q1842.01 63.6316 1846.63 71.5829 L1841.07 71.5829 Q1835.87 63.4233 1833.26 55.5414 Q1830.69 47.6595 1830.69 39.8817 Q1830.69 32.1387 1833.26 24.2915 Q1835.83 16.4444 1841.07 8.24996 L1846.63 8.24996 Z\" fill=\"#000000\" fill-rule=\"nonzero\" fill-opacity=\"1\" /><path clip-path=\"url(#clip240)\" d=\"M1904.37 33.8401 L1904.37 40.0206 Q1900.73 42.7637 1897.6 43.9442 Q1894.51 45.1248 1891.14 45.1248 Q1887.32 45.1248 1882.25 43.0762 Q1881.87 42.9373 1881.7 42.8678 Q1881.46 42.7637 1880.94 42.59 Q1875.55 40.4373 1872.29 40.4373 Q1869.23 40.4373 1866.25 41.7914 Q1863.26 43.1109 1859.86 45.9928 L1859.86 39.8123 Q1863.5 37.0692 1866.6 35.8887 Q1869.72 34.6734 1873.09 34.6734 Q1876.91 34.6734 1882.01 36.7567 Q1882.36 36.8956 1882.53 36.9651 Q1882.81 37.0692 1883.3 37.2429 Q1888.68 39.3956 1891.94 39.3956 Q1894.93 39.3956 1897.84 38.0762 Q1900.8 36.7567 1904.37 33.8401 Z\" fill=\"#000000\" fill-rule=\"nonzero\" fill-opacity=\"1\" /><path clip-path=\"url(#clip240)\" d=\"M1934.51 14.986 Q1929.09 14.986 1926.35 20.3332 Q1923.64 25.6457 1923.64 36.3401 Q1923.64 46.9997 1926.35 52.3469 Q1929.09 57.6594 1934.51 57.6594 Q1939.96 57.6594 1942.67 52.3469 Q1945.41 46.9997 1945.41 36.3401 Q1945.41 25.6457 1942.67 20.3332 Q1939.96 14.986 1934.51 14.986 M1934.51 9.43051 Q1943.23 9.43051 1947.81 16.3402 Q1952.43 23.2152 1952.43 36.3401 Q1952.43 49.4303 1947.81 56.34 Q1943.23 63.2149 1934.51 63.2149 Q1925.8 63.2149 1921.18 56.34 Q1916.59 49.4303 1916.59 36.3401 Q1916.59 23.2152 1921.18 16.3402 Q1925.8 9.43051 1934.51 9.43051 Z\" fill=\"#000000\" fill-rule=\"nonzero\" fill-opacity=\"1\" /><path clip-path=\"url(#clip240)\" d=\"M1964.75 53.3886 L1972.08 53.3886 L1972.08 62.208 L1964.75 62.208 L1964.75 53.3886 Z\" fill=\"#000000\" fill-rule=\"nonzero\" fill-opacity=\"1\" /><path clip-path=\"url(#clip240)\" d=\"M2002.36 14.986 Q1996.94 14.986 1994.2 20.3332 Q1991.49 25.6457 1991.49 36.3401 Q1991.49 46.9997 1994.2 52.3469 Q1996.94 57.6594 2002.36 57.6594 Q2007.81 57.6594 2010.52 52.3469 Q2013.26 46.9997 2013.26 36.3401 Q2013.26 25.6457 2010.52 20.3332 Q2007.81 14.986 2002.36 14.986 M2002.36 9.43051 Q2011.07 9.43051 2015.66 16.3402 Q2020.27 23.2152 2020.27 36.3401 Q2020.27 49.4303 2015.66 56.34 Q2011.07 63.2149 2002.36 63.2149 Q1993.64 63.2149 1989.02 56.34 Q1984.44 49.4303 1984.44 36.3401 Q1984.44 23.2152 1989.02 16.3402 Q1993.64 9.43051 2002.36 9.43051 Z\" fill=\"#000000\" fill-rule=\"nonzero\" fill-opacity=\"1\" /><path clip-path=\"url(#clip240)\" d=\"M2047.6 14.986 Q2042.18 14.986 2039.44 20.3332 Q2036.73 25.6457 2036.73 36.3401 Q2036.73 46.9997 2039.44 52.3469 Q2042.18 57.6594 2047.6 57.6594 Q2053.05 57.6594 2055.76 52.3469 Q2058.5 46.9997 2058.5 36.3401 Q2058.5 25.6457 2055.76 20.3332 Q2053.05 14.986 2047.6 14.986 M2047.6 9.43051 Q2056.32 9.43051 2060.9 16.3402 Q2065.52 23.2152 2065.52 36.3401 Q2065.52 49.4303 2060.9 56.34 Q2056.32 63.2149 2047.6 63.2149 Q2038.89 63.2149 2034.27 56.34 Q2029.68 49.4303 2029.68 36.3401 Q2029.68 23.2152 2034.27 16.3402 Q2038.89 9.43051 2047.6 9.43051 Z\" fill=\"#000000\" fill-rule=\"nonzero\" fill-opacity=\"1\" /><path clip-path=\"url(#clip240)\" d=\"M2077.91 10.368 L2105.45 10.368 L2105.45 16.2707 L2084.34 16.2707 L2084.34 28.979 Q2085.86 28.4582 2087.39 28.2151 Q2088.92 27.9374 2090.45 27.9374 Q2099.13 27.9374 2104.2 32.6943 Q2109.27 37.4512 2109.27 45.5761 Q2109.27 53.9442 2104.06 58.5969 Q2098.85 63.2149 2089.37 63.2149 Q2086.11 63.2149 2082.71 62.6594 Q2079.34 62.1038 2075.73 60.9927 L2075.73 53.9442 Q2078.85 55.6455 2082.18 56.4789 Q2085.52 57.3122 2089.23 57.3122 Q2095.24 57.3122 2098.75 54.1525 Q2102.25 50.9928 2102.25 45.5761 Q2102.25 40.1595 2098.75 36.9998 Q2095.24 33.8401 2089.23 33.8401 Q2086.42 33.8401 2083.61 34.4651 Q2080.83 35.0901 2077.91 36.4095 L2077.91 10.368 Z\" fill=\"#000000\" fill-rule=\"nonzero\" fill-opacity=\"1\" /><path clip-path=\"url(#clip240)\" d=\"M2142.36 16.4791 L2124.65 44.1525 L2142.36 44.1525 L2142.36 16.4791 M2140.52 10.368 L2149.34 10.368 L2149.34 44.1525 L2156.73 44.1525 L2156.73 49.9858 L2149.34 49.9858 L2149.34 62.208 L2142.36 62.208 L2142.36 49.9858 L2118.95 49.9858 L2118.95 43.215 L2140.52 10.368 Z\" fill=\"#000000\" fill-rule=\"nonzero\" fill-opacity=\"1\" /><path clip-path=\"url(#clip240)\" d=\"M2212.43 39.3956 Q2209.41 39.3956 2207.67 41.9651 Q2205.97 44.5345 2205.97 49.1178 Q2205.97 53.6317 2207.67 56.2358 Q2209.41 58.8052 2212.43 58.8052 Q2215.38 58.8052 2217.08 56.2358 Q2218.82 53.6317 2218.82 49.1178 Q2218.82 44.5692 2217.08 41.9998 Q2215.38 39.3956 2212.43 39.3956 M2212.43 34.9859 Q2217.91 34.9859 2221.14 38.8053 Q2224.37 42.6248 2224.37 49.1178 Q2224.37 55.6108 2221.11 59.4302 Q2217.88 63.2149 2212.43 63.2149 Q2206.87 63.2149 2203.64 59.4302 Q2200.41 55.6108 2200.41 49.1178 Q2200.41 42.59 2203.64 38.8053 Q2206.91 34.9859 2212.43 34.9859 M2176.59 13.8402 Q2173.61 13.8402 2171.87 16.4444 Q2170.17 19.0138 2170.17 23.5277 Q2170.17 28.111 2171.87 30.6804 Q2173.57 33.2498 2176.59 33.2498 Q2179.61 33.2498 2181.32 30.6804 Q2183.05 28.111 2183.05 23.5277 Q2183.05 19.0485 2181.32 16.4444 Q2179.58 13.8402 2176.59 13.8402 M2207.95 9.43051 L2213.5 9.43051 L2181.07 63.2149 L2175.52 63.2149 L2207.95 9.43051 M2176.59 9.43051 Q2182.08 9.43051 2185.34 13.2499 Q2188.61 17.0346 2188.61 23.5277 Q2188.61 30.0901 2185.34 33.8748 Q2182.11 37.6595 2176.59 37.6595 Q2171.07 37.6595 2167.84 33.8748 Q2164.65 30.0554 2164.65 23.5277 Q2164.65 17.0694 2167.88 13.2499 Q2171.11 9.43051 2176.59 9.43051 Z\" fill=\"#000000\" fill-rule=\"nonzero\" fill-opacity=\"1\" /><path clip-path=\"url(#clip240)\" d=\"M2233.99 8.24996 L2239.54 8.24996 Q2244.75 16.4444 2247.32 24.2915 Q2249.93 32.1387 2249.93 39.8817 Q2249.93 47.6595 2247.32 55.5414 Q2244.75 63.4233 2239.54 71.5829 L2233.99 71.5829 Q2238.61 63.6316 2240.86 55.7844 Q2243.16 47.9025 2243.16 39.8817 Q2243.16 31.8609 2240.86 24.0485 Q2238.61 16.236 2233.99 8.24996 Z\" fill=\"#000000\" fill-rule=\"nonzero\" fill-opacity=\"1\" /><polyline clip-path=\"url(#clip242)\" style=\"stroke:#009af9; stroke-linecap:round; stroke-linejoin:round; stroke-width:4; stroke-opacity:1; fill:none\" points=\"247.59,798.72 295.121,1080.25 342.652,1142.08 390.184,1144.44 437.715,1150.17 485.247,1162.61 532.778,1170.45 580.309,1172.01 627.841,1175.96 675.372,1178.57 722.904,1179.13 770.435,1183.8 817.967,1185.73 865.498,1186.67 913.029,1188.2 960.561,1188.62 1008.09,1189.86 1055.62,1190.7 1103.16,1191.6 1150.69,1191.86 1198.22,1193.3 1245.75,1193.64 1293.28,1194.13 1340.81,1194.58 1388.34,1195.4 1435.87,1195.81 1483.41,1195.89 1530.94,1196.62 1578.47,1197.4 1626,1197.78 1673.53,1198.18 1721.06,1198.87 1768.59,1199.56 1816.13,1200.71 1863.66,1201.71 1911.19,1201.71 1958.72,1201.71 2006.25,1201.71 2053.78,1201.71 2101.31,1201.71 2148.85,1201.71 2196.38,1201.71 2243.91,1201.71 2291.44,1201.71 \"/>\n",
       "<polyline clip-path=\"url(#clip242)\" style=\"stroke:#e26f46; stroke-linecap:round; stroke-linejoin:round; stroke-width:4; stroke-opacity:1; fill:none\" points=\"247.59,798.72 295.121,677.179 342.652,617.303 390.184,559.987 437.715,508.811 485.247,469.406 532.778,438.189 580.309,408.507 627.841,382.92 675.372,359.379 722.904,336.862 770.435,319.462 817.967,303.086 865.498,288.245 913.029,274.427 960.561,261.122 1008.09,249.863 1055.62,238.605 1103.16,228.37 1150.69,218.134 1198.22,209.946 1245.75,201.758 1293.28,194.594 1340.81,187.429 1388.34,181.288 1435.87,175.147 1483.41,169.006 1530.94,163.888 1578.47,159.794 1626,155.7 1673.53,152.63 1721.06,149.559 1768.59,147.512 1816.13,146.489 1863.66,146.489 1911.19,146.489 1958.72,146.489 2006.25,146.489 2053.78,146.489 2101.31,146.489 2148.85,146.489 2196.38,146.489 2243.91,146.489 2291.44,146.489 \"/>\n",
       "<polyline clip-path=\"url(#clip242)\" style=\"stroke:#000000; stroke-linecap:round; stroke-linejoin:round; stroke-width:2; stroke-opacity:1; fill:none\" points=\"1245.75,2351.9 1245.75,-1003.7 \"/>\n",
       "<polyline clip-path=\"url(#clip242)\" style=\"stroke:#000000; stroke-linecap:round; stroke-linejoin:round; stroke-width:2; stroke-opacity:1; fill:none\" points=\"-1980.21,201.758 4519.24,201.758 \"/>\n",
       "<path clip-path=\"url(#clip240)\" d=\"M881.435 1486.45 L1657.59 1486.45 L1657.59 1330.93 L881.435 1330.93  Z\" fill=\"#ffffff\" fill-rule=\"evenodd\" fill-opacity=\"1\"/>\n",
       "<polyline clip-path=\"url(#clip240)\" style=\"stroke:#000000; stroke-linecap:round; stroke-linejoin:round; stroke-width:4; stroke-opacity:1; fill:none\" points=\"881.435,1486.45 1657.59,1486.45 1657.59,1330.93 881.435,1330.93 881.435,1486.45 \"/>\n",
       "<polyline clip-path=\"url(#clip240)\" style=\"stroke:#009af9; stroke-linecap:round; stroke-linejoin:round; stroke-width:4; stroke-opacity:1; fill:none\" points=\"905.507,1382.77 1049.94,1382.77 \"/>\n",
       "<path clip-path=\"url(#clip240)\" d=\"M1098.04 1386.02 L1098.04 1388.1 L1078.46 1388.1 Q1078.73 1392.5 1081.09 1394.82 Q1083.48 1397.11 1087.72 1397.11 Q1090.17 1397.11 1092.46 1396.51 Q1094.78 1395.9 1097.04 1394.7 L1097.04 1398.73 Q1094.75 1399.7 1092.34 1400.21 Q1089.94 1400.72 1087.46 1400.72 Q1081.26 1400.72 1077.62 1397.11 Q1074.01 1393.5 1074.01 1387.34 Q1074.01 1380.97 1077.44 1377.25 Q1080.89 1373.5 1086.72 1373.5 Q1091.95 1373.5 1094.98 1376.88 Q1098.04 1380.23 1098.04 1386.02 M1093.78 1384.77 Q1093.73 1381.27 1091.81 1379.19 Q1089.91 1377.11 1086.77 1377.11 Q1083.2 1377.11 1081.05 1379.12 Q1078.92 1381.14 1078.59 1384.79 L1093.78 1384.77 Z\" fill=\"#000000\" fill-rule=\"nonzero\" fill-opacity=\"1\" /><path clip-path=\"url(#clip240)\" d=\"M1105.03 1374.12 L1109.29 1374.12 L1109.29 1400.05 L1105.03 1400.05 L1105.03 1374.12 M1105.03 1364.03 L1109.29 1364.03 L1109.29 1369.42 L1105.03 1369.42 L1105.03 1364.03 Z\" fill=\"#000000\" fill-rule=\"nonzero\" fill-opacity=\"1\" /><path clip-path=\"url(#clip240)\" d=\"M1135.26 1386.78 Q1135.26 1382.15 1133.34 1379.61 Q1131.44 1377.06 1127.99 1377.06 Q1124.57 1377.06 1122.65 1379.61 Q1120.75 1382.15 1120.75 1386.78 Q1120.75 1391.39 1122.65 1393.94 Q1124.57 1396.48 1127.99 1396.48 Q1131.44 1396.48 1133.34 1393.94 Q1135.26 1391.39 1135.26 1386.78 M1139.52 1396.83 Q1139.52 1403.45 1136.58 1406.67 Q1133.64 1409.91 1127.58 1409.91 Q1125.33 1409.91 1123.34 1409.56 Q1121.35 1409.24 1119.47 1408.54 L1119.47 1404.4 Q1121.35 1405.42 1123.18 1405.9 Q1125.01 1406.39 1126.9 1406.39 Q1131.09 1406.39 1133.18 1404.19 Q1135.26 1402.02 1135.26 1397.59 L1135.26 1395.49 Q1133.94 1397.78 1131.88 1398.91 Q1129.82 1400.05 1126.95 1400.05 Q1122.18 1400.05 1119.27 1396.41 Q1116.35 1392.78 1116.35 1386.78 Q1116.35 1380.77 1119.27 1377.13 Q1122.18 1373.5 1126.95 1373.5 Q1129.82 1373.5 1131.88 1374.63 Q1133.94 1375.77 1135.26 1378.06 L1135.26 1374.12 L1139.52 1374.12 L1139.52 1396.83 Z\" fill=\"#000000\" fill-rule=\"nonzero\" fill-opacity=\"1\" /><path clip-path=\"url(#clip240)\" d=\"M1170.47 1386.02 L1170.47 1388.1 L1150.89 1388.1 Q1151.16 1392.5 1153.53 1394.82 Q1155.91 1397.11 1160.15 1397.11 Q1162.6 1397.11 1164.89 1396.51 Q1167.21 1395.9 1169.47 1394.7 L1169.47 1398.73 Q1167.18 1399.7 1164.77 1400.21 Q1162.37 1400.72 1159.89 1400.72 Q1153.69 1400.72 1150.05 1397.11 Q1146.44 1393.5 1146.44 1387.34 Q1146.44 1380.97 1149.87 1377.25 Q1153.32 1373.5 1159.15 1373.5 Q1164.38 1373.5 1167.41 1376.88 Q1170.47 1380.23 1170.47 1386.02 M1166.21 1384.77 Q1166.16 1381.27 1164.24 1379.19 Q1162.34 1377.11 1159.2 1377.11 Q1155.63 1377.11 1153.48 1379.12 Q1151.35 1381.14 1151.03 1384.79 L1166.21 1384.77 Z\" fill=\"#000000\" fill-rule=\"nonzero\" fill-opacity=\"1\" /><path clip-path=\"url(#clip240)\" d=\"M1199.01 1384.4 L1199.01 1400.05 L1194.75 1400.05 L1194.75 1384.54 Q1194.75 1380.86 1193.32 1379.03 Q1191.88 1377.2 1189.01 1377.2 Q1185.56 1377.2 1183.57 1379.4 Q1181.58 1381.6 1181.58 1385.4 L1181.58 1400.05 L1177.3 1400.05 L1177.3 1374.12 L1181.58 1374.12 L1181.58 1378.15 Q1183.11 1375.81 1185.17 1374.65 Q1187.25 1373.5 1189.96 1373.5 Q1194.43 1373.5 1196.72 1376.27 Q1199.01 1379.03 1199.01 1384.4 Z\" fill=\"#000000\" fill-rule=\"nonzero\" fill-opacity=\"1\" /><path clip-path=\"url(#clip240)\" d=\"M1204.45 1374.12 L1208.96 1374.12 L1217.07 1395.88 L1225.17 1374.12 L1229.68 1374.12 L1219.96 1400.05 L1214.17 1400.05 L1204.45 1374.12 Z\" fill=\"#000000\" fill-rule=\"nonzero\" fill-opacity=\"1\" /><path clip-path=\"url(#clip240)\" d=\"M1247.34 1387.02 Q1242.18 1387.02 1240.19 1388.2 Q1238.2 1389.38 1238.2 1392.22 Q1238.2 1394.49 1239.68 1395.83 Q1241.19 1397.15 1243.76 1397.15 Q1247.3 1397.15 1249.43 1394.65 Q1251.58 1392.13 1251.58 1387.96 L1251.58 1387.02 L1247.34 1387.02 M1255.84 1385.26 L1255.84 1400.05 L1251.58 1400.05 L1251.58 1396.11 Q1250.12 1398.47 1247.95 1399.61 Q1245.77 1400.72 1242.62 1400.72 Q1238.64 1400.72 1236.28 1398.5 Q1233.94 1396.25 1233.94 1392.5 Q1233.94 1388.13 1236.86 1385.9 Q1239.8 1383.68 1245.61 1383.68 L1251.58 1383.68 L1251.58 1383.27 Q1251.58 1380.33 1249.64 1378.73 Q1247.71 1377.11 1244.22 1377.11 Q1242 1377.11 1239.89 1377.64 Q1237.78 1378.17 1235.84 1379.24 L1235.84 1375.3 Q1238.18 1374.4 1240.38 1373.96 Q1242.58 1373.5 1244.66 1373.5 Q1250.28 1373.5 1253.06 1376.41 Q1255.84 1379.33 1255.84 1385.26 Z\" fill=\"#000000\" fill-rule=\"nonzero\" fill-opacity=\"1\" /><path clip-path=\"url(#clip240)\" d=\"M1264.61 1364.03 L1268.87 1364.03 L1268.87 1400.05 L1264.61 1400.05 L1264.61 1364.03 Z\" fill=\"#000000\" fill-rule=\"nonzero\" fill-opacity=\"1\" /><path clip-path=\"url(#clip240)\" d=\"M1277.34 1389.82 L1277.34 1374.12 L1281.6 1374.12 L1281.6 1389.65 Q1281.6 1393.33 1283.04 1395.19 Q1284.47 1397.02 1287.34 1397.02 Q1290.79 1397.02 1292.78 1394.82 Q1294.8 1392.62 1294.8 1388.82 L1294.8 1374.12 L1299.06 1374.12 L1299.06 1400.05 L1294.8 1400.05 L1294.8 1396.07 Q1293.25 1398.43 1291.19 1399.58 Q1289.15 1400.72 1286.44 1400.72 Q1281.97 1400.72 1279.66 1397.94 Q1277.34 1395.16 1277.34 1389.82 M1288.06 1373.5 L1288.06 1373.5 Z\" fill=\"#000000\" fill-rule=\"nonzero\" fill-opacity=\"1\" /><path clip-path=\"url(#clip240)\" d=\"M1330.01 1386.02 L1330.01 1388.1 L1310.42 1388.1 Q1310.7 1392.5 1313.06 1394.82 Q1315.45 1397.11 1319.68 1397.11 Q1322.14 1397.11 1324.43 1396.51 Q1326.74 1395.9 1329.01 1394.7 L1329.01 1398.73 Q1326.72 1399.7 1324.31 1400.21 Q1321.9 1400.72 1319.43 1400.72 Q1313.22 1400.72 1309.59 1397.11 Q1305.98 1393.5 1305.98 1387.34 Q1305.98 1380.97 1309.4 1377.25 Q1312.85 1373.5 1318.69 1373.5 Q1323.92 1373.5 1326.95 1376.88 Q1330.01 1380.23 1330.01 1386.02 M1325.75 1384.77 Q1325.7 1381.27 1323.78 1379.19 Q1321.88 1377.11 1318.73 1377.11 Q1315.17 1377.11 1313.01 1379.12 Q1310.89 1381.14 1310.56 1384.79 L1325.75 1384.77 Z\" fill=\"#000000\" fill-rule=\"nonzero\" fill-opacity=\"1\" /><path clip-path=\"url(#clip240)\" d=\"M1353.52 1374.89 L1353.52 1378.91 Q1351.72 1377.99 1349.77 1377.52 Q1347.83 1377.06 1345.75 1377.06 Q1342.57 1377.06 1340.98 1378.03 Q1339.4 1379.01 1339.4 1380.95 Q1339.4 1382.43 1340.54 1383.29 Q1341.67 1384.12 1345.1 1384.89 L1346.56 1385.21 Q1351.09 1386.18 1352.99 1387.96 Q1354.91 1389.72 1354.91 1392.9 Q1354.91 1396.51 1352.04 1398.61 Q1349.2 1400.72 1344.2 1400.72 Q1342.11 1400.72 1339.84 1400.3 Q1337.6 1399.91 1335.1 1399.1 L1335.1 1394.7 Q1337.46 1395.93 1339.75 1396.55 Q1342.04 1397.15 1344.29 1397.15 Q1347.3 1397.15 1348.92 1396.14 Q1350.54 1395.09 1350.54 1393.22 Q1350.54 1391.48 1349.36 1390.56 Q1348.2 1389.63 1344.24 1388.77 L1342.76 1388.43 Q1338.8 1387.59 1337.04 1385.88 Q1335.28 1384.15 1335.28 1381.14 Q1335.28 1377.48 1337.88 1375.49 Q1340.47 1373.5 1345.24 1373.5 Q1347.6 1373.5 1349.68 1373.84 Q1351.76 1374.19 1353.52 1374.89 Z\" fill=\"#000000\" fill-rule=\"nonzero\" fill-opacity=\"1\" /><polyline clip-path=\"url(#clip240)\" style=\"stroke:#e26f46; stroke-linecap:round; stroke-linejoin:round; stroke-width:4; stroke-opacity:1; fill:none\" points=\"905.507,1434.61 1049.94,1434.61 \"/>\n",
       "<path clip-path=\"url(#clip240)\" d=\"M1094.52 1426.96 L1094.52 1430.94 Q1092.72 1429.94 1090.89 1429.46 Q1089.08 1428.95 1087.23 1428.95 Q1083.09 1428.95 1080.79 1431.59 Q1078.5 1434.2 1078.5 1438.95 Q1078.5 1443.69 1080.79 1446.33 Q1083.09 1448.95 1087.23 1448.95 Q1089.08 1448.95 1090.89 1448.46 Q1092.72 1447.95 1094.52 1446.96 L1094.52 1450.89 Q1092.74 1451.73 1090.82 1452.14 Q1088.92 1452.56 1086.77 1452.56 Q1080.91 1452.56 1077.46 1448.88 Q1074.01 1445.2 1074.01 1438.95 Q1074.01 1432.61 1077.48 1428.97 Q1080.98 1425.34 1087.04 1425.34 Q1089.01 1425.34 1090.89 1425.75 Q1092.76 1426.15 1094.52 1426.96 Z\" fill=\"#000000\" fill-rule=\"nonzero\" fill-opacity=\"1\" /><path clip-path=\"url(#clip240)\" d=\"M1101.49 1441.66 L1101.49 1425.96 L1105.75 1425.96 L1105.75 1441.49 Q1105.75 1445.17 1107.18 1447.03 Q1108.62 1448.86 1111.49 1448.86 Q1114.94 1448.86 1116.93 1446.66 Q1118.94 1444.46 1118.94 1440.66 L1118.94 1425.96 L1123.2 1425.96 L1123.2 1451.89 L1118.94 1451.89 L1118.94 1447.91 Q1117.39 1450.27 1115.33 1451.42 Q1113.29 1452.56 1110.59 1452.56 Q1106.12 1452.56 1103.8 1449.78 Q1101.49 1447 1101.49 1441.66 M1112.21 1425.34 L1112.21 1425.34 Z\" fill=\"#000000\" fill-rule=\"nonzero\" fill-opacity=\"1\" /><path clip-path=\"url(#clip240)\" d=\"M1152.16 1430.94 Q1153.76 1428.07 1155.98 1426.7 Q1158.2 1425.34 1161.21 1425.34 Q1165.26 1425.34 1167.46 1428.18 Q1169.66 1431.01 1169.66 1436.24 L1169.66 1451.89 L1165.38 1451.89 L1165.38 1436.38 Q1165.38 1432.65 1164.06 1430.85 Q1162.74 1429.04 1160.03 1429.04 Q1156.72 1429.04 1154.8 1431.24 Q1152.88 1433.44 1152.88 1437.24 L1152.88 1451.89 L1148.59 1451.89 L1148.59 1436.38 Q1148.59 1432.63 1147.28 1430.85 Q1145.96 1429.04 1143.2 1429.04 Q1139.94 1429.04 1138.02 1431.26 Q1136.09 1433.46 1136.09 1437.24 L1136.09 1451.89 L1131.81 1451.89 L1131.81 1425.96 L1136.09 1425.96 L1136.09 1429.99 Q1137.55 1427.61 1139.59 1426.47 Q1141.63 1425.34 1144.43 1425.34 Q1147.25 1425.34 1149.22 1426.77 Q1151.21 1428.21 1152.16 1430.94 Z\" fill=\"#000000\" fill-rule=\"nonzero\" fill-opacity=\"1\" /><path clip-path=\"url(#clip240)\" d=\"M1177.71 1441.66 L1177.71 1425.96 L1181.97 1425.96 L1181.97 1441.49 Q1181.97 1445.17 1183.41 1447.03 Q1184.84 1448.86 1187.71 1448.86 Q1191.16 1448.86 1193.15 1446.66 Q1195.17 1444.46 1195.17 1440.66 L1195.17 1425.96 L1199.43 1425.96 L1199.43 1451.89 L1195.17 1451.89 L1195.17 1447.91 Q1193.62 1450.27 1191.56 1451.42 Q1189.52 1452.56 1186.81 1452.56 Q1182.34 1452.56 1180.03 1449.78 Q1177.71 1447 1177.71 1441.66 M1188.43 1425.34 L1188.43 1425.34 Z\" fill=\"#000000\" fill-rule=\"nonzero\" fill-opacity=\"1\" /><path clip-path=\"url(#clip240)\" d=\"M1208.2 1415.87 L1212.46 1415.87 L1212.46 1451.89 L1208.2 1451.89 L1208.2 1415.87 Z\" fill=\"#000000\" fill-rule=\"nonzero\" fill-opacity=\"1\" /><path clip-path=\"url(#clip240)\" d=\"M1233.15 1438.86 Q1227.99 1438.86 1226 1440.04 Q1224.01 1441.22 1224.01 1444.06 Q1224.01 1446.33 1225.49 1447.67 Q1227 1448.99 1229.57 1448.99 Q1233.11 1448.99 1235.24 1446.49 Q1237.39 1443.97 1237.39 1439.8 L1237.39 1438.86 L1233.15 1438.86 M1241.65 1437.1 L1241.65 1451.89 L1237.39 1451.89 L1237.39 1447.95 Q1235.93 1450.31 1233.76 1451.45 Q1231.58 1452.56 1228.43 1452.56 Q1224.45 1452.56 1222.09 1450.34 Q1219.75 1448.09 1219.75 1444.34 Q1219.75 1439.97 1222.67 1437.74 Q1225.61 1435.52 1231.42 1435.52 L1237.39 1435.52 L1237.39 1435.11 Q1237.39 1432.17 1235.45 1430.57 Q1233.52 1428.95 1230.03 1428.95 Q1227.81 1428.95 1225.7 1429.48 Q1223.59 1430.01 1221.65 1431.08 L1221.65 1427.14 Q1223.99 1426.24 1226.19 1425.8 Q1228.39 1425.34 1230.47 1425.34 Q1236.09 1425.34 1238.87 1428.25 Q1241.65 1431.17 1241.65 1437.1 Z\" fill=\"#000000\" fill-rule=\"nonzero\" fill-opacity=\"1\" /><path clip-path=\"url(#clip240)\" d=\"M1254.64 1418.6 L1254.64 1425.96 L1263.41 1425.96 L1263.41 1429.27 L1254.64 1429.27 L1254.64 1443.35 Q1254.64 1446.52 1255.49 1447.42 Q1256.37 1448.32 1259.03 1448.32 L1263.41 1448.32 L1263.41 1451.89 L1259.03 1451.89 Q1254.1 1451.89 1252.23 1450.06 Q1250.35 1448.21 1250.35 1443.35 L1250.35 1429.27 L1247.23 1429.27 L1247.23 1425.96 L1250.35 1425.96 L1250.35 1418.6 L1254.64 1418.6 Z\" fill=\"#000000\" fill-rule=\"nonzero\" fill-opacity=\"1\" /><path clip-path=\"url(#clip240)\" d=\"M1269.01 1425.96 L1273.27 1425.96 L1273.27 1451.89 L1269.01 1451.89 L1269.01 1425.96 M1269.01 1415.87 L1273.27 1415.87 L1273.27 1421.26 L1269.01 1421.26 L1269.01 1415.87 Z\" fill=\"#000000\" fill-rule=\"nonzero\" fill-opacity=\"1\" /><path clip-path=\"url(#clip240)\" d=\"M1279.13 1425.96 L1283.64 1425.96 L1291.74 1447.72 L1299.84 1425.96 L1304.36 1425.96 L1294.64 1451.89 L1288.85 1451.89 L1279.13 1425.96 Z\" fill=\"#000000\" fill-rule=\"nonzero\" fill-opacity=\"1\" /><path clip-path=\"url(#clip240)\" d=\"M1332.41 1437.86 L1332.41 1439.94 L1312.83 1439.94 Q1313.11 1444.34 1315.47 1446.66 Q1317.85 1448.95 1322.09 1448.95 Q1324.54 1448.95 1326.83 1448.35 Q1329.15 1447.74 1331.42 1446.54 L1331.42 1450.57 Q1329.13 1451.54 1326.72 1452.05 Q1324.31 1452.56 1321.83 1452.56 Q1315.63 1452.56 1312 1448.95 Q1308.39 1445.34 1308.39 1439.18 Q1308.39 1432.81 1311.81 1429.09 Q1315.26 1425.34 1321.09 1425.34 Q1326.33 1425.34 1329.36 1428.72 Q1332.41 1432.07 1332.41 1437.86 M1328.15 1436.61 Q1328.11 1433.11 1326.19 1431.03 Q1324.29 1428.95 1321.14 1428.95 Q1317.58 1428.95 1315.42 1430.96 Q1313.29 1432.98 1312.97 1436.63 L1328.15 1436.61 Z\" fill=\"#000000\" fill-rule=\"nonzero\" fill-opacity=\"1\" /><path clip-path=\"url(#clip240)\" d=\"M1376.65 1437.86 L1376.65 1439.94 L1357.07 1439.94 Q1357.34 1444.34 1359.7 1446.66 Q1362.09 1448.95 1366.32 1448.95 Q1368.78 1448.95 1371.07 1448.35 Q1373.38 1447.74 1375.65 1446.54 L1375.65 1450.57 Q1373.36 1451.54 1370.95 1452.05 Q1368.55 1452.56 1366.07 1452.56 Q1359.87 1452.56 1356.23 1448.95 Q1352.62 1445.34 1352.62 1439.18 Q1352.62 1432.81 1356.05 1429.09 Q1359.5 1425.34 1365.33 1425.34 Q1370.56 1425.34 1373.59 1428.72 Q1376.65 1432.07 1376.65 1437.86 M1372.39 1436.61 Q1372.34 1433.11 1370.42 1431.03 Q1368.52 1428.95 1365.38 1428.95 Q1361.81 1428.95 1359.66 1430.96 Q1357.53 1432.98 1357.2 1436.63 L1372.39 1436.61 Z\" fill=\"#000000\" fill-rule=\"nonzero\" fill-opacity=\"1\" /><path clip-path=\"url(#clip240)\" d=\"M1383.64 1425.96 L1387.9 1425.96 L1387.9 1451.89 L1383.64 1451.89 L1383.64 1425.96 M1383.64 1415.87 L1387.9 1415.87 L1387.9 1421.26 L1383.64 1421.26 L1383.64 1415.87 Z\" fill=\"#000000\" fill-rule=\"nonzero\" fill-opacity=\"1\" /><path clip-path=\"url(#clip240)\" d=\"M1413.87 1438.62 Q1413.87 1433.99 1411.95 1431.45 Q1410.05 1428.9 1406.6 1428.9 Q1403.18 1428.9 1401.26 1431.45 Q1399.36 1433.99 1399.36 1438.62 Q1399.36 1443.23 1401.26 1445.78 Q1403.18 1448.32 1406.6 1448.32 Q1410.05 1448.32 1411.95 1445.78 Q1413.87 1443.23 1413.87 1438.62 M1418.13 1448.67 Q1418.13 1455.29 1415.19 1458.51 Q1412.25 1461.75 1406.19 1461.75 Q1403.94 1461.75 1401.95 1461.4 Q1399.96 1461.08 1398.08 1460.38 L1398.08 1456.24 Q1399.96 1457.26 1401.79 1457.74 Q1403.62 1458.23 1405.51 1458.23 Q1409.7 1458.23 1411.79 1456.03 Q1413.87 1453.86 1413.87 1449.43 L1413.87 1447.33 Q1412.55 1449.62 1410.49 1450.75 Q1408.43 1451.89 1405.56 1451.89 Q1400.79 1451.89 1397.88 1448.25 Q1394.96 1444.62 1394.96 1438.62 Q1394.96 1432.61 1397.88 1428.97 Q1400.79 1425.34 1405.56 1425.34 Q1408.43 1425.34 1410.49 1426.47 Q1412.55 1427.61 1413.87 1429.9 L1413.87 1425.96 L1418.13 1425.96 L1418.13 1448.67 Z\" fill=\"#000000\" fill-rule=\"nonzero\" fill-opacity=\"1\" /><path clip-path=\"url(#clip240)\" d=\"M1449.08 1437.86 L1449.08 1439.94 L1429.5 1439.94 Q1429.77 1444.34 1432.13 1446.66 Q1434.52 1448.95 1438.75 1448.95 Q1441.21 1448.95 1443.5 1448.35 Q1445.82 1447.74 1448.08 1446.54 L1448.08 1450.57 Q1445.79 1451.54 1443.38 1452.05 Q1440.98 1452.56 1438.5 1452.56 Q1432.3 1452.56 1428.66 1448.95 Q1425.05 1445.34 1425.05 1439.18 Q1425.05 1432.81 1428.48 1429.09 Q1431.93 1425.34 1437.76 1425.34 Q1442.99 1425.34 1446.02 1428.72 Q1449.08 1432.07 1449.08 1437.86 M1444.82 1436.61 Q1444.77 1433.11 1442.85 1431.03 Q1440.95 1428.95 1437.81 1428.95 Q1434.24 1428.95 1432.09 1430.96 Q1429.96 1432.98 1429.63 1436.63 L1444.82 1436.61 Z\" fill=\"#000000\" fill-rule=\"nonzero\" fill-opacity=\"1\" /><path clip-path=\"url(#clip240)\" d=\"M1477.62 1436.24 L1477.62 1451.89 L1473.36 1451.89 L1473.36 1436.38 Q1473.36 1432.7 1471.93 1430.87 Q1470.49 1429.04 1467.62 1429.04 Q1464.17 1429.04 1462.18 1431.24 Q1460.19 1433.44 1460.19 1437.24 L1460.19 1451.89 L1455.91 1451.89 L1455.91 1425.96 L1460.19 1425.96 L1460.19 1429.99 Q1461.72 1427.65 1463.78 1426.49 Q1465.86 1425.34 1468.57 1425.34 Q1473.04 1425.34 1475.33 1428.11 Q1477.62 1430.87 1477.62 1436.24 Z\" fill=\"#000000\" fill-rule=\"nonzero\" fill-opacity=\"1\" /><path clip-path=\"url(#clip240)\" d=\"M1483.06 1425.96 L1487.57 1425.96 L1495.68 1447.72 L1503.78 1425.96 L1508.29 1425.96 L1498.57 1451.89 L1492.78 1451.89 L1483.06 1425.96 Z\" fill=\"#000000\" fill-rule=\"nonzero\" fill-opacity=\"1\" /><path clip-path=\"url(#clip240)\" d=\"M1525.95 1438.86 Q1520.79 1438.86 1518.8 1440.04 Q1516.81 1441.22 1516.81 1444.06 Q1516.81 1446.33 1518.29 1447.67 Q1519.8 1448.99 1522.37 1448.99 Q1525.91 1448.99 1528.04 1446.49 Q1530.19 1443.97 1530.19 1439.8 L1530.19 1438.86 L1525.95 1438.86 M1534.45 1437.1 L1534.45 1451.89 L1530.19 1451.89 L1530.19 1447.95 Q1528.73 1450.31 1526.56 1451.45 Q1524.38 1452.56 1521.23 1452.56 Q1517.25 1452.56 1514.89 1450.34 Q1512.55 1448.09 1512.55 1444.34 Q1512.55 1439.97 1515.47 1437.74 Q1518.41 1435.52 1524.22 1435.52 L1530.19 1435.52 L1530.19 1435.11 Q1530.19 1432.17 1528.25 1430.57 Q1526.32 1428.95 1522.83 1428.95 Q1520.61 1428.95 1518.5 1429.48 Q1516.39 1430.01 1514.45 1431.08 L1514.45 1427.14 Q1516.79 1426.24 1518.99 1425.8 Q1521.19 1425.34 1523.27 1425.34 Q1528.89 1425.34 1531.67 1428.25 Q1534.45 1431.17 1534.45 1437.1 Z\" fill=\"#000000\" fill-rule=\"nonzero\" fill-opacity=\"1\" /><path clip-path=\"url(#clip240)\" d=\"M1543.22 1415.87 L1547.48 1415.87 L1547.48 1451.89 L1543.22 1451.89 L1543.22 1415.87 Z\" fill=\"#000000\" fill-rule=\"nonzero\" fill-opacity=\"1\" /><path clip-path=\"url(#clip240)\" d=\"M1555.95 1441.66 L1555.95 1425.96 L1560.21 1425.96 L1560.21 1441.49 Q1560.21 1445.17 1561.65 1447.03 Q1563.08 1448.86 1565.95 1448.86 Q1569.4 1448.86 1571.39 1446.66 Q1573.41 1444.46 1573.41 1440.66 L1573.41 1425.96 L1577.67 1425.96 L1577.67 1451.89 L1573.41 1451.89 L1573.41 1447.91 Q1571.86 1450.27 1569.8 1451.42 Q1567.76 1452.56 1565.05 1452.56 Q1560.58 1452.56 1558.27 1449.78 Q1555.95 1447 1555.95 1441.66 M1566.67 1425.34 L1566.67 1425.34 Z\" fill=\"#000000\" fill-rule=\"nonzero\" fill-opacity=\"1\" /><path clip-path=\"url(#clip240)\" d=\"M1608.62 1437.86 L1608.62 1439.94 L1589.03 1439.94 Q1589.31 1444.34 1591.67 1446.66 Q1594.06 1448.95 1598.29 1448.95 Q1600.74 1448.95 1603.04 1448.35 Q1605.35 1447.74 1607.62 1446.54 L1607.62 1450.57 Q1605.33 1451.54 1602.92 1452.05 Q1600.51 1452.56 1598.04 1452.56 Q1591.83 1452.56 1588.2 1448.95 Q1584.59 1445.34 1584.59 1439.18 Q1584.59 1432.81 1588.01 1429.09 Q1591.46 1425.34 1597.3 1425.34 Q1602.53 1425.34 1605.56 1428.72 Q1608.62 1432.07 1608.62 1437.86 M1604.36 1436.61 Q1604.31 1433.11 1602.39 1431.03 Q1600.49 1428.95 1597.34 1428.95 Q1593.78 1428.95 1591.62 1430.96 Q1589.49 1432.98 1589.17 1436.63 L1604.36 1436.61 Z\" fill=\"#000000\" fill-rule=\"nonzero\" fill-opacity=\"1\" /><path clip-path=\"url(#clip240)\" d=\"M1632.13 1426.73 L1632.13 1430.75 Q1630.33 1429.83 1628.38 1429.36 Q1626.44 1428.9 1624.36 1428.9 Q1621.18 1428.9 1619.59 1429.87 Q1618.01 1430.85 1618.01 1432.79 Q1618.01 1434.27 1619.15 1435.13 Q1620.28 1435.96 1623.71 1436.73 L1625.17 1437.05 Q1629.7 1438.02 1631.6 1439.8 Q1633.52 1441.56 1633.52 1444.74 Q1633.52 1448.35 1630.65 1450.45 Q1627.8 1452.56 1622.8 1452.56 Q1620.72 1452.56 1618.45 1452.14 Q1616.21 1451.75 1613.71 1450.94 L1613.71 1446.54 Q1616.07 1447.77 1618.36 1448.39 Q1620.65 1448.99 1622.9 1448.99 Q1625.91 1448.99 1627.53 1447.98 Q1629.15 1446.93 1629.15 1445.06 Q1629.15 1443.32 1627.97 1442.4 Q1626.81 1441.47 1622.85 1440.61 L1621.37 1440.27 Q1617.41 1439.43 1615.65 1437.72 Q1613.89 1435.99 1613.89 1432.98 Q1613.89 1429.32 1616.49 1427.33 Q1619.08 1425.34 1623.85 1425.34 Q1626.21 1425.34 1628.29 1425.68 Q1630.37 1426.03 1632.13 1426.73 Z\" fill=\"#000000\" fill-rule=\"nonzero\" fill-opacity=\"1\" /><path clip-path=\"url(#clip240)\" d=\"M1185.26 187.557 Q1181.65 187.557 1179.82 191.122 Q1178.02 194.663 1178.02 201.793 Q1178.02 208.899 1179.82 212.464 Q1181.65 216.006 1185.26 216.006 Q1188.9 216.006 1190.7 212.464 Q1192.53 208.899 1192.53 201.793 Q1192.53 194.663 1190.7 191.122 Q1188.9 187.557 1185.26 187.557 M1185.26 183.853 Q1191.07 183.853 1194.13 188.46 Q1197.21 193.043 1197.21 201.793 Q1197.21 210.52 1194.13 215.126 Q1191.07 219.71 1185.26 219.71 Q1179.45 219.71 1176.37 215.126 Q1173.32 210.52 1173.32 201.793 Q1173.32 193.043 1176.37 188.46 Q1179.45 183.853 1185.26 183.853 Z\" fill=\"#000000\" fill-rule=\"nonzero\" fill-opacity=\"1\" /><path clip-path=\"url(#clip240)\" d=\"M1205.43 213.159 L1210.31 213.159 L1210.31 219.038 L1205.43 219.038 L1205.43 213.159 Z\" fill=\"#000000\" fill-rule=\"nonzero\" fill-opacity=\"1\" /><path clip-path=\"url(#clip240)\" d=\"M1220.63 218.321 L1220.63 214.061 Q1222.39 214.895 1224.2 215.335 Q1226 215.774 1227.74 215.774 Q1232.37 215.774 1234.8 212.673 Q1237.25 209.548 1237.6 203.205 Q1236.26 205.196 1234.2 206.261 Q1232.14 207.325 1229.64 207.325 Q1224.45 207.325 1221.42 204.2 Q1218.41 201.052 1218.41 195.613 Q1218.41 190.288 1221.56 187.071 Q1224.71 183.853 1229.94 183.853 Q1235.93 183.853 1239.08 188.46 Q1242.25 193.043 1242.25 201.793 Q1242.25 209.964 1238.37 214.849 Q1234.5 219.71 1227.95 219.71 Q1226.19 219.71 1224.38 219.362 Q1222.58 219.015 1220.63 218.321 M1229.94 203.668 Q1233.09 203.668 1234.92 201.515 Q1236.77 199.362 1236.77 195.613 Q1236.77 191.886 1234.92 189.733 Q1233.09 187.557 1229.94 187.557 Q1226.79 187.557 1224.94 189.733 Q1223.11 191.886 1223.11 195.613 Q1223.11 199.362 1224.94 201.515 Q1226.79 203.668 1229.94 203.668 Z\" fill=\"#000000\" fill-rule=\"nonzero\" fill-opacity=\"1\" /><path clip-path=\"url(#clip240)\" d=\"M1250.7 184.478 L1269.06 184.478 L1269.06 188.413 L1254.99 188.413 L1254.99 196.886 Q1256 196.538 1257.02 196.376 Q1258.04 196.191 1259.06 196.191 Q1264.85 196.191 1268.23 199.362 Q1271.61 202.534 1271.61 207.95 Q1271.61 213.529 1268.13 216.631 Q1264.66 219.71 1258.34 219.71 Q1256.17 219.71 1253.9 219.339 Q1251.65 218.969 1249.24 218.228 L1249.24 213.529 Q1251.33 214.663 1253.55 215.219 Q1255.77 215.774 1258.25 215.774 Q1262.25 215.774 1264.59 213.668 Q1266.93 211.561 1266.93 207.95 Q1266.93 204.339 1264.59 202.233 Q1262.25 200.126 1258.25 200.126 Q1256.37 200.126 1254.5 200.543 Q1252.65 200.96 1250.7 201.839 L1250.7 184.478 Z\" fill=\"#000000\" fill-rule=\"nonzero\" fill-opacity=\"1\" /><path clip-path=\"url(#clip240)\" d=\"M1310.22 203.83 Q1308.2 203.83 1307.05 205.543 Q1305.91 207.256 1305.91 210.311 Q1305.91 213.321 1307.05 215.057 Q1308.2 216.77 1310.22 216.77 Q1312.18 216.77 1313.32 215.057 Q1314.48 213.321 1314.48 210.311 Q1314.48 207.279 1313.32 205.566 Q1312.18 203.83 1310.22 203.83 M1310.22 200.89 Q1313.87 200.89 1316.03 203.437 Q1318.18 205.983 1318.18 210.311 Q1318.18 214.64 1316 217.186 Q1313.85 219.71 1310.22 219.71 Q1306.51 219.71 1304.36 217.186 Q1302.21 214.64 1302.21 210.311 Q1302.21 205.96 1304.36 203.437 Q1306.54 200.89 1310.22 200.89 M1286.33 186.793 Q1284.34 186.793 1283.18 188.529 Q1282.05 190.242 1282.05 193.251 Q1282.05 196.307 1283.18 198.02 Q1284.31 199.733 1286.33 199.733 Q1288.34 199.733 1289.48 198.02 Q1290.63 196.307 1290.63 193.251 Q1290.63 190.265 1289.48 188.529 Q1288.32 186.793 1286.33 186.793 M1307.23 183.853 L1310.93 183.853 L1289.31 219.71 L1285.61 219.71 L1307.23 183.853 M1286.33 183.853 Q1289.99 183.853 1292.16 186.4 Q1294.34 188.923 1294.34 193.251 Q1294.34 197.626 1292.16 200.15 Q1290.01 202.673 1286.33 202.673 Q1282.65 202.673 1280.49 200.15 Q1278.36 197.603 1278.36 193.251 Q1278.36 188.946 1280.52 186.4 Q1282.67 183.853 1286.33 183.853 Z\" fill=\"#000000\" fill-rule=\"nonzero\" fill-opacity=\"1\" /></svg>\n"
      ],
      "text/html": [
       "<?xml version=\"1.0\" encoding=\"utf-8\"?>\n",
       "<svg xmlns=\"http://www.w3.org/2000/svg\" xmlns:xlink=\"http://www.w3.org/1999/xlink\" width=\"600\" height=\"400\" viewBox=\"0 0 2400 1600\">\n",
       "<defs>\n",
       "  <clipPath id=\"clip290\">\n",
       "    <rect x=\"0\" y=\"0\" width=\"2400\" height=\"1600\"/>\n",
       "  </clipPath>\n",
       "</defs>\n",
       "<path clip-path=\"url(#clip290)\" d=\"M0 1600 L2400 1600 L2400 0 L0 0  Z\" fill=\"#ffffff\" fill-rule=\"evenodd\" fill-opacity=\"1\"/>\n",
       "<defs>\n",
       "  <clipPath id=\"clip291\">\n",
       "    <rect x=\"480\" y=\"0\" width=\"1681\" height=\"1600\"/>\n",
       "  </clipPath>\n",
       "</defs>\n",
       "<path clip-path=\"url(#clip290)\" d=\"M186.274 1233.37 L2352.76 1233.37 L2352.76 114.832 L186.274 114.832  Z\" fill=\"#ffffff\" fill-rule=\"evenodd\" fill-opacity=\"1\"/>\n",
       "<defs>\n",
       "  <clipPath id=\"clip292\">\n",
       "    <rect x=\"186\" y=\"114\" width=\"2167\" height=\"1120\"/>\n",
       "  </clipPath>\n",
       "</defs>\n",
       "<polyline clip-path=\"url(#clip292)\" style=\"stroke:#000000; stroke-linecap:round; stroke-linejoin:round; stroke-width:2; stroke-opacity:0.1; fill:none\" points=\"200.058,1233.37 200.058,114.832 \"/>\n",
       "<polyline clip-path=\"url(#clip292)\" style=\"stroke:#000000; stroke-linecap:round; stroke-linejoin:round; stroke-width:2; stroke-opacity:0.1; fill:none\" points=\"675.372,1233.37 675.372,114.832 \"/>\n",
       "<polyline clip-path=\"url(#clip292)\" style=\"stroke:#000000; stroke-linecap:round; stroke-linejoin:round; stroke-width:2; stroke-opacity:0.1; fill:none\" points=\"1150.69,1233.37 1150.69,114.832 \"/>\n",
       "<polyline clip-path=\"url(#clip292)\" style=\"stroke:#000000; stroke-linecap:round; stroke-linejoin:round; stroke-width:2; stroke-opacity:0.1; fill:none\" points=\"1626,1233.37 1626,114.832 \"/>\n",
       "<polyline clip-path=\"url(#clip292)\" style=\"stroke:#000000; stroke-linecap:round; stroke-linejoin:round; stroke-width:2; stroke-opacity:0.1; fill:none\" points=\"2101.31,1233.37 2101.31,114.832 \"/>\n",
       "<polyline clip-path=\"url(#clip290)\" style=\"stroke:#000000; stroke-linecap:round; stroke-linejoin:round; stroke-width:4; stroke-opacity:1; fill:none\" points=\"186.274,1233.37 2352.76,1233.37 \"/>\n",
       "<polyline clip-path=\"url(#clip290)\" style=\"stroke:#000000; stroke-linecap:round; stroke-linejoin:round; stroke-width:4; stroke-opacity:1; fill:none\" points=\"200.058,1233.37 200.058,1217.96 \"/>\n",
       "<polyline clip-path=\"url(#clip290)\" style=\"stroke:#000000; stroke-linecap:round; stroke-linejoin:round; stroke-width:4; stroke-opacity:1; fill:none\" points=\"675.372,1233.37 675.372,1217.96 \"/>\n",
       "<polyline clip-path=\"url(#clip290)\" style=\"stroke:#000000; stroke-linecap:round; stroke-linejoin:round; stroke-width:4; stroke-opacity:1; fill:none\" points=\"1150.69,1233.37 1150.69,1217.96 \"/>\n",
       "<polyline clip-path=\"url(#clip290)\" style=\"stroke:#000000; stroke-linecap:round; stroke-linejoin:round; stroke-width:4; stroke-opacity:1; fill:none\" points=\"1626,1233.37 1626,1217.96 \"/>\n",
       "<polyline clip-path=\"url(#clip290)\" style=\"stroke:#000000; stroke-linecap:round; stroke-linejoin:round; stroke-width:4; stroke-opacity:1; fill:none\" points=\"2101.31,1233.37 2101.31,1217.96 \"/>\n",
       "<path clip-path=\"url(#clip290)\" d=\"M200.058 1264.29 Q196.447 1264.29 194.618 1267.85 Q192.813 1271.39 192.813 1278.52 Q192.813 1285.63 194.618 1289.19 Q196.447 1292.73 200.058 1292.73 Q203.692 1292.73 205.498 1289.19 Q207.327 1285.63 207.327 1278.52 Q207.327 1271.39 205.498 1267.85 Q203.692 1264.29 200.058 1264.29 M200.058 1260.58 Q205.868 1260.58 208.924 1265.19 Q212.002 1269.77 212.002 1278.52 Q212.002 1287.25 208.924 1291.86 Q205.868 1296.44 200.058 1296.44 Q194.248 1296.44 191.169 1291.86 Q188.114 1287.25 188.114 1278.52 Q188.114 1269.77 191.169 1265.19 Q194.248 1260.58 200.058 1260.58 Z\" fill=\"#000000\" fill-rule=\"nonzero\" fill-opacity=\"1\" /><path clip-path=\"url(#clip290)\" d=\"M650.06 1291.83 L657.699 1291.83 L657.699 1265.47 L649.389 1267.13 L649.389 1262.87 L657.652 1261.21 L662.328 1261.21 L662.328 1291.83 L669.967 1291.83 L669.967 1295.77 L650.06 1295.77 L650.06 1291.83 Z\" fill=\"#000000\" fill-rule=\"nonzero\" fill-opacity=\"1\" /><path clip-path=\"url(#clip290)\" d=\"M689.412 1264.29 Q685.8 1264.29 683.972 1267.85 Q682.166 1271.39 682.166 1278.52 Q682.166 1285.63 683.972 1289.19 Q685.8 1292.73 689.412 1292.73 Q693.046 1292.73 694.851 1289.19 Q696.68 1285.63 696.68 1278.52 Q696.68 1271.39 694.851 1267.85 Q693.046 1264.29 689.412 1264.29 M689.412 1260.58 Q695.222 1260.58 698.277 1265.19 Q701.356 1269.77 701.356 1278.52 Q701.356 1287.25 698.277 1291.86 Q695.222 1296.44 689.412 1296.44 Q683.601 1296.44 680.523 1291.86 Q677.467 1287.25 677.467 1278.52 Q677.467 1269.77 680.523 1265.19 Q683.601 1260.58 689.412 1260.58 Z\" fill=\"#000000\" fill-rule=\"nonzero\" fill-opacity=\"1\" /><path clip-path=\"url(#clip290)\" d=\"M1129.46 1291.83 L1145.78 1291.83 L1145.78 1295.77 L1123.83 1295.77 L1123.83 1291.83 Q1126.5 1289.08 1131.08 1284.45 Q1135.69 1279.8 1136.87 1278.45 Q1139.11 1275.93 1139.99 1274.19 Q1140.89 1272.43 1140.89 1270.74 Q1140.89 1267.99 1138.95 1266.25 Q1137.03 1264.52 1133.93 1264.52 Q1131.73 1264.52 1129.27 1265.28 Q1126.84 1266.05 1124.07 1267.6 L1124.07 1262.87 Q1126.89 1261.74 1129.34 1261.16 Q1131.8 1260.58 1133.83 1260.58 Q1139.2 1260.58 1142.4 1263.27 Q1145.59 1265.95 1145.59 1270.44 Q1145.59 1272.57 1144.78 1274.49 Q1144 1276.39 1141.89 1278.99 Q1141.31 1279.66 1138.21 1282.87 Q1135.11 1286.07 1129.46 1291.83 Z\" fill=\"#000000\" fill-rule=\"nonzero\" fill-opacity=\"1\" /><path clip-path=\"url(#clip290)\" d=\"M1165.59 1264.29 Q1161.98 1264.29 1160.15 1267.85 Q1158.35 1271.39 1158.35 1278.52 Q1158.35 1285.63 1160.15 1289.19 Q1161.98 1292.73 1165.59 1292.73 Q1169.23 1292.73 1171.03 1289.19 Q1172.86 1285.63 1172.86 1278.52 Q1172.86 1271.39 1171.03 1267.85 Q1169.23 1264.29 1165.59 1264.29 M1165.59 1260.58 Q1171.4 1260.58 1174.46 1265.19 Q1177.54 1269.77 1177.54 1278.52 Q1177.54 1287.25 1174.46 1291.86 Q1171.4 1296.44 1165.59 1296.44 Q1159.78 1296.44 1156.7 1291.86 Q1153.65 1287.25 1153.65 1278.52 Q1153.65 1269.77 1156.7 1265.19 Q1159.78 1260.58 1165.59 1260.58 Z\" fill=\"#000000\" fill-rule=\"nonzero\" fill-opacity=\"1\" /><path clip-path=\"url(#clip290)\" d=\"M1614.84 1277.13 Q1618.2 1277.85 1620.07 1280.12 Q1621.97 1282.39 1621.97 1285.72 Q1621.97 1290.84 1618.45 1293.64 Q1614.94 1296.44 1608.45 1296.44 Q1606.28 1296.44 1603.96 1296 Q1601.67 1295.58 1599.22 1294.73 L1599.22 1290.21 Q1601.16 1291.35 1603.48 1291.92 Q1605.79 1292.5 1608.32 1292.5 Q1612.71 1292.5 1615.01 1290.77 Q1617.32 1289.03 1617.32 1285.72 Q1617.32 1282.67 1615.17 1280.95 Q1613.04 1279.22 1609.22 1279.22 L1605.19 1279.22 L1605.19 1275.37 L1609.4 1275.37 Q1612.85 1275.37 1614.68 1274.01 Q1616.51 1272.62 1616.51 1270.03 Q1616.51 1267.36 1614.61 1265.95 Q1612.74 1264.52 1609.22 1264.52 Q1607.3 1264.52 1605.1 1264.93 Q1602.9 1265.35 1600.26 1266.23 L1600.26 1262.06 Q1602.92 1261.32 1605.24 1260.95 Q1607.57 1260.58 1609.63 1260.58 Q1614.96 1260.58 1618.06 1263.01 Q1621.16 1265.42 1621.16 1269.54 Q1621.16 1272.41 1619.52 1274.4 Q1617.88 1276.37 1614.84 1277.13 Z\" fill=\"#000000\" fill-rule=\"nonzero\" fill-opacity=\"1\" /><path clip-path=\"url(#clip290)\" d=\"M1640.84 1264.29 Q1637.23 1264.29 1635.4 1267.85 Q1633.59 1271.39 1633.59 1278.52 Q1633.59 1285.63 1635.4 1289.19 Q1637.23 1292.73 1640.84 1292.73 Q1644.47 1292.73 1646.28 1289.19 Q1648.11 1285.63 1648.11 1278.52 Q1648.11 1271.39 1646.28 1267.85 Q1644.47 1264.29 1640.84 1264.29 M1640.84 1260.58 Q1646.65 1260.58 1649.7 1265.19 Q1652.78 1269.77 1652.78 1278.52 Q1652.78 1287.25 1649.7 1291.86 Q1646.65 1296.44 1640.84 1296.44 Q1635.03 1296.44 1631.95 1291.86 Q1628.89 1287.25 1628.89 1278.52 Q1628.89 1269.77 1631.95 1265.19 Q1635.03 1260.58 1640.84 1260.58 Z\" fill=\"#000000\" fill-rule=\"nonzero\" fill-opacity=\"1\" /><path clip-path=\"url(#clip290)\" d=\"M2089.49 1265.28 L2077.68 1283.73 L2089.49 1283.73 L2089.49 1265.28 M2088.26 1261.21 L2094.14 1261.21 L2094.14 1283.73 L2099.07 1283.73 L2099.07 1287.62 L2094.14 1287.62 L2094.14 1295.77 L2089.49 1295.77 L2089.49 1287.62 L2073.88 1287.62 L2073.88 1283.11 L2088.26 1261.21 Z\" fill=\"#000000\" fill-rule=\"nonzero\" fill-opacity=\"1\" /><path clip-path=\"url(#clip290)\" d=\"M2116.8 1264.29 Q2113.19 1264.29 2111.36 1267.85 Q2109.56 1271.39 2109.56 1278.52 Q2109.56 1285.63 2111.36 1289.19 Q2113.19 1292.73 2116.8 1292.73 Q2120.43 1292.73 2122.24 1289.19 Q2124.07 1285.63 2124.07 1278.52 Q2124.07 1271.39 2122.24 1267.85 Q2120.43 1264.29 2116.8 1264.29 M2116.8 1260.58 Q2122.61 1260.58 2125.67 1265.19 Q2128.75 1269.77 2128.75 1278.52 Q2128.75 1287.25 2125.67 1291.86 Q2122.61 1296.44 2116.8 1296.44 Q2110.99 1296.44 2107.91 1291.86 Q2104.86 1287.25 2104.86 1278.52 Q2104.86 1269.77 2107.91 1265.19 Q2110.99 1260.58 2116.8 1260.58 Z\" fill=\"#000000\" fill-rule=\"nonzero\" fill-opacity=\"1\" /><polyline clip-path=\"url(#clip292)\" style=\"stroke:#000000; stroke-linecap:round; stroke-linejoin:round; stroke-width:2; stroke-opacity:0.1; fill:none\" points=\"186.274,1201.73 2352.76,1201.73 \"/>\n",
       "<polyline clip-path=\"url(#clip292)\" style=\"stroke:#000000; stroke-linecap:round; stroke-linejoin:round; stroke-width:2; stroke-opacity:0.1; fill:none\" points=\"186.274,939.709 2352.76,939.709 \"/>\n",
       "<polyline clip-path=\"url(#clip292)\" style=\"stroke:#000000; stroke-linecap:round; stroke-linejoin:round; stroke-width:2; stroke-opacity:0.1; fill:none\" points=\"186.274,677.69 2352.76,677.69 \"/>\n",
       "<polyline clip-path=\"url(#clip292)\" style=\"stroke:#000000; stroke-linecap:round; stroke-linejoin:round; stroke-width:2; stroke-opacity:0.1; fill:none\" points=\"186.274,415.672 2352.76,415.672 \"/>\n",
       "<polyline clip-path=\"url(#clip292)\" style=\"stroke:#000000; stroke-linecap:round; stroke-linejoin:round; stroke-width:2; stroke-opacity:0.1; fill:none\" points=\"186.274,153.653 2352.76,153.653 \"/>\n",
       "<polyline clip-path=\"url(#clip290)\" style=\"stroke:#000000; stroke-linecap:round; stroke-linejoin:round; stroke-width:4; stroke-opacity:1; fill:none\" points=\"186.274,1233.37 186.274,114.832 \"/>\n",
       "<polyline clip-path=\"url(#clip290)\" style=\"stroke:#000000; stroke-linecap:round; stroke-linejoin:round; stroke-width:4; stroke-opacity:1; fill:none\" points=\"186.274,1201.73 205.172,1201.73 \"/>\n",
       "<polyline clip-path=\"url(#clip290)\" style=\"stroke:#000000; stroke-linecap:round; stroke-linejoin:round; stroke-width:4; stroke-opacity:1; fill:none\" points=\"186.274,939.709 205.172,939.709 \"/>\n",
       "<polyline clip-path=\"url(#clip290)\" style=\"stroke:#000000; stroke-linecap:round; stroke-linejoin:round; stroke-width:4; stroke-opacity:1; fill:none\" points=\"186.274,677.69 205.172,677.69 \"/>\n",
       "<polyline clip-path=\"url(#clip290)\" style=\"stroke:#000000; stroke-linecap:round; stroke-linejoin:round; stroke-width:4; stroke-opacity:1; fill:none\" points=\"186.274,415.672 205.172,415.672 \"/>\n",
       "<polyline clip-path=\"url(#clip290)\" style=\"stroke:#000000; stroke-linecap:round; stroke-linejoin:round; stroke-width:4; stroke-opacity:1; fill:none\" points=\"186.274,153.653 205.172,153.653 \"/>\n",
       "<path clip-path=\"url(#clip290)\" d=\"M62.9365 1187.53 Q59.3254 1187.53 57.4967 1191.09 Q55.6912 1194.63 55.6912 1201.76 Q55.6912 1208.87 57.4967 1212.43 Q59.3254 1215.97 62.9365 1215.97 Q66.5707 1215.97 68.3763 1212.43 Q70.205 1208.87 70.205 1201.76 Q70.205 1194.63 68.3763 1191.09 Q66.5707 1187.53 62.9365 1187.53 M62.9365 1183.82 Q68.7467 1183.82 71.8022 1188.43 Q74.8809 1193.01 74.8809 1201.76 Q74.8809 1210.49 71.8022 1215.1 Q68.7467 1219.68 62.9365 1219.68 Q57.1264 1219.68 54.0477 1215.1 Q50.9921 1210.49 50.9921 1201.76 Q50.9921 1193.01 54.0477 1188.43 Q57.1264 1183.82 62.9365 1183.82 Z\" fill=\"#000000\" fill-rule=\"nonzero\" fill-opacity=\"1\" /><path clip-path=\"url(#clip290)\" d=\"M83.0984 1213.13 L87.9827 1213.13 L87.9827 1219.01 L83.0984 1219.01 L83.0984 1213.13 Z\" fill=\"#000000\" fill-rule=\"nonzero\" fill-opacity=\"1\" /><path clip-path=\"url(#clip290)\" d=\"M108.168 1187.53 Q104.557 1187.53 102.728 1191.09 Q100.922 1194.63 100.922 1201.76 Q100.922 1208.87 102.728 1212.43 Q104.557 1215.97 108.168 1215.97 Q111.802 1215.97 113.608 1212.43 Q115.436 1208.87 115.436 1201.76 Q115.436 1194.63 113.608 1191.09 Q111.802 1187.53 108.168 1187.53 M108.168 1183.82 Q113.978 1183.82 117.033 1188.43 Q120.112 1193.01 120.112 1201.76 Q120.112 1210.49 117.033 1215.1 Q113.978 1219.68 108.168 1219.68 Q102.358 1219.68 99.2789 1215.1 Q96.2234 1210.49 96.2234 1201.76 Q96.2234 1193.01 99.2789 1188.43 Q102.358 1183.82 108.168 1183.82 Z\" fill=\"#000000\" fill-rule=\"nonzero\" fill-opacity=\"1\" /><path clip-path=\"url(#clip290)\" d=\"M138.33 1187.53 Q134.719 1187.53 132.89 1191.09 Q131.084 1194.63 131.084 1201.76 Q131.084 1208.87 132.89 1212.43 Q134.719 1215.97 138.33 1215.97 Q141.964 1215.97 143.769 1212.43 Q145.598 1208.87 145.598 1201.76 Q145.598 1194.63 143.769 1191.09 Q141.964 1187.53 138.33 1187.53 M138.33 1183.82 Q144.14 1183.82 147.195 1188.43 Q150.274 1193.01 150.274 1201.76 Q150.274 1210.49 147.195 1215.1 Q144.14 1219.68 138.33 1219.68 Q132.519 1219.68 129.441 1215.1 Q126.385 1210.49 126.385 1201.76 Q126.385 1193.01 129.441 1188.43 Q132.519 1183.82 138.33 1183.82 Z\" fill=\"#000000\" fill-rule=\"nonzero\" fill-opacity=\"1\" /><path clip-path=\"url(#clip290)\" d=\"M63.9319 925.507 Q60.3208 925.507 58.4921 929.072 Q56.6865 932.614 56.6865 939.743 Q56.6865 946.85 58.4921 950.415 Q60.3208 953.956 63.9319 953.956 Q67.5661 953.956 69.3717 950.415 Q71.2004 946.85 71.2004 939.743 Q71.2004 932.614 69.3717 929.072 Q67.5661 925.507 63.9319 925.507 M63.9319 921.804 Q69.742 921.804 72.7976 926.41 Q75.8763 930.993 75.8763 939.743 Q75.8763 948.47 72.7976 953.077 Q69.742 957.66 63.9319 957.66 Q58.1217 957.66 55.043 953.077 Q51.9875 948.47 51.9875 939.743 Q51.9875 930.993 55.043 926.41 Q58.1217 921.804 63.9319 921.804 Z\" fill=\"#000000\" fill-rule=\"nonzero\" fill-opacity=\"1\" /><path clip-path=\"url(#clip290)\" d=\"M84.0938 951.109 L88.978 951.109 L88.978 956.989 L84.0938 956.989 L84.0938 951.109 Z\" fill=\"#000000\" fill-rule=\"nonzero\" fill-opacity=\"1\" /><path clip-path=\"url(#clip290)\" d=\"M103.191 953.054 L119.51 953.054 L119.51 956.989 L97.566 956.989 L97.566 953.054 Q100.228 950.299 104.811 945.669 Q109.418 941.017 110.598 939.674 Q112.844 937.151 113.723 935.415 Q114.626 933.656 114.626 931.966 Q114.626 929.211 112.682 927.475 Q110.76 925.739 107.658 925.739 Q105.459 925.739 103.006 926.503 Q100.575 927.267 97.7974 928.818 L97.7974 924.095 Q100.621 922.961 103.075 922.382 Q105.529 921.804 107.566 921.804 Q112.936 921.804 116.131 924.489 Q119.325 927.174 119.325 931.665 Q119.325 933.794 118.515 935.716 Q117.728 937.614 115.621 940.206 Q115.043 940.878 111.941 944.095 Q108.839 947.29 103.191 953.054 Z\" fill=\"#000000\" fill-rule=\"nonzero\" fill-opacity=\"1\" /><path clip-path=\"url(#clip290)\" d=\"M129.371 922.429 L147.728 922.429 L147.728 926.364 L133.654 926.364 L133.654 934.836 Q134.672 934.489 135.691 934.327 Q136.709 934.142 137.728 934.142 Q143.515 934.142 146.894 937.313 Q150.274 940.484 150.274 945.901 Q150.274 951.479 146.802 954.581 Q143.33 957.66 137.01 957.66 Q134.834 957.66 132.566 957.29 Q130.32 956.919 127.913 956.179 L127.913 951.479 Q129.996 952.614 132.219 953.169 Q134.441 953.725 136.918 953.725 Q140.922 953.725 143.26 951.618 Q145.598 949.512 145.598 945.901 Q145.598 942.29 143.26 940.183 Q140.922 938.077 136.918 938.077 Q135.043 938.077 133.168 938.493 Q131.316 938.91 129.371 939.79 L129.371 922.429 Z\" fill=\"#000000\" fill-rule=\"nonzero\" fill-opacity=\"1\" /><path clip-path=\"url(#clip290)\" d=\"M62.9365 663.489 Q59.3254 663.489 57.4967 667.054 Q55.6912 670.595 55.6912 677.725 Q55.6912 684.831 57.4967 688.396 Q59.3254 691.938 62.9365 691.938 Q66.5707 691.938 68.3763 688.396 Q70.205 684.831 70.205 677.725 Q70.205 670.595 68.3763 667.054 Q66.5707 663.489 62.9365 663.489 M62.9365 659.785 Q68.7467 659.785 71.8022 664.392 Q74.8809 668.975 74.8809 677.725 Q74.8809 686.452 71.8022 691.058 Q68.7467 695.642 62.9365 695.642 Q57.1264 695.642 54.0477 691.058 Q50.9921 686.452 50.9921 677.725 Q50.9921 668.975 54.0477 664.392 Q57.1264 659.785 62.9365 659.785 Z\" fill=\"#000000\" fill-rule=\"nonzero\" fill-opacity=\"1\" /><path clip-path=\"url(#clip290)\" d=\"M83.0984 689.091 L87.9827 689.091 L87.9827 694.97 L83.0984 694.97 L83.0984 689.091 Z\" fill=\"#000000\" fill-rule=\"nonzero\" fill-opacity=\"1\" /><path clip-path=\"url(#clip290)\" d=\"M98.2141 660.41 L116.57 660.41 L116.57 664.345 L102.496 664.345 L102.496 672.818 Q103.515 672.47 104.534 672.308 Q105.552 672.123 106.571 672.123 Q112.358 672.123 115.737 675.294 Q119.117 678.466 119.117 683.882 Q119.117 689.461 115.645 692.563 Q112.172 695.642 105.853 695.642 Q103.677 695.642 101.409 695.271 Q99.1632 694.901 96.7558 694.16 L96.7558 689.461 Q98.8391 690.595 101.061 691.151 Q103.284 691.706 105.76 691.706 Q109.765 691.706 112.103 689.6 Q114.441 687.493 114.441 683.882 Q114.441 680.271 112.103 678.165 Q109.765 676.058 105.76 676.058 Q103.885 676.058 102.01 676.475 Q100.159 676.892 98.2141 677.771 L98.2141 660.41 Z\" fill=\"#000000\" fill-rule=\"nonzero\" fill-opacity=\"1\" /><path clip-path=\"url(#clip290)\" d=\"M138.33 663.489 Q134.719 663.489 132.89 667.054 Q131.084 670.595 131.084 677.725 Q131.084 684.831 132.89 688.396 Q134.719 691.938 138.33 691.938 Q141.964 691.938 143.769 688.396 Q145.598 684.831 145.598 677.725 Q145.598 670.595 143.769 667.054 Q141.964 663.489 138.33 663.489 M138.33 659.785 Q144.14 659.785 147.195 664.392 Q150.274 668.975 150.274 677.725 Q150.274 686.452 147.195 691.058 Q144.14 695.642 138.33 695.642 Q132.519 695.642 129.441 691.058 Q126.385 686.452 126.385 677.725 Q126.385 668.975 129.441 664.392 Q132.519 659.785 138.33 659.785 Z\" fill=\"#000000\" fill-rule=\"nonzero\" fill-opacity=\"1\" /><path clip-path=\"url(#clip290)\" d=\"M63.9319 401.47 Q60.3208 401.47 58.4921 405.035 Q56.6865 408.577 56.6865 415.707 Q56.6865 422.813 58.4921 426.378 Q60.3208 429.919 63.9319 429.919 Q67.5661 429.919 69.3717 426.378 Q71.2004 422.813 71.2004 415.707 Q71.2004 408.577 69.3717 405.035 Q67.5661 401.47 63.9319 401.47 M63.9319 397.767 Q69.742 397.767 72.7976 402.373 Q75.8763 406.957 75.8763 415.707 Q75.8763 424.433 72.7976 429.04 Q69.742 433.623 63.9319 433.623 Q58.1217 433.623 55.043 429.04 Q51.9875 424.433 51.9875 415.707 Q51.9875 406.957 55.043 402.373 Q58.1217 397.767 63.9319 397.767 Z\" fill=\"#000000\" fill-rule=\"nonzero\" fill-opacity=\"1\" /><path clip-path=\"url(#clip290)\" d=\"M84.0938 427.072 L88.978 427.072 L88.978 432.952 L84.0938 432.952 L84.0938 427.072 Z\" fill=\"#000000\" fill-rule=\"nonzero\" fill-opacity=\"1\" /><path clip-path=\"url(#clip290)\" d=\"M97.9826 398.392 L120.205 398.392 L120.205 400.383 L107.658 432.952 L102.774 432.952 L114.58 402.327 L97.9826 402.327 L97.9826 398.392 Z\" fill=\"#000000\" fill-rule=\"nonzero\" fill-opacity=\"1\" /><path clip-path=\"url(#clip290)\" d=\"M129.371 398.392 L147.728 398.392 L147.728 402.327 L133.654 402.327 L133.654 410.799 Q134.672 410.452 135.691 410.29 Q136.709 410.105 137.728 410.105 Q143.515 410.105 146.894 413.276 Q150.274 416.447 150.274 421.864 Q150.274 427.443 146.802 430.544 Q143.33 433.623 137.01 433.623 Q134.834 433.623 132.566 433.253 Q130.32 432.882 127.913 432.142 L127.913 427.443 Q129.996 428.577 132.219 429.132 Q134.441 429.688 136.918 429.688 Q140.922 429.688 143.26 427.581 Q145.598 425.475 145.598 421.864 Q145.598 418.253 143.26 416.146 Q140.922 414.04 136.918 414.04 Q135.043 414.04 133.168 414.457 Q131.316 414.873 129.371 415.753 L129.371 398.392 Z\" fill=\"#000000\" fill-rule=\"nonzero\" fill-opacity=\"1\" /><path clip-path=\"url(#clip290)\" d=\"M53.7467 166.998 L61.3856 166.998 L61.3856 140.633 L53.0754 142.299 L53.0754 138.04 L61.3393 136.373 L66.0152 136.373 L66.0152 166.998 L73.654 166.998 L73.654 170.933 L53.7467 170.933 L53.7467 166.998 Z\" fill=\"#000000\" fill-rule=\"nonzero\" fill-opacity=\"1\" /><path clip-path=\"url(#clip290)\" d=\"M83.0984 165.054 L87.9827 165.054 L87.9827 170.933 L83.0984 170.933 L83.0984 165.054 Z\" fill=\"#000000\" fill-rule=\"nonzero\" fill-opacity=\"1\" /><path clip-path=\"url(#clip290)\" d=\"M108.168 139.452 Q104.557 139.452 102.728 143.017 Q100.922 146.558 100.922 153.688 Q100.922 160.795 102.728 164.359 Q104.557 167.901 108.168 167.901 Q111.802 167.901 113.608 164.359 Q115.436 160.795 115.436 153.688 Q115.436 146.558 113.608 143.017 Q111.802 139.452 108.168 139.452 M108.168 135.748 Q113.978 135.748 117.033 140.355 Q120.112 144.938 120.112 153.688 Q120.112 162.415 117.033 167.021 Q113.978 171.605 108.168 171.605 Q102.358 171.605 99.2789 167.021 Q96.2234 162.415 96.2234 153.688 Q96.2234 144.938 99.2789 140.355 Q102.358 135.748 108.168 135.748 Z\" fill=\"#000000\" fill-rule=\"nonzero\" fill-opacity=\"1\" /><path clip-path=\"url(#clip290)\" d=\"M138.33 139.452 Q134.719 139.452 132.89 143.017 Q131.084 146.558 131.084 153.688 Q131.084 160.795 132.89 164.359 Q134.719 167.901 138.33 167.901 Q141.964 167.901 143.769 164.359 Q145.598 160.795 145.598 153.688 Q145.598 146.558 143.769 143.017 Q141.964 139.452 138.33 139.452 M138.33 135.748 Q144.14 135.748 147.195 140.355 Q150.274 144.938 150.274 153.688 Q150.274 162.415 147.195 167.021 Q144.14 171.605 138.33 171.605 Q132.519 171.605 129.441 167.021 Q126.385 162.415 126.385 153.688 Q126.385 144.938 129.441 140.355 Q132.519 135.748 138.33 135.748 Z\" fill=\"#000000\" fill-rule=\"nonzero\" fill-opacity=\"1\" /><path clip-path=\"url(#clip290)\" d=\"M307.02 14.986 Q301.603 14.986 298.86 20.3332 Q296.152 25.6457 296.152 36.3401 Q296.152 46.9997 298.86 52.3469 Q301.603 57.6594 307.02 57.6594 Q312.471 57.6594 315.18 52.3469 Q317.923 46.9997 317.923 36.3401 Q317.923 25.6457 315.18 20.3332 Q312.471 14.986 307.02 14.986 M307.02 9.43051 Q315.735 9.43051 320.319 16.3402 Q324.937 23.2152 324.937 36.3401 Q324.937 49.4303 320.319 56.34 Q315.735 63.2149 307.02 63.2149 Q298.305 63.2149 293.687 56.34 Q289.104 49.4303 289.104 36.3401 Q289.104 23.2152 293.687 16.3402 Q298.305 9.43051 307.02 9.43051 Z\" fill=\"#000000\" fill-rule=\"nonzero\" fill-opacity=\"1\" /><path clip-path=\"url(#clip290)\" d=\"M337.263 53.3886 L344.589 53.3886 L344.589 62.208 L337.263 62.208 L337.263 53.3886 Z\" fill=\"#000000\" fill-rule=\"nonzero\" fill-opacity=\"1\" /><path clip-path=\"url(#clip290)\" d=\"M360.075 61.1316 L360.075 54.7428 Q362.714 55.9928 365.423 56.6525 Q368.131 57.3122 370.735 57.3122 Q377.679 57.3122 381.325 52.6594 Q385.006 47.972 385.527 38.4581 Q383.513 41.4442 380.422 43.0414 Q377.332 44.6386 373.582 44.6386 Q365.805 44.6386 361.256 39.9512 Q356.742 35.229 356.742 27.0693 Q356.742 19.0832 361.464 14.2569 Q366.186 9.43051 374.034 9.43051 Q383.027 9.43051 387.749 16.3402 Q392.506 23.2152 392.506 36.3401 Q392.506 48.597 386.672 55.9233 Q380.874 63.2149 371.048 63.2149 Q368.409 63.2149 365.7 62.6941 Q362.992 62.1733 360.075 61.1316 M374.034 39.1526 Q378.756 39.1526 381.499 35.9234 Q384.277 32.6943 384.277 27.0693 Q384.277 21.4791 381.499 18.2499 Q378.756 14.986 374.034 14.986 Q369.311 14.986 366.534 18.2499 Q363.791 21.4791 363.791 27.0693 Q363.791 32.6943 366.534 35.9234 Q369.311 39.1526 374.034 39.1526 Z\" fill=\"#000000\" fill-rule=\"nonzero\" fill-opacity=\"1\" /><path clip-path=\"url(#clip290)\" d=\"M405.179 10.368 L432.714 10.368 L432.714 16.2707 L411.603 16.2707 L411.603 28.979 Q413.131 28.4582 414.658 28.2151 Q416.186 27.9374 417.714 27.9374 Q426.394 27.9374 431.464 32.6943 Q436.533 37.4512 436.533 45.5761 Q436.533 53.9442 431.325 58.5969 Q426.117 63.2149 416.638 63.2149 Q413.374 63.2149 409.971 62.6594 Q406.603 62.1038 402.992 60.9927 L402.992 53.9442 Q406.117 55.6455 409.45 56.4789 Q412.783 57.3122 416.499 57.3122 Q422.506 57.3122 426.013 54.1525 Q429.519 50.9928 429.519 45.5761 Q429.519 40.1595 426.013 36.9998 Q422.506 33.8401 416.499 33.8401 Q413.686 33.8401 410.874 34.4651 Q408.096 35.0901 405.179 36.4095 L405.179 10.368 Z\" fill=\"#000000\" fill-rule=\"nonzero\" fill-opacity=\"1\" /><path clip-path=\"url(#clip290)\" d=\"M494.45 39.3956 Q491.429 39.3956 489.693 41.9651 Q487.991 44.5345 487.991 49.1178 Q487.991 53.6317 489.693 56.2358 Q491.429 58.8052 494.45 58.8052 Q497.401 58.8052 499.102 56.2358 Q500.839 53.6317 500.839 49.1178 Q500.839 44.5692 499.102 41.9998 Q497.401 39.3956 494.45 39.3956 M494.45 34.9859 Q499.936 34.9859 503.165 38.8053 Q506.394 42.6248 506.394 49.1178 Q506.394 55.6108 503.13 59.4302 Q499.901 63.2149 494.45 63.2149 Q488.894 63.2149 485.665 59.4302 Q482.436 55.6108 482.436 49.1178 Q482.436 42.59 485.665 38.8053 Q488.929 34.9859 494.45 34.9859 M458.617 13.8402 Q455.63 13.8402 453.894 16.4444 Q452.193 19.0138 452.193 23.5277 Q452.193 28.111 453.894 30.6804 Q455.596 33.2498 458.617 33.2498 Q461.637 33.2498 463.339 30.6804 Q465.075 28.111 465.075 23.5277 Q465.075 19.0485 463.339 16.4444 Q461.603 13.8402 458.617 13.8402 M489.971 9.43051 L495.526 9.43051 L463.096 63.2149 L457.54 63.2149 L489.971 9.43051 M458.617 9.43051 Q464.103 9.43051 467.366 13.2499 Q470.63 17.0346 470.63 23.5277 Q470.63 30.0901 467.366 33.8748 Q464.137 37.6595 458.617 37.6595 Q453.096 37.6595 449.867 33.8748 Q446.672 30.0554 446.672 23.5277 Q446.672 17.0694 449.901 13.2499 Q453.13 9.43051 458.617 9.43051 Z\" fill=\"#000000\" fill-rule=\"nonzero\" fill-opacity=\"1\" /><path clip-path=\"url(#clip290)\" d=\"M567.609 24.8124 L567.609 30.7846 Q564.901 29.2915 562.158 28.5623 Q559.449 27.7985 556.672 27.7985 Q550.456 27.7985 547.019 31.7568 Q543.581 35.6804 543.581 42.7984 Q543.581 49.9164 547.019 53.8747 Q550.456 57.7983 556.672 57.7983 Q559.449 57.7983 562.158 57.0691 Q564.901 56.3053 567.609 54.8122 L567.609 60.715 Q564.935 61.9649 562.053 62.5899 Q559.206 63.2149 555.977 63.2149 Q547.192 63.2149 542.019 57.6941 Q536.845 52.1733 536.845 42.7984 Q536.845 33.2845 542.054 27.8332 Q547.297 22.3818 556.394 22.3818 Q559.345 22.3818 562.158 23.0068 Q564.97 23.5971 567.609 24.8124 Z\" fill=\"#000000\" fill-rule=\"nonzero\" fill-opacity=\"1\" /><path clip-path=\"url(#clip290)\" d=\"M593.789 27.7985 Q588.651 27.7985 585.664 31.8262 Q582.678 35.8193 582.678 42.7984 Q582.678 49.7775 585.63 53.8053 Q588.616 57.7983 593.789 57.7983 Q598.894 57.7983 601.88 53.7705 Q604.866 49.7428 604.866 42.7984 Q604.866 35.8887 601.88 31.8609 Q598.894 27.7985 593.789 27.7985 M593.789 22.3818 Q602.123 22.3818 606.88 27.7985 Q611.637 33.2151 611.637 42.7984 Q611.637 52.3469 606.88 57.7983 Q602.123 63.2149 593.789 63.2149 Q585.421 63.2149 580.664 57.7983 Q575.942 52.3469 575.942 42.7984 Q575.942 33.2151 580.664 27.7985 Q585.421 22.3818 593.789 22.3818 Z\" fill=\"#000000\" fill-rule=\"nonzero\" fill-opacity=\"1\" /><path clip-path=\"url(#clip290)\" d=\"M617.643 23.3193 L624.414 23.3193 L636.567 55.958 L648.72 23.3193 L655.49 23.3193 L640.907 62.208 L632.227 62.208 L617.643 23.3193 Z\" fill=\"#000000\" fill-rule=\"nonzero\" fill-opacity=\"1\" /><path clip-path=\"url(#clip290)\" d=\"M697.574 41.1664 L697.574 44.2914 L668.199 44.2914 Q668.615 50.8886 672.157 54.3608 Q675.733 57.7983 682.088 57.7983 Q685.768 57.7983 689.206 56.8955 Q692.678 55.9928 696.081 54.1872 L696.081 60.2288 Q692.643 61.6872 689.032 62.4511 Q685.421 63.2149 681.706 63.2149 Q672.4 63.2149 666.949 57.7983 Q661.532 52.3817 661.532 43.1456 Q661.532 33.597 666.671 28.0068 Q671.845 22.3818 680.594 22.3818 Q688.442 22.3818 692.99 27.4512 Q697.574 32.4859 697.574 41.1664 M691.185 39.2915 Q691.115 34.0484 688.233 30.9234 Q685.386 27.7985 680.664 27.7985 Q675.317 27.7985 672.088 30.8193 Q668.893 33.8401 668.407 39.3262 L691.185 39.2915 Z\" fill=\"#000000\" fill-rule=\"nonzero\" fill-opacity=\"1\" /><path clip-path=\"url(#clip290)\" d=\"M730.594 29.2915 Q729.518 28.6665 728.233 28.3887 Q726.983 28.0762 725.455 28.0762 Q720.039 28.0762 717.122 31.6179 Q714.24 35.1248 714.24 41.722 L714.24 62.208 L707.817 62.208 L707.817 23.3193 L714.24 23.3193 L714.24 29.361 Q716.254 25.8193 719.483 24.1179 Q722.712 22.3818 727.33 22.3818 Q727.99 22.3818 728.789 22.486 Q729.587 22.5554 730.56 22.729 L730.594 29.2915 Z\" fill=\"#000000\" fill-rule=\"nonzero\" fill-opacity=\"1\" /><path clip-path=\"url(#clip290)\" d=\"M754.969 42.6595 Q747.226 42.6595 744.24 44.4303 Q741.254 46.2011 741.254 50.472 Q741.254 53.8747 743.476 55.8886 Q745.733 57.8677 749.587 57.8677 Q754.9 57.8677 758.094 54.1178 Q761.323 50.3331 761.323 44.0831 L761.323 42.6595 L754.969 42.6595 M767.712 40.0206 L767.712 62.208 L761.323 62.208 L761.323 56.3053 Q759.136 59.8469 755.872 61.5483 Q752.608 63.2149 747.886 63.2149 Q741.914 63.2149 738.372 59.8816 Q734.865 56.5136 734.865 50.8886 Q734.865 44.3262 739.24 40.9928 Q743.65 37.6595 752.365 37.6595 L761.323 37.6595 L761.323 37.0345 Q761.323 32.6248 758.407 30.229 Q755.525 27.7985 750.282 27.7985 Q746.948 27.7985 743.789 28.5971 Q740.629 29.3957 737.712 30.9929 L737.712 25.0901 Q741.219 23.736 744.518 23.0763 Q747.816 22.3818 750.941 22.3818 Q759.379 22.3818 763.545 26.7568 Q767.712 31.1318 767.712 40.0206 Z\" fill=\"#000000\" fill-rule=\"nonzero\" fill-opacity=\"1\" /><path clip-path=\"url(#clip290)\" d=\"M806.462 42.3123 Q806.462 35.3679 803.58 31.5484 Q800.733 27.729 795.559 27.729 Q790.42 27.729 787.538 31.5484 Q784.691 35.3679 784.691 42.3123 Q784.691 49.222 787.538 53.0414 Q790.42 56.8608 795.559 56.8608 Q800.733 56.8608 803.58 53.0414 Q806.462 49.222 806.462 42.3123 M812.851 57.3816 Q812.851 67.3121 808.441 72.1385 Q804.031 76.9996 794.934 76.9996 Q791.566 76.9996 788.58 76.4788 Q785.594 75.9926 782.781 74.951 L782.781 68.7357 Q785.594 70.2635 788.337 70.9927 Q791.08 71.7218 793.927 71.7218 Q800.212 71.7218 803.337 68.4232 Q806.462 65.1594 806.462 58.5275 L806.462 55.3678 Q804.483 58.8052 801.392 60.5066 Q798.302 62.208 793.997 62.208 Q786.844 62.208 782.469 56.7566 Q778.094 51.3053 778.094 42.3123 Q778.094 33.2845 782.469 27.8332 Q786.844 22.3818 793.997 22.3818 Q798.302 22.3818 801.392 24.0832 Q804.483 25.7846 806.462 29.2221 L806.462 23.3193 L812.851 23.3193 L812.851 57.3816 Z\" fill=\"#000000\" fill-rule=\"nonzero\" fill-opacity=\"1\" /><path clip-path=\"url(#clip290)\" d=\"M859.274 41.1664 L859.274 44.2914 L829.899 44.2914 Q830.316 50.8886 833.858 54.3608 Q837.434 57.7983 843.788 57.7983 Q847.469 57.7983 850.906 56.8955 Q854.378 55.9928 857.781 54.1872 L857.781 60.2288 Q854.344 61.6872 850.732 62.4511 Q847.121 63.2149 843.406 63.2149 Q834.101 63.2149 828.649 57.7983 Q823.233 52.3817 823.233 43.1456 Q823.233 33.597 828.371 28.0068 Q833.545 22.3818 842.295 22.3818 Q850.142 22.3818 854.691 27.4512 Q859.274 32.4859 859.274 41.1664 M852.885 39.2915 Q852.816 34.0484 849.934 30.9234 Q847.087 27.7985 842.364 27.7985 Q837.017 27.7985 833.788 30.8193 Q830.594 33.8401 830.108 39.3262 L852.885 39.2915 Z\" fill=\"#000000\" fill-rule=\"nonzero\" fill-opacity=\"1\" /><path clip-path=\"url(#clip290)\" d=\"M910.038 42.6595 Q902.295 42.6595 899.309 44.4303 Q896.323 46.2011 896.323 50.472 Q896.323 53.8747 898.545 55.8886 Q900.802 57.8677 904.656 57.8677 Q909.968 57.8677 913.163 54.1178 Q916.392 50.3331 916.392 44.0831 L916.392 42.6595 L910.038 42.6595 M922.781 40.0206 L922.781 62.208 L916.392 62.208 L916.392 56.3053 Q914.204 59.8469 910.94 61.5483 Q907.677 63.2149 902.954 63.2149 Q896.982 63.2149 893.441 59.8816 Q889.934 56.5136 889.934 50.8886 Q889.934 44.3262 894.309 40.9928 Q898.718 37.6595 907.434 37.6595 L916.392 37.6595 L916.392 37.0345 Q916.392 32.6248 913.475 30.229 Q910.593 27.7985 905.35 27.7985 Q902.017 27.7985 898.857 28.5971 Q895.698 29.3957 892.781 30.9929 L892.781 25.0901 Q896.288 23.736 899.586 23.0763 Q902.885 22.3818 906.01 22.3818 Q914.447 22.3818 918.614 26.7568 Q922.781 31.1318 922.781 40.0206 Z\" fill=\"#000000\" fill-rule=\"nonzero\" fill-opacity=\"1\" /><path clip-path=\"url(#clip290)\" d=\"M942.26 12.2777 L942.26 23.3193 L955.419 23.3193 L955.419 28.2846 L942.26 28.2846 L942.26 49.3956 Q942.26 54.1525 943.544 55.5066 Q944.864 56.8608 948.857 56.8608 L955.419 56.8608 L955.419 62.208 L948.857 62.208 Q941.461 62.208 938.649 59.465 Q935.836 56.6872 935.836 49.3956 L935.836 28.2846 L931.149 28.2846 L931.149 23.3193 L935.836 23.3193 L935.836 12.2777 L942.26 12.2777 Z\" fill=\"#000000\" fill-rule=\"nonzero\" fill-opacity=\"1\" /><path clip-path=\"url(#clip290)\" d=\"M992.746 12.2777 L992.746 23.3193 L1005.91 23.3193 L1005.91 28.2846 L992.746 28.2846 L992.746 49.3956 Q992.746 54.1525 994.03 55.5066 Q995.35 56.8608 999.343 56.8608 L1005.91 56.8608 L1005.91 62.208 L999.343 62.208 Q991.947 62.208 989.135 59.465 Q986.322 56.6872 986.322 49.3956 L986.322 28.2846 L981.635 28.2846 L981.635 23.3193 L986.322 23.3193 L986.322 12.2777 L992.746 12.2777 Z\" fill=\"#000000\" fill-rule=\"nonzero\" fill-opacity=\"1\" /><path clip-path=\"url(#clip290)\" d=\"M1046.63 38.7359 L1046.63 62.208 L1040.25 62.208 L1040.25 38.9442 Q1040.25 33.4234 1038.09 30.6804 Q1035.94 27.9374 1031.63 27.9374 Q1026.46 27.9374 1023.47 31.2359 Q1020.49 34.5345 1020.49 40.229 L1020.49 62.208 L1014.06 62.208 L1014.06 8.18051 L1020.49 8.18051 L1020.49 29.361 Q1022.78 25.854 1025.87 24.1179 Q1029 22.3818 1033.06 22.3818 Q1039.76 22.3818 1043.2 26.5485 Q1046.63 30.6804 1046.63 38.7359 Z\" fill=\"#000000\" fill-rule=\"nonzero\" fill-opacity=\"1\" /><path clip-path=\"url(#clip290)\" d=\"M1092.64 41.1664 L1092.64 44.2914 L1063.27 44.2914 Q1063.68 50.8886 1067.22 54.3608 Q1070.8 57.7983 1077.15 57.7983 Q1080.84 57.7983 1084.27 56.8955 Q1087.75 55.9928 1091.15 54.1872 L1091.15 60.2288 Q1087.71 61.6872 1084.1 62.4511 Q1080.49 63.2149 1076.77 63.2149 Q1067.47 63.2149 1062.02 57.7983 Q1056.6 52.3817 1056.6 43.1456 Q1056.6 33.597 1061.74 28.0068 Q1066.91 22.3818 1075.66 22.3818 Q1083.51 22.3818 1088.06 27.4512 Q1092.64 32.4859 1092.64 41.1664 M1086.25 39.2915 Q1086.18 34.0484 1083.3 30.9234 Q1080.45 27.7985 1075.73 27.7985 Q1070.38 27.7985 1067.15 30.8193 Q1063.96 33.8401 1063.47 39.3262 L1086.25 39.2915 Z\" fill=\"#000000\" fill-rule=\"nonzero\" fill-opacity=\"1\" /><path clip-path=\"url(#clip290)\" d=\"M1132.68 56.3053 L1157.15 56.3053 L1157.15 62.208 L1124.24 62.208 L1124.24 56.3053 Q1128.23 52.1733 1135.11 45.2289 Q1142.02 38.2498 1143.79 36.2359 Q1147.15 32.4512 1148.47 29.8471 Q1149.83 27.2082 1149.83 24.6735 Q1149.83 20.5416 1146.91 17.9374 Q1144.03 15.3333 1139.38 15.3333 Q1136.08 15.3333 1132.4 16.4791 Q1128.75 17.6249 1124.59 19.9513 L1124.59 12.868 Q1128.82 11.1666 1132.5 10.2986 Q1136.18 9.43051 1139.24 9.43051 Q1147.29 9.43051 1152.09 13.4583 Q1156.88 17.486 1156.88 24.2221 Q1156.88 27.4165 1155.66 30.2984 Q1154.48 33.1457 1151.32 37.0345 Q1150.45 38.0415 1145.8 42.8678 Q1141.15 47.6595 1132.68 56.3053 Z\" fill=\"#000000\" fill-rule=\"nonzero\" fill-opacity=\"1\" /><path clip-path=\"url(#clip290)\" d=\"M1177.92 56.3053 L1202.4 56.3053 L1202.4 62.208 L1169.48 62.208 L1169.48 56.3053 Q1173.47 52.1733 1180.35 45.2289 Q1187.26 38.2498 1189.03 36.2359 Q1192.4 32.4512 1193.72 29.8471 Q1195.07 27.2082 1195.07 24.6735 Q1195.07 20.5416 1192.15 17.9374 Q1189.27 15.3333 1184.62 15.3333 Q1181.32 15.3333 1177.64 16.4791 Q1173.99 17.6249 1169.83 19.9513 L1169.83 12.868 Q1174.06 11.1666 1177.74 10.2986 Q1181.43 9.43051 1184.48 9.43051 Q1192.54 9.43051 1197.33 13.4583 Q1202.12 17.486 1202.12 24.2221 Q1202.12 27.4165 1200.9 30.2984 Q1199.72 33.1457 1196.56 37.0345 Q1195.7 38.0415 1191.04 42.8678 Q1186.39 47.6595 1177.92 56.3053 Z\" fill=\"#000000\" fill-rule=\"nonzero\" fill-opacity=\"1\" /><path clip-path=\"url(#clip290)\" d=\"M1212.99 39.8817 L1231.7 39.8817 L1231.7 45.5761 L1212.99 45.5761 L1212.99 39.8817 Z\" fill=\"#000000\" fill-rule=\"nonzero\" fill-opacity=\"1\" /><path clip-path=\"url(#clip290)\" d=\"M1248.2 12.2777 L1248.2 23.3193 L1261.36 23.3193 L1261.36 28.2846 L1248.2 28.2846 L1248.2 49.3956 Q1248.2 54.1525 1249.48 55.5066 Q1250.8 56.8608 1254.79 56.8608 L1261.36 56.8608 L1261.36 62.208 L1254.79 62.208 Q1247.4 62.208 1244.58 59.465 Q1241.77 56.6872 1241.77 49.3956 L1241.77 28.2846 L1237.08 28.2846 L1237.08 23.3193 L1241.77 23.3193 L1241.77 12.2777 L1248.2 12.2777 Z\" fill=\"#000000\" fill-rule=\"nonzero\" fill-opacity=\"1\" /><path clip-path=\"url(#clip290)\" d=\"M1302.08 38.7359 L1302.08 62.208 L1295.7 62.208 L1295.7 38.9442 Q1295.7 33.4234 1293.54 30.6804 Q1291.39 27.9374 1287.08 27.9374 Q1281.91 27.9374 1278.92 31.2359 Q1275.94 34.5345 1275.94 40.229 L1275.94 62.208 L1269.51 62.208 L1269.51 8.18051 L1275.94 8.18051 L1275.94 29.361 Q1278.23 25.854 1281.32 24.1179 Q1284.45 22.3818 1288.51 22.3818 Q1295.21 22.3818 1298.65 26.5485 Q1302.08 30.6804 1302.08 38.7359 Z\" fill=\"#000000\" fill-rule=\"nonzero\" fill-opacity=\"1\" /><path clip-path=\"url(#clip290)\" d=\"M1370.69 41.1664 L1370.69 44.2914 L1341.32 44.2914 Q1341.74 50.8886 1345.28 54.3608 Q1348.85 57.7983 1355.21 57.7983 Q1358.89 57.7983 1362.33 56.8955 Q1365.8 55.9928 1369.2 54.1872 L1369.2 60.2288 Q1365.76 61.6872 1362.15 62.4511 Q1358.54 63.2149 1354.83 63.2149 Q1345.52 63.2149 1340.07 57.7983 Q1334.65 52.3817 1334.65 43.1456 Q1334.65 33.597 1339.79 28.0068 Q1344.97 22.3818 1353.72 22.3818 Q1361.56 22.3818 1366.11 27.4512 Q1370.69 32.4859 1370.69 41.1664 M1364.31 39.2915 Q1364.24 34.0484 1361.35 30.9234 Q1358.51 27.7985 1353.79 27.7985 Q1348.44 27.7985 1345.21 30.8193 Q1342.01 33.8401 1341.53 39.3262 L1364.31 39.2915 Z\" fill=\"#000000\" fill-rule=\"nonzero\" fill-opacity=\"1\" /><path clip-path=\"url(#clip290)\" d=\"M1381.18 8.18051 L1387.57 8.18051 L1387.57 62.208 L1381.18 62.208 L1381.18 8.18051 Z\" fill=\"#000000\" fill-rule=\"nonzero\" fill-opacity=\"1\" /><path clip-path=\"url(#clip290)\" d=\"M1434.2 41.1664 L1434.2 44.2914 L1404.83 44.2914 Q1405.24 50.8886 1408.79 54.3608 Q1412.36 57.7983 1418.72 57.7983 Q1422.4 57.7983 1425.83 56.8955 Q1429.31 55.9928 1432.71 54.1872 L1432.71 60.2288 Q1429.27 61.6872 1425.66 62.4511 Q1422.05 63.2149 1418.33 63.2149 Q1409.03 63.2149 1403.58 57.7983 Q1398.16 52.3817 1398.16 43.1456 Q1398.16 33.597 1403.3 28.0068 Q1408.47 22.3818 1417.22 22.3818 Q1425.07 22.3818 1429.62 27.4512 Q1434.2 32.4859 1434.2 41.1664 M1427.81 39.2915 Q1427.74 34.0484 1424.86 30.9234 Q1422.01 27.7985 1417.29 27.7985 Q1411.94 27.7985 1408.72 30.8193 Q1405.52 33.8401 1405.04 39.3262 L1427.81 39.2915 Z\" fill=\"#000000\" fill-rule=\"nonzero\" fill-opacity=\"1\" /><path clip-path=\"url(#clip290)\" d=\"M1474.97 30.7846 Q1477.36 26.479 1480.69 24.4304 Q1484.03 22.3818 1488.54 22.3818 Q1494.62 22.3818 1497.92 26.6526 Q1501.22 30.8887 1501.22 38.7359 L1501.22 62.208 L1494.79 62.208 L1494.79 38.9442 Q1494.79 33.354 1492.81 30.6457 Q1490.83 27.9374 1486.77 27.9374 Q1481.81 27.9374 1478.92 31.2359 Q1476.04 34.5345 1476.04 40.229 L1476.04 62.208 L1469.62 62.208 L1469.62 38.9442 Q1469.62 33.3193 1467.64 30.6457 Q1465.66 27.9374 1461.53 27.9374 Q1456.63 27.9374 1453.75 31.2707 Q1450.87 34.5693 1450.87 40.229 L1450.87 62.208 L1444.44 62.208 L1444.44 23.3193 L1450.87 23.3193 L1450.87 29.361 Q1453.06 25.7846 1456.11 24.0832 Q1459.17 22.3818 1463.37 22.3818 Q1467.6 22.3818 1470.56 24.5346 Q1473.54 26.6874 1474.97 30.7846 Z\" fill=\"#000000\" fill-rule=\"nonzero\" fill-opacity=\"1\" /><path clip-path=\"url(#clip290)\" d=\"M1551.63 27.7985 Q1546.49 27.7985 1543.51 31.8262 Q1540.52 35.8193 1540.52 42.7984 Q1540.52 49.7775 1543.47 53.8053 Q1546.46 57.7983 1551.63 57.7983 Q1556.74 57.7983 1559.72 53.7705 Q1562.71 49.7428 1562.71 42.7984 Q1562.71 35.8887 1559.72 31.8609 Q1556.74 27.7985 1551.63 27.7985 M1551.63 22.3818 Q1559.96 22.3818 1564.72 27.7985 Q1569.48 33.2151 1569.48 42.7984 Q1569.48 52.3469 1564.72 57.7983 Q1559.96 63.2149 1551.63 63.2149 Q1543.26 63.2149 1538.51 57.7983 Q1533.78 52.3469 1533.78 42.7984 Q1533.78 33.2151 1538.51 27.7985 Q1543.26 22.3818 1551.63 22.3818 Z\" fill=\"#000000\" fill-rule=\"nonzero\" fill-opacity=\"1\" /><path clip-path=\"url(#clip290)\" d=\"M1599.76 8.18051 L1599.76 13.493 L1593.65 13.493 Q1590.21 13.493 1588.85 14.8819 Q1587.53 16.2707 1587.53 19.8818 L1587.53 23.3193 L1598.05 23.3193 L1598.05 28.2846 L1587.53 28.2846 L1587.53 62.208 L1581.11 62.208 L1581.11 28.2846 L1575 28.2846 L1575 23.3193 L1581.11 23.3193 L1581.11 20.611 Q1581.11 14.118 1584.13 11.1666 Q1587.15 8.18051 1593.71 8.18051 L1599.76 8.18051 Z\" fill=\"#000000\" fill-rule=\"nonzero\" fill-opacity=\"1\" /><path clip-path=\"url(#clip290)\" d=\"M1647.88 16.4791 L1630.17 44.1525 L1647.88 44.1525 L1647.88 16.4791 M1646.04 10.368 L1654.86 10.368 L1654.86 44.1525 L1662.26 44.1525 L1662.26 49.9858 L1654.86 49.9858 L1654.86 62.208 L1647.88 62.208 L1647.88 49.9858 L1624.48 49.9858 L1624.48 43.215 L1646.04 10.368 Z\" fill=\"#000000\" fill-rule=\"nonzero\" fill-opacity=\"1\" /><path clip-path=\"url(#clip290)\" d=\"M1688.85 14.986 Q1683.44 14.986 1680.69 20.3332 Q1677.98 25.6457 1677.98 36.3401 Q1677.98 46.9997 1680.69 52.3469 Q1683.44 57.6594 1688.85 57.6594 Q1694.3 57.6594 1697.01 52.3469 Q1699.76 46.9997 1699.76 36.3401 Q1699.76 25.6457 1697.01 20.3332 Q1694.3 14.986 1688.85 14.986 M1688.85 9.43051 Q1697.57 9.43051 1702.15 16.3402 Q1706.77 23.2152 1706.77 36.3401 Q1706.77 49.4303 1702.15 56.34 Q1697.57 63.2149 1688.85 63.2149 Q1680.14 63.2149 1675.52 56.34 Q1670.94 49.4303 1670.94 36.3401 Q1670.94 23.2152 1675.52 16.3402 Q1680.14 9.43051 1688.85 9.43051 Z\" fill=\"#000000\" fill-rule=\"nonzero\" fill-opacity=\"1\" /><path clip-path=\"url(#clip290)\" d=\"M1719.3 61.1316 L1719.3 54.7428 Q1721.94 55.9928 1724.65 56.6525 Q1727.36 57.3122 1729.96 57.3122 Q1736.91 57.3122 1740.55 52.6594 Q1744.23 47.972 1744.76 38.4581 Q1742.74 41.4442 1739.65 43.0414 Q1736.56 44.6386 1732.81 44.6386 Q1725.03 44.6386 1720.48 39.9512 Q1715.97 35.229 1715.97 27.0693 Q1715.97 19.0832 1720.69 14.2569 Q1725.42 9.43051 1733.26 9.43051 Q1742.26 9.43051 1746.98 16.3402 Q1751.73 23.2152 1751.73 36.3401 Q1751.73 48.597 1745.9 55.9233 Q1740.1 63.2149 1730.28 63.2149 Q1727.64 63.2149 1724.93 62.6941 Q1722.22 62.1733 1719.3 61.1316 M1733.26 39.1526 Q1737.98 39.1526 1740.73 35.9234 Q1743.51 32.6943 1743.51 27.0693 Q1743.51 21.4791 1740.73 18.2499 Q1737.98 14.986 1733.26 14.986 Q1728.54 14.986 1725.76 18.2499 Q1723.02 21.4791 1723.02 27.0693 Q1723.02 32.6943 1725.76 35.9234 Q1728.54 39.1526 1733.26 39.1526 Z\" fill=\"#000000\" fill-rule=\"nonzero\" fill-opacity=\"1\" /><path clip-path=\"url(#clip290)\" d=\"M1780.21 33.4929 Q1775.48 33.4929 1772.71 36.722 Q1769.96 39.9512 1769.96 45.5761 Q1769.96 51.1664 1772.71 54.4303 Q1775.48 57.6594 1780.21 57.6594 Q1784.93 57.6594 1787.67 54.4303 Q1790.45 51.1664 1790.45 45.5761 Q1790.45 39.9512 1787.67 36.722 Q1784.93 33.4929 1780.21 33.4929 M1794.13 11.5138 L1794.13 17.9027 Q1791.49 16.6527 1788.78 15.993 Q1786.11 15.3333 1783.47 15.3333 Q1776.53 15.3333 1772.85 20.0207 Q1769.2 24.7082 1768.68 34.1873 Q1770.73 31.1665 1773.82 29.5693 Q1776.91 27.9374 1780.62 27.9374 Q1788.44 27.9374 1792.95 32.6943 Q1797.5 37.4165 1797.5 45.5761 Q1797.5 53.5622 1792.78 58.3886 Q1788.05 63.2149 1780.21 63.2149 Q1771.21 63.2149 1766.46 56.34 Q1761.7 49.4303 1761.7 36.3401 Q1761.7 24.0485 1767.53 16.7569 Q1773.37 9.43051 1783.19 9.43051 Q1785.83 9.43051 1788.51 9.95134 Q1791.21 10.4722 1794.13 11.5138 Z\" fill=\"#000000\" fill-rule=\"nonzero\" fill-opacity=\"1\" /><path clip-path=\"url(#clip290)\" d=\"M1846.63 8.24996 Q1841.98 16.236 1839.72 24.0485 Q1837.46 31.8609 1837.46 39.8817 Q1837.46 47.9025 1839.72 55.7844 Q1842.01 63.6316 1846.63 71.5829 L1841.07 71.5829 Q1835.87 63.4233 1833.26 55.5414 Q1830.69 47.6595 1830.69 39.8817 Q1830.69 32.1387 1833.26 24.2915 Q1835.83 16.4444 1841.07 8.24996 L1846.63 8.24996 Z\" fill=\"#000000\" fill-rule=\"nonzero\" fill-opacity=\"1\" /><path clip-path=\"url(#clip290)\" d=\"M1904.37 33.8401 L1904.37 40.0206 Q1900.73 42.7637 1897.6 43.9442 Q1894.51 45.1248 1891.14 45.1248 Q1887.32 45.1248 1882.25 43.0762 Q1881.87 42.9373 1881.7 42.8678 Q1881.46 42.7637 1880.94 42.59 Q1875.55 40.4373 1872.29 40.4373 Q1869.23 40.4373 1866.25 41.7914 Q1863.26 43.1109 1859.86 45.9928 L1859.86 39.8123 Q1863.5 37.0692 1866.6 35.8887 Q1869.72 34.6734 1873.09 34.6734 Q1876.91 34.6734 1882.01 36.7567 Q1882.36 36.8956 1882.53 36.9651 Q1882.81 37.0692 1883.3 37.2429 Q1888.68 39.3956 1891.94 39.3956 Q1894.93 39.3956 1897.84 38.0762 Q1900.8 36.7567 1904.37 33.8401 Z\" fill=\"#000000\" fill-rule=\"nonzero\" fill-opacity=\"1\" /><path clip-path=\"url(#clip290)\" d=\"M1934.51 14.986 Q1929.09 14.986 1926.35 20.3332 Q1923.64 25.6457 1923.64 36.3401 Q1923.64 46.9997 1926.35 52.3469 Q1929.09 57.6594 1934.51 57.6594 Q1939.96 57.6594 1942.67 52.3469 Q1945.41 46.9997 1945.41 36.3401 Q1945.41 25.6457 1942.67 20.3332 Q1939.96 14.986 1934.51 14.986 M1934.51 9.43051 Q1943.23 9.43051 1947.81 16.3402 Q1952.43 23.2152 1952.43 36.3401 Q1952.43 49.4303 1947.81 56.34 Q1943.23 63.2149 1934.51 63.2149 Q1925.8 63.2149 1921.18 56.34 Q1916.59 49.4303 1916.59 36.3401 Q1916.59 23.2152 1921.18 16.3402 Q1925.8 9.43051 1934.51 9.43051 Z\" fill=\"#000000\" fill-rule=\"nonzero\" fill-opacity=\"1\" /><path clip-path=\"url(#clip290)\" d=\"M1964.75 53.3886 L1972.08 53.3886 L1972.08 62.208 L1964.75 62.208 L1964.75 53.3886 Z\" fill=\"#000000\" fill-rule=\"nonzero\" fill-opacity=\"1\" /><path clip-path=\"url(#clip290)\" d=\"M2002.36 14.986 Q1996.94 14.986 1994.2 20.3332 Q1991.49 25.6457 1991.49 36.3401 Q1991.49 46.9997 1994.2 52.3469 Q1996.94 57.6594 2002.36 57.6594 Q2007.81 57.6594 2010.52 52.3469 Q2013.26 46.9997 2013.26 36.3401 Q2013.26 25.6457 2010.52 20.3332 Q2007.81 14.986 2002.36 14.986 M2002.36 9.43051 Q2011.07 9.43051 2015.66 16.3402 Q2020.27 23.2152 2020.27 36.3401 Q2020.27 49.4303 2015.66 56.34 Q2011.07 63.2149 2002.36 63.2149 Q1993.64 63.2149 1989.02 56.34 Q1984.44 49.4303 1984.44 36.3401 Q1984.44 23.2152 1989.02 16.3402 Q1993.64 9.43051 2002.36 9.43051 Z\" fill=\"#000000\" fill-rule=\"nonzero\" fill-opacity=\"1\" /><path clip-path=\"url(#clip290)\" d=\"M2047.6 14.986 Q2042.18 14.986 2039.44 20.3332 Q2036.73 25.6457 2036.73 36.3401 Q2036.73 46.9997 2039.44 52.3469 Q2042.18 57.6594 2047.6 57.6594 Q2053.05 57.6594 2055.76 52.3469 Q2058.5 46.9997 2058.5 36.3401 Q2058.5 25.6457 2055.76 20.3332 Q2053.05 14.986 2047.6 14.986 M2047.6 9.43051 Q2056.32 9.43051 2060.9 16.3402 Q2065.52 23.2152 2065.52 36.3401 Q2065.52 49.4303 2060.9 56.34 Q2056.32 63.2149 2047.6 63.2149 Q2038.89 63.2149 2034.27 56.34 Q2029.68 49.4303 2029.68 36.3401 Q2029.68 23.2152 2034.27 16.3402 Q2038.89 9.43051 2047.6 9.43051 Z\" fill=\"#000000\" fill-rule=\"nonzero\" fill-opacity=\"1\" /><path clip-path=\"url(#clip290)\" d=\"M2077.91 10.368 L2105.45 10.368 L2105.45 16.2707 L2084.34 16.2707 L2084.34 28.979 Q2085.86 28.4582 2087.39 28.2151 Q2088.92 27.9374 2090.45 27.9374 Q2099.13 27.9374 2104.2 32.6943 Q2109.27 37.4512 2109.27 45.5761 Q2109.27 53.9442 2104.06 58.5969 Q2098.85 63.2149 2089.37 63.2149 Q2086.11 63.2149 2082.71 62.6594 Q2079.34 62.1038 2075.73 60.9927 L2075.73 53.9442 Q2078.85 55.6455 2082.18 56.4789 Q2085.52 57.3122 2089.23 57.3122 Q2095.24 57.3122 2098.75 54.1525 Q2102.25 50.9928 2102.25 45.5761 Q2102.25 40.1595 2098.75 36.9998 Q2095.24 33.8401 2089.23 33.8401 Q2086.42 33.8401 2083.61 34.4651 Q2080.83 35.0901 2077.91 36.4095 L2077.91 10.368 Z\" fill=\"#000000\" fill-rule=\"nonzero\" fill-opacity=\"1\" /><path clip-path=\"url(#clip290)\" d=\"M2142.36 16.4791 L2124.65 44.1525 L2142.36 44.1525 L2142.36 16.4791 M2140.52 10.368 L2149.34 10.368 L2149.34 44.1525 L2156.73 44.1525 L2156.73 49.9858 L2149.34 49.9858 L2149.34 62.208 L2142.36 62.208 L2142.36 49.9858 L2118.95 49.9858 L2118.95 43.215 L2140.52 10.368 Z\" fill=\"#000000\" fill-rule=\"nonzero\" fill-opacity=\"1\" /><path clip-path=\"url(#clip290)\" d=\"M2212.43 39.3956 Q2209.41 39.3956 2207.67 41.9651 Q2205.97 44.5345 2205.97 49.1178 Q2205.97 53.6317 2207.67 56.2358 Q2209.41 58.8052 2212.43 58.8052 Q2215.38 58.8052 2217.08 56.2358 Q2218.82 53.6317 2218.82 49.1178 Q2218.82 44.5692 2217.08 41.9998 Q2215.38 39.3956 2212.43 39.3956 M2212.43 34.9859 Q2217.91 34.9859 2221.14 38.8053 Q2224.37 42.6248 2224.37 49.1178 Q2224.37 55.6108 2221.11 59.4302 Q2217.88 63.2149 2212.43 63.2149 Q2206.87 63.2149 2203.64 59.4302 Q2200.41 55.6108 2200.41 49.1178 Q2200.41 42.59 2203.64 38.8053 Q2206.91 34.9859 2212.43 34.9859 M2176.59 13.8402 Q2173.61 13.8402 2171.87 16.4444 Q2170.17 19.0138 2170.17 23.5277 Q2170.17 28.111 2171.87 30.6804 Q2173.57 33.2498 2176.59 33.2498 Q2179.61 33.2498 2181.32 30.6804 Q2183.05 28.111 2183.05 23.5277 Q2183.05 19.0485 2181.32 16.4444 Q2179.58 13.8402 2176.59 13.8402 M2207.95 9.43051 L2213.5 9.43051 L2181.07 63.2149 L2175.52 63.2149 L2207.95 9.43051 M2176.59 9.43051 Q2182.08 9.43051 2185.34 13.2499 Q2188.61 17.0346 2188.61 23.5277 Q2188.61 30.0901 2185.34 33.8748 Q2182.11 37.6595 2176.59 37.6595 Q2171.07 37.6595 2167.84 33.8748 Q2164.65 30.0554 2164.65 23.5277 Q2164.65 17.0694 2167.88 13.2499 Q2171.11 9.43051 2176.59 9.43051 Z\" fill=\"#000000\" fill-rule=\"nonzero\" fill-opacity=\"1\" /><path clip-path=\"url(#clip290)\" d=\"M2233.99 8.24996 L2239.54 8.24996 Q2244.75 16.4444 2247.32 24.2915 Q2249.93 32.1387 2249.93 39.8817 Q2249.93 47.6595 2247.32 55.5414 Q2244.75 63.4233 2239.54 71.5829 L2233.99 71.5829 Q2238.61 63.6316 2240.86 55.7844 Q2243.16 47.9025 2243.16 39.8817 Q2243.16 31.8609 2240.86 24.0485 Q2238.61 16.236 2233.99 8.24996 Z\" fill=\"#000000\" fill-rule=\"nonzero\" fill-opacity=\"1\" /><polyline clip-path=\"url(#clip292)\" style=\"stroke:#009af9; stroke-linecap:round; stroke-linejoin:round; stroke-width:4; stroke-opacity:1; fill:none\" points=\"247.59,798.72 295.121,1080.25 342.652,1142.08 390.184,1144.44 437.715,1150.17 485.247,1162.61 532.778,1170.45 580.309,1172.01 627.841,1175.96 675.372,1178.57 722.904,1179.13 770.435,1183.8 817.967,1185.73 865.498,1186.67 913.029,1188.2 960.561,1188.62 1008.09,1189.86 1055.62,1190.7 1103.16,1191.6 1150.69,1191.86 1198.22,1193.3 1245.75,1193.64 1293.28,1194.13 1340.81,1194.58 1388.34,1195.4 1435.87,1195.81 1483.41,1195.89 1530.94,1196.62 1578.47,1197.4 1626,1197.78 1673.53,1198.18 1721.06,1198.87 1768.59,1199.56 1816.13,1200.71 1863.66,1201.71 1911.19,1201.71 1958.72,1201.71 2006.25,1201.71 2053.78,1201.71 2101.31,1201.71 2148.85,1201.71 2196.38,1201.71 2243.91,1201.71 2291.44,1201.71 \"/>\n",
       "<polyline clip-path=\"url(#clip292)\" style=\"stroke:#e26f46; stroke-linecap:round; stroke-linejoin:round; stroke-width:4; stroke-opacity:1; fill:none\" points=\"247.59,798.72 295.121,677.179 342.652,617.303 390.184,559.987 437.715,508.811 485.247,469.406 532.778,438.189 580.309,408.507 627.841,382.92 675.372,359.379 722.904,336.862 770.435,319.462 817.967,303.086 865.498,288.245 913.029,274.427 960.561,261.122 1008.09,249.863 1055.62,238.605 1103.16,228.37 1150.69,218.134 1198.22,209.946 1245.75,201.758 1293.28,194.594 1340.81,187.429 1388.34,181.288 1435.87,175.147 1483.41,169.006 1530.94,163.888 1578.47,159.794 1626,155.7 1673.53,152.63 1721.06,149.559 1768.59,147.512 1816.13,146.489 1863.66,146.489 1911.19,146.489 1958.72,146.489 2006.25,146.489 2053.78,146.489 2101.31,146.489 2148.85,146.489 2196.38,146.489 2243.91,146.489 2291.44,146.489 \"/>\n",
       "<polyline clip-path=\"url(#clip292)\" style=\"stroke:#000000; stroke-linecap:round; stroke-linejoin:round; stroke-width:2; stroke-opacity:1; fill:none\" points=\"1245.75,2351.9 1245.75,-1003.7 \"/>\n",
       "<polyline clip-path=\"url(#clip292)\" style=\"stroke:#000000; stroke-linecap:round; stroke-linejoin:round; stroke-width:2; stroke-opacity:1; fill:none\" points=\"-1980.21,201.758 4519.24,201.758 \"/>\n",
       "<path clip-path=\"url(#clip290)\" d=\"M881.435 1486.45 L1657.59 1486.45 L1657.59 1330.93 L881.435 1330.93  Z\" fill=\"#ffffff\" fill-rule=\"evenodd\" fill-opacity=\"1\"/>\n",
       "<polyline clip-path=\"url(#clip290)\" style=\"stroke:#000000; stroke-linecap:round; stroke-linejoin:round; stroke-width:4; stroke-opacity:1; fill:none\" points=\"881.435,1486.45 1657.59,1486.45 1657.59,1330.93 881.435,1330.93 881.435,1486.45 \"/>\n",
       "<polyline clip-path=\"url(#clip290)\" style=\"stroke:#009af9; stroke-linecap:round; stroke-linejoin:round; stroke-width:4; stroke-opacity:1; fill:none\" points=\"905.507,1382.77 1049.94,1382.77 \"/>\n",
       "<path clip-path=\"url(#clip290)\" d=\"M1098.04 1386.02 L1098.04 1388.1 L1078.46 1388.1 Q1078.73 1392.5 1081.09 1394.82 Q1083.48 1397.11 1087.72 1397.11 Q1090.17 1397.11 1092.46 1396.51 Q1094.78 1395.9 1097.04 1394.7 L1097.04 1398.73 Q1094.75 1399.7 1092.34 1400.21 Q1089.94 1400.72 1087.46 1400.72 Q1081.26 1400.72 1077.62 1397.11 Q1074.01 1393.5 1074.01 1387.34 Q1074.01 1380.97 1077.44 1377.25 Q1080.89 1373.5 1086.72 1373.5 Q1091.95 1373.5 1094.98 1376.88 Q1098.04 1380.23 1098.04 1386.02 M1093.78 1384.77 Q1093.73 1381.27 1091.81 1379.19 Q1089.91 1377.11 1086.77 1377.11 Q1083.2 1377.11 1081.05 1379.12 Q1078.92 1381.14 1078.59 1384.79 L1093.78 1384.77 Z\" fill=\"#000000\" fill-rule=\"nonzero\" fill-opacity=\"1\" /><path clip-path=\"url(#clip290)\" d=\"M1105.03 1374.12 L1109.29 1374.12 L1109.29 1400.05 L1105.03 1400.05 L1105.03 1374.12 M1105.03 1364.03 L1109.29 1364.03 L1109.29 1369.42 L1105.03 1369.42 L1105.03 1364.03 Z\" fill=\"#000000\" fill-rule=\"nonzero\" fill-opacity=\"1\" /><path clip-path=\"url(#clip290)\" d=\"M1135.26 1386.78 Q1135.26 1382.15 1133.34 1379.61 Q1131.44 1377.06 1127.99 1377.06 Q1124.57 1377.06 1122.65 1379.61 Q1120.75 1382.15 1120.75 1386.78 Q1120.75 1391.39 1122.65 1393.94 Q1124.57 1396.48 1127.99 1396.48 Q1131.44 1396.48 1133.34 1393.94 Q1135.26 1391.39 1135.26 1386.78 M1139.52 1396.83 Q1139.52 1403.45 1136.58 1406.67 Q1133.64 1409.91 1127.58 1409.91 Q1125.33 1409.91 1123.34 1409.56 Q1121.35 1409.24 1119.47 1408.54 L1119.47 1404.4 Q1121.35 1405.42 1123.18 1405.9 Q1125.01 1406.39 1126.9 1406.39 Q1131.09 1406.39 1133.18 1404.19 Q1135.26 1402.02 1135.26 1397.59 L1135.26 1395.49 Q1133.94 1397.78 1131.88 1398.91 Q1129.82 1400.05 1126.95 1400.05 Q1122.18 1400.05 1119.27 1396.41 Q1116.35 1392.78 1116.35 1386.78 Q1116.35 1380.77 1119.27 1377.13 Q1122.18 1373.5 1126.95 1373.5 Q1129.82 1373.5 1131.88 1374.63 Q1133.94 1375.77 1135.26 1378.06 L1135.26 1374.12 L1139.52 1374.12 L1139.52 1396.83 Z\" fill=\"#000000\" fill-rule=\"nonzero\" fill-opacity=\"1\" /><path clip-path=\"url(#clip290)\" d=\"M1170.47 1386.02 L1170.47 1388.1 L1150.89 1388.1 Q1151.16 1392.5 1153.53 1394.82 Q1155.91 1397.11 1160.15 1397.11 Q1162.6 1397.11 1164.89 1396.51 Q1167.21 1395.9 1169.47 1394.7 L1169.47 1398.73 Q1167.18 1399.7 1164.77 1400.21 Q1162.37 1400.72 1159.89 1400.72 Q1153.69 1400.72 1150.05 1397.11 Q1146.44 1393.5 1146.44 1387.34 Q1146.44 1380.97 1149.87 1377.25 Q1153.32 1373.5 1159.15 1373.5 Q1164.38 1373.5 1167.41 1376.88 Q1170.47 1380.23 1170.47 1386.02 M1166.21 1384.77 Q1166.16 1381.27 1164.24 1379.19 Q1162.34 1377.11 1159.2 1377.11 Q1155.63 1377.11 1153.48 1379.12 Q1151.35 1381.14 1151.03 1384.79 L1166.21 1384.77 Z\" fill=\"#000000\" fill-rule=\"nonzero\" fill-opacity=\"1\" /><path clip-path=\"url(#clip290)\" d=\"M1199.01 1384.4 L1199.01 1400.05 L1194.75 1400.05 L1194.75 1384.54 Q1194.75 1380.86 1193.32 1379.03 Q1191.88 1377.2 1189.01 1377.2 Q1185.56 1377.2 1183.57 1379.4 Q1181.58 1381.6 1181.58 1385.4 L1181.58 1400.05 L1177.3 1400.05 L1177.3 1374.12 L1181.58 1374.12 L1181.58 1378.15 Q1183.11 1375.81 1185.17 1374.65 Q1187.25 1373.5 1189.96 1373.5 Q1194.43 1373.5 1196.72 1376.27 Q1199.01 1379.03 1199.01 1384.4 Z\" fill=\"#000000\" fill-rule=\"nonzero\" fill-opacity=\"1\" /><path clip-path=\"url(#clip290)\" d=\"M1204.45 1374.12 L1208.96 1374.12 L1217.07 1395.88 L1225.17 1374.12 L1229.68 1374.12 L1219.96 1400.05 L1214.17 1400.05 L1204.45 1374.12 Z\" fill=\"#000000\" fill-rule=\"nonzero\" fill-opacity=\"1\" /><path clip-path=\"url(#clip290)\" d=\"M1247.34 1387.02 Q1242.18 1387.02 1240.19 1388.2 Q1238.2 1389.38 1238.2 1392.22 Q1238.2 1394.49 1239.68 1395.83 Q1241.19 1397.15 1243.76 1397.15 Q1247.3 1397.15 1249.43 1394.65 Q1251.58 1392.13 1251.58 1387.96 L1251.58 1387.02 L1247.34 1387.02 M1255.84 1385.26 L1255.84 1400.05 L1251.58 1400.05 L1251.58 1396.11 Q1250.12 1398.47 1247.95 1399.61 Q1245.77 1400.72 1242.62 1400.72 Q1238.64 1400.72 1236.28 1398.5 Q1233.94 1396.25 1233.94 1392.5 Q1233.94 1388.13 1236.86 1385.9 Q1239.8 1383.68 1245.61 1383.68 L1251.58 1383.68 L1251.58 1383.27 Q1251.58 1380.33 1249.64 1378.73 Q1247.71 1377.11 1244.22 1377.11 Q1242 1377.11 1239.89 1377.64 Q1237.78 1378.17 1235.84 1379.24 L1235.84 1375.3 Q1238.18 1374.4 1240.38 1373.96 Q1242.58 1373.5 1244.66 1373.5 Q1250.28 1373.5 1253.06 1376.41 Q1255.84 1379.33 1255.84 1385.26 Z\" fill=\"#000000\" fill-rule=\"nonzero\" fill-opacity=\"1\" /><path clip-path=\"url(#clip290)\" d=\"M1264.61 1364.03 L1268.87 1364.03 L1268.87 1400.05 L1264.61 1400.05 L1264.61 1364.03 Z\" fill=\"#000000\" fill-rule=\"nonzero\" fill-opacity=\"1\" /><path clip-path=\"url(#clip290)\" d=\"M1277.34 1389.82 L1277.34 1374.12 L1281.6 1374.12 L1281.6 1389.65 Q1281.6 1393.33 1283.04 1395.19 Q1284.47 1397.02 1287.34 1397.02 Q1290.79 1397.02 1292.78 1394.82 Q1294.8 1392.62 1294.8 1388.82 L1294.8 1374.12 L1299.06 1374.12 L1299.06 1400.05 L1294.8 1400.05 L1294.8 1396.07 Q1293.25 1398.43 1291.19 1399.58 Q1289.15 1400.72 1286.44 1400.72 Q1281.97 1400.72 1279.66 1397.94 Q1277.34 1395.16 1277.34 1389.82 M1288.06 1373.5 L1288.06 1373.5 Z\" fill=\"#000000\" fill-rule=\"nonzero\" fill-opacity=\"1\" /><path clip-path=\"url(#clip290)\" d=\"M1330.01 1386.02 L1330.01 1388.1 L1310.42 1388.1 Q1310.7 1392.5 1313.06 1394.82 Q1315.45 1397.11 1319.68 1397.11 Q1322.14 1397.11 1324.43 1396.51 Q1326.74 1395.9 1329.01 1394.7 L1329.01 1398.73 Q1326.72 1399.7 1324.31 1400.21 Q1321.9 1400.72 1319.43 1400.72 Q1313.22 1400.72 1309.59 1397.11 Q1305.98 1393.5 1305.98 1387.34 Q1305.98 1380.97 1309.4 1377.25 Q1312.85 1373.5 1318.69 1373.5 Q1323.92 1373.5 1326.95 1376.88 Q1330.01 1380.23 1330.01 1386.02 M1325.75 1384.77 Q1325.7 1381.27 1323.78 1379.19 Q1321.88 1377.11 1318.73 1377.11 Q1315.17 1377.11 1313.01 1379.12 Q1310.89 1381.14 1310.56 1384.79 L1325.75 1384.77 Z\" fill=\"#000000\" fill-rule=\"nonzero\" fill-opacity=\"1\" /><path clip-path=\"url(#clip290)\" d=\"M1353.52 1374.89 L1353.52 1378.91 Q1351.72 1377.99 1349.77 1377.52 Q1347.83 1377.06 1345.75 1377.06 Q1342.57 1377.06 1340.98 1378.03 Q1339.4 1379.01 1339.4 1380.95 Q1339.4 1382.43 1340.54 1383.29 Q1341.67 1384.12 1345.1 1384.89 L1346.56 1385.21 Q1351.09 1386.18 1352.99 1387.96 Q1354.91 1389.72 1354.91 1392.9 Q1354.91 1396.51 1352.04 1398.61 Q1349.2 1400.72 1344.2 1400.72 Q1342.11 1400.72 1339.84 1400.3 Q1337.6 1399.91 1335.1 1399.1 L1335.1 1394.7 Q1337.46 1395.93 1339.75 1396.55 Q1342.04 1397.15 1344.29 1397.15 Q1347.3 1397.15 1348.92 1396.14 Q1350.54 1395.09 1350.54 1393.22 Q1350.54 1391.48 1349.36 1390.56 Q1348.2 1389.63 1344.24 1388.77 L1342.76 1388.43 Q1338.8 1387.59 1337.04 1385.88 Q1335.28 1384.15 1335.28 1381.14 Q1335.28 1377.48 1337.88 1375.49 Q1340.47 1373.5 1345.24 1373.5 Q1347.6 1373.5 1349.68 1373.84 Q1351.76 1374.19 1353.52 1374.89 Z\" fill=\"#000000\" fill-rule=\"nonzero\" fill-opacity=\"1\" /><polyline clip-path=\"url(#clip290)\" style=\"stroke:#e26f46; stroke-linecap:round; stroke-linejoin:round; stroke-width:4; stroke-opacity:1; fill:none\" points=\"905.507,1434.61 1049.94,1434.61 \"/>\n",
       "<path clip-path=\"url(#clip290)\" d=\"M1094.52 1426.96 L1094.52 1430.94 Q1092.72 1429.94 1090.89 1429.46 Q1089.08 1428.95 1087.23 1428.95 Q1083.09 1428.95 1080.79 1431.59 Q1078.5 1434.2 1078.5 1438.95 Q1078.5 1443.69 1080.79 1446.33 Q1083.09 1448.95 1087.23 1448.95 Q1089.08 1448.95 1090.89 1448.46 Q1092.72 1447.95 1094.52 1446.96 L1094.52 1450.89 Q1092.74 1451.73 1090.82 1452.14 Q1088.92 1452.56 1086.77 1452.56 Q1080.91 1452.56 1077.46 1448.88 Q1074.01 1445.2 1074.01 1438.95 Q1074.01 1432.61 1077.48 1428.97 Q1080.98 1425.34 1087.04 1425.34 Q1089.01 1425.34 1090.89 1425.75 Q1092.76 1426.15 1094.52 1426.96 Z\" fill=\"#000000\" fill-rule=\"nonzero\" fill-opacity=\"1\" /><path clip-path=\"url(#clip290)\" d=\"M1101.49 1441.66 L1101.49 1425.96 L1105.75 1425.96 L1105.75 1441.49 Q1105.75 1445.17 1107.18 1447.03 Q1108.62 1448.86 1111.49 1448.86 Q1114.94 1448.86 1116.93 1446.66 Q1118.94 1444.46 1118.94 1440.66 L1118.94 1425.96 L1123.2 1425.96 L1123.2 1451.89 L1118.94 1451.89 L1118.94 1447.91 Q1117.39 1450.27 1115.33 1451.42 Q1113.29 1452.56 1110.59 1452.56 Q1106.12 1452.56 1103.8 1449.78 Q1101.49 1447 1101.49 1441.66 M1112.21 1425.34 L1112.21 1425.34 Z\" fill=\"#000000\" fill-rule=\"nonzero\" fill-opacity=\"1\" /><path clip-path=\"url(#clip290)\" d=\"M1152.16 1430.94 Q1153.76 1428.07 1155.98 1426.7 Q1158.2 1425.34 1161.21 1425.34 Q1165.26 1425.34 1167.46 1428.18 Q1169.66 1431.01 1169.66 1436.24 L1169.66 1451.89 L1165.38 1451.89 L1165.38 1436.38 Q1165.38 1432.65 1164.06 1430.85 Q1162.74 1429.04 1160.03 1429.04 Q1156.72 1429.04 1154.8 1431.24 Q1152.88 1433.44 1152.88 1437.24 L1152.88 1451.89 L1148.59 1451.89 L1148.59 1436.38 Q1148.59 1432.63 1147.28 1430.85 Q1145.96 1429.04 1143.2 1429.04 Q1139.94 1429.04 1138.02 1431.26 Q1136.09 1433.46 1136.09 1437.24 L1136.09 1451.89 L1131.81 1451.89 L1131.81 1425.96 L1136.09 1425.96 L1136.09 1429.99 Q1137.55 1427.61 1139.59 1426.47 Q1141.63 1425.34 1144.43 1425.34 Q1147.25 1425.34 1149.22 1426.77 Q1151.21 1428.21 1152.16 1430.94 Z\" fill=\"#000000\" fill-rule=\"nonzero\" fill-opacity=\"1\" /><path clip-path=\"url(#clip290)\" d=\"M1177.71 1441.66 L1177.71 1425.96 L1181.97 1425.96 L1181.97 1441.49 Q1181.97 1445.17 1183.41 1447.03 Q1184.84 1448.86 1187.71 1448.86 Q1191.16 1448.86 1193.15 1446.66 Q1195.17 1444.46 1195.17 1440.66 L1195.17 1425.96 L1199.43 1425.96 L1199.43 1451.89 L1195.17 1451.89 L1195.17 1447.91 Q1193.62 1450.27 1191.56 1451.42 Q1189.52 1452.56 1186.81 1452.56 Q1182.34 1452.56 1180.03 1449.78 Q1177.71 1447 1177.71 1441.66 M1188.43 1425.34 L1188.43 1425.34 Z\" fill=\"#000000\" fill-rule=\"nonzero\" fill-opacity=\"1\" /><path clip-path=\"url(#clip290)\" d=\"M1208.2 1415.87 L1212.46 1415.87 L1212.46 1451.89 L1208.2 1451.89 L1208.2 1415.87 Z\" fill=\"#000000\" fill-rule=\"nonzero\" fill-opacity=\"1\" /><path clip-path=\"url(#clip290)\" d=\"M1233.15 1438.86 Q1227.99 1438.86 1226 1440.04 Q1224.01 1441.22 1224.01 1444.06 Q1224.01 1446.33 1225.49 1447.67 Q1227 1448.99 1229.57 1448.99 Q1233.11 1448.99 1235.24 1446.49 Q1237.39 1443.97 1237.39 1439.8 L1237.39 1438.86 L1233.15 1438.86 M1241.65 1437.1 L1241.65 1451.89 L1237.39 1451.89 L1237.39 1447.95 Q1235.93 1450.31 1233.76 1451.45 Q1231.58 1452.56 1228.43 1452.56 Q1224.45 1452.56 1222.09 1450.34 Q1219.75 1448.09 1219.75 1444.34 Q1219.75 1439.97 1222.67 1437.74 Q1225.61 1435.52 1231.42 1435.52 L1237.39 1435.52 L1237.39 1435.11 Q1237.39 1432.17 1235.45 1430.57 Q1233.52 1428.95 1230.03 1428.95 Q1227.81 1428.95 1225.7 1429.48 Q1223.59 1430.01 1221.65 1431.08 L1221.65 1427.14 Q1223.99 1426.24 1226.19 1425.8 Q1228.39 1425.34 1230.47 1425.34 Q1236.09 1425.34 1238.87 1428.25 Q1241.65 1431.17 1241.65 1437.1 Z\" fill=\"#000000\" fill-rule=\"nonzero\" fill-opacity=\"1\" /><path clip-path=\"url(#clip290)\" d=\"M1254.64 1418.6 L1254.64 1425.96 L1263.41 1425.96 L1263.41 1429.27 L1254.64 1429.27 L1254.64 1443.35 Q1254.64 1446.52 1255.49 1447.42 Q1256.37 1448.32 1259.03 1448.32 L1263.41 1448.32 L1263.41 1451.89 L1259.03 1451.89 Q1254.1 1451.89 1252.23 1450.06 Q1250.35 1448.21 1250.35 1443.35 L1250.35 1429.27 L1247.23 1429.27 L1247.23 1425.96 L1250.35 1425.96 L1250.35 1418.6 L1254.64 1418.6 Z\" fill=\"#000000\" fill-rule=\"nonzero\" fill-opacity=\"1\" /><path clip-path=\"url(#clip290)\" d=\"M1269.01 1425.96 L1273.27 1425.96 L1273.27 1451.89 L1269.01 1451.89 L1269.01 1425.96 M1269.01 1415.87 L1273.27 1415.87 L1273.27 1421.26 L1269.01 1421.26 L1269.01 1415.87 Z\" fill=\"#000000\" fill-rule=\"nonzero\" fill-opacity=\"1\" /><path clip-path=\"url(#clip290)\" d=\"M1279.13 1425.96 L1283.64 1425.96 L1291.74 1447.72 L1299.84 1425.96 L1304.36 1425.96 L1294.64 1451.89 L1288.85 1451.89 L1279.13 1425.96 Z\" fill=\"#000000\" fill-rule=\"nonzero\" fill-opacity=\"1\" /><path clip-path=\"url(#clip290)\" d=\"M1332.41 1437.86 L1332.41 1439.94 L1312.83 1439.94 Q1313.11 1444.34 1315.47 1446.66 Q1317.85 1448.95 1322.09 1448.95 Q1324.54 1448.95 1326.83 1448.35 Q1329.15 1447.74 1331.42 1446.54 L1331.42 1450.57 Q1329.13 1451.54 1326.72 1452.05 Q1324.31 1452.56 1321.83 1452.56 Q1315.63 1452.56 1312 1448.95 Q1308.39 1445.34 1308.39 1439.18 Q1308.39 1432.81 1311.81 1429.09 Q1315.26 1425.34 1321.09 1425.34 Q1326.33 1425.34 1329.36 1428.72 Q1332.41 1432.07 1332.41 1437.86 M1328.15 1436.61 Q1328.11 1433.11 1326.19 1431.03 Q1324.29 1428.95 1321.14 1428.95 Q1317.58 1428.95 1315.42 1430.96 Q1313.29 1432.98 1312.97 1436.63 L1328.15 1436.61 Z\" fill=\"#000000\" fill-rule=\"nonzero\" fill-opacity=\"1\" /><path clip-path=\"url(#clip290)\" d=\"M1376.65 1437.86 L1376.65 1439.94 L1357.07 1439.94 Q1357.34 1444.34 1359.7 1446.66 Q1362.09 1448.95 1366.32 1448.95 Q1368.78 1448.95 1371.07 1448.35 Q1373.38 1447.74 1375.65 1446.54 L1375.65 1450.57 Q1373.36 1451.54 1370.95 1452.05 Q1368.55 1452.56 1366.07 1452.56 Q1359.87 1452.56 1356.23 1448.95 Q1352.62 1445.34 1352.62 1439.18 Q1352.62 1432.81 1356.05 1429.09 Q1359.5 1425.34 1365.33 1425.34 Q1370.56 1425.34 1373.59 1428.72 Q1376.65 1432.07 1376.65 1437.86 M1372.39 1436.61 Q1372.34 1433.11 1370.42 1431.03 Q1368.52 1428.95 1365.38 1428.95 Q1361.81 1428.95 1359.66 1430.96 Q1357.53 1432.98 1357.2 1436.63 L1372.39 1436.61 Z\" fill=\"#000000\" fill-rule=\"nonzero\" fill-opacity=\"1\" /><path clip-path=\"url(#clip290)\" d=\"M1383.64 1425.96 L1387.9 1425.96 L1387.9 1451.89 L1383.64 1451.89 L1383.64 1425.96 M1383.64 1415.87 L1387.9 1415.87 L1387.9 1421.26 L1383.64 1421.26 L1383.64 1415.87 Z\" fill=\"#000000\" fill-rule=\"nonzero\" fill-opacity=\"1\" /><path clip-path=\"url(#clip290)\" d=\"M1413.87 1438.62 Q1413.87 1433.99 1411.95 1431.45 Q1410.05 1428.9 1406.6 1428.9 Q1403.18 1428.9 1401.26 1431.45 Q1399.36 1433.99 1399.36 1438.62 Q1399.36 1443.23 1401.26 1445.78 Q1403.18 1448.32 1406.6 1448.32 Q1410.05 1448.32 1411.95 1445.78 Q1413.87 1443.23 1413.87 1438.62 M1418.13 1448.67 Q1418.13 1455.29 1415.19 1458.51 Q1412.25 1461.75 1406.19 1461.75 Q1403.94 1461.75 1401.95 1461.4 Q1399.96 1461.08 1398.08 1460.38 L1398.08 1456.24 Q1399.96 1457.26 1401.79 1457.74 Q1403.62 1458.23 1405.51 1458.23 Q1409.7 1458.23 1411.79 1456.03 Q1413.87 1453.86 1413.87 1449.43 L1413.87 1447.33 Q1412.55 1449.62 1410.49 1450.75 Q1408.43 1451.89 1405.56 1451.89 Q1400.79 1451.89 1397.88 1448.25 Q1394.96 1444.62 1394.96 1438.62 Q1394.96 1432.61 1397.88 1428.97 Q1400.79 1425.34 1405.56 1425.34 Q1408.43 1425.34 1410.49 1426.47 Q1412.55 1427.61 1413.87 1429.9 L1413.87 1425.96 L1418.13 1425.96 L1418.13 1448.67 Z\" fill=\"#000000\" fill-rule=\"nonzero\" fill-opacity=\"1\" /><path clip-path=\"url(#clip290)\" d=\"M1449.08 1437.86 L1449.08 1439.94 L1429.5 1439.94 Q1429.77 1444.34 1432.13 1446.66 Q1434.52 1448.95 1438.75 1448.95 Q1441.21 1448.95 1443.5 1448.35 Q1445.82 1447.74 1448.08 1446.54 L1448.08 1450.57 Q1445.79 1451.54 1443.38 1452.05 Q1440.98 1452.56 1438.5 1452.56 Q1432.3 1452.56 1428.66 1448.95 Q1425.05 1445.34 1425.05 1439.18 Q1425.05 1432.81 1428.48 1429.09 Q1431.93 1425.34 1437.76 1425.34 Q1442.99 1425.34 1446.02 1428.72 Q1449.08 1432.07 1449.08 1437.86 M1444.82 1436.61 Q1444.77 1433.11 1442.85 1431.03 Q1440.95 1428.95 1437.81 1428.95 Q1434.24 1428.95 1432.09 1430.96 Q1429.96 1432.98 1429.63 1436.63 L1444.82 1436.61 Z\" fill=\"#000000\" fill-rule=\"nonzero\" fill-opacity=\"1\" /><path clip-path=\"url(#clip290)\" d=\"M1477.62 1436.24 L1477.62 1451.89 L1473.36 1451.89 L1473.36 1436.38 Q1473.36 1432.7 1471.93 1430.87 Q1470.49 1429.04 1467.62 1429.04 Q1464.17 1429.04 1462.18 1431.24 Q1460.19 1433.44 1460.19 1437.24 L1460.19 1451.89 L1455.91 1451.89 L1455.91 1425.96 L1460.19 1425.96 L1460.19 1429.99 Q1461.72 1427.65 1463.78 1426.49 Q1465.86 1425.34 1468.57 1425.34 Q1473.04 1425.34 1475.33 1428.11 Q1477.62 1430.87 1477.62 1436.24 Z\" fill=\"#000000\" fill-rule=\"nonzero\" fill-opacity=\"1\" /><path clip-path=\"url(#clip290)\" d=\"M1483.06 1425.96 L1487.57 1425.96 L1495.68 1447.72 L1503.78 1425.96 L1508.29 1425.96 L1498.57 1451.89 L1492.78 1451.89 L1483.06 1425.96 Z\" fill=\"#000000\" fill-rule=\"nonzero\" fill-opacity=\"1\" /><path clip-path=\"url(#clip290)\" d=\"M1525.95 1438.86 Q1520.79 1438.86 1518.8 1440.04 Q1516.81 1441.22 1516.81 1444.06 Q1516.81 1446.33 1518.29 1447.67 Q1519.8 1448.99 1522.37 1448.99 Q1525.91 1448.99 1528.04 1446.49 Q1530.19 1443.97 1530.19 1439.8 L1530.19 1438.86 L1525.95 1438.86 M1534.45 1437.1 L1534.45 1451.89 L1530.19 1451.89 L1530.19 1447.95 Q1528.73 1450.31 1526.56 1451.45 Q1524.38 1452.56 1521.23 1452.56 Q1517.25 1452.56 1514.89 1450.34 Q1512.55 1448.09 1512.55 1444.34 Q1512.55 1439.97 1515.47 1437.74 Q1518.41 1435.52 1524.22 1435.52 L1530.19 1435.52 L1530.19 1435.11 Q1530.19 1432.17 1528.25 1430.57 Q1526.32 1428.95 1522.83 1428.95 Q1520.61 1428.95 1518.5 1429.48 Q1516.39 1430.01 1514.45 1431.08 L1514.45 1427.14 Q1516.79 1426.24 1518.99 1425.8 Q1521.19 1425.34 1523.27 1425.34 Q1528.89 1425.34 1531.67 1428.25 Q1534.45 1431.17 1534.45 1437.1 Z\" fill=\"#000000\" fill-rule=\"nonzero\" fill-opacity=\"1\" /><path clip-path=\"url(#clip290)\" d=\"M1543.22 1415.87 L1547.48 1415.87 L1547.48 1451.89 L1543.22 1451.89 L1543.22 1415.87 Z\" fill=\"#000000\" fill-rule=\"nonzero\" fill-opacity=\"1\" /><path clip-path=\"url(#clip290)\" d=\"M1555.95 1441.66 L1555.95 1425.96 L1560.21 1425.96 L1560.21 1441.49 Q1560.21 1445.17 1561.65 1447.03 Q1563.08 1448.86 1565.95 1448.86 Q1569.4 1448.86 1571.39 1446.66 Q1573.41 1444.46 1573.41 1440.66 L1573.41 1425.96 L1577.67 1425.96 L1577.67 1451.89 L1573.41 1451.89 L1573.41 1447.91 Q1571.86 1450.27 1569.8 1451.42 Q1567.76 1452.56 1565.05 1452.56 Q1560.58 1452.56 1558.27 1449.78 Q1555.95 1447 1555.95 1441.66 M1566.67 1425.34 L1566.67 1425.34 Z\" fill=\"#000000\" fill-rule=\"nonzero\" fill-opacity=\"1\" /><path clip-path=\"url(#clip290)\" d=\"M1608.62 1437.86 L1608.62 1439.94 L1589.03 1439.94 Q1589.31 1444.34 1591.67 1446.66 Q1594.06 1448.95 1598.29 1448.95 Q1600.74 1448.95 1603.04 1448.35 Q1605.35 1447.74 1607.62 1446.54 L1607.62 1450.57 Q1605.33 1451.54 1602.92 1452.05 Q1600.51 1452.56 1598.04 1452.56 Q1591.83 1452.56 1588.2 1448.95 Q1584.59 1445.34 1584.59 1439.18 Q1584.59 1432.81 1588.01 1429.09 Q1591.46 1425.34 1597.3 1425.34 Q1602.53 1425.34 1605.56 1428.72 Q1608.62 1432.07 1608.62 1437.86 M1604.36 1436.61 Q1604.31 1433.11 1602.39 1431.03 Q1600.49 1428.95 1597.34 1428.95 Q1593.78 1428.95 1591.62 1430.96 Q1589.49 1432.98 1589.17 1436.63 L1604.36 1436.61 Z\" fill=\"#000000\" fill-rule=\"nonzero\" fill-opacity=\"1\" /><path clip-path=\"url(#clip290)\" d=\"M1632.13 1426.73 L1632.13 1430.75 Q1630.33 1429.83 1628.38 1429.36 Q1626.44 1428.9 1624.36 1428.9 Q1621.18 1428.9 1619.59 1429.87 Q1618.01 1430.85 1618.01 1432.79 Q1618.01 1434.27 1619.15 1435.13 Q1620.28 1435.96 1623.71 1436.73 L1625.17 1437.05 Q1629.7 1438.02 1631.6 1439.8 Q1633.52 1441.56 1633.52 1444.74 Q1633.52 1448.35 1630.65 1450.45 Q1627.8 1452.56 1622.8 1452.56 Q1620.72 1452.56 1618.45 1452.14 Q1616.21 1451.75 1613.71 1450.94 L1613.71 1446.54 Q1616.07 1447.77 1618.36 1448.39 Q1620.65 1448.99 1622.9 1448.99 Q1625.91 1448.99 1627.53 1447.98 Q1629.15 1446.93 1629.15 1445.06 Q1629.15 1443.32 1627.97 1442.4 Q1626.81 1441.47 1622.85 1440.61 L1621.37 1440.27 Q1617.41 1439.43 1615.65 1437.72 Q1613.89 1435.99 1613.89 1432.98 Q1613.89 1429.32 1616.49 1427.33 Q1619.08 1425.34 1623.85 1425.34 Q1626.21 1425.34 1628.29 1425.68 Q1630.37 1426.03 1632.13 1426.73 Z\" fill=\"#000000\" fill-rule=\"nonzero\" fill-opacity=\"1\" /><path clip-path=\"url(#clip290)\" d=\"M1185.26 187.557 Q1181.65 187.557 1179.82 191.122 Q1178.02 194.663 1178.02 201.793 Q1178.02 208.899 1179.82 212.464 Q1181.65 216.006 1185.26 216.006 Q1188.9 216.006 1190.7 212.464 Q1192.53 208.899 1192.53 201.793 Q1192.53 194.663 1190.7 191.122 Q1188.9 187.557 1185.26 187.557 M1185.26 183.853 Q1191.07 183.853 1194.13 188.46 Q1197.21 193.043 1197.21 201.793 Q1197.21 210.52 1194.13 215.126 Q1191.07 219.71 1185.26 219.71 Q1179.45 219.71 1176.37 215.126 Q1173.32 210.52 1173.32 201.793 Q1173.32 193.043 1176.37 188.46 Q1179.45 183.853 1185.26 183.853 Z\" fill=\"#000000\" fill-rule=\"nonzero\" fill-opacity=\"1\" /><path clip-path=\"url(#clip290)\" d=\"M1205.43 213.159 L1210.31 213.159 L1210.31 219.038 L1205.43 219.038 L1205.43 213.159 Z\" fill=\"#000000\" fill-rule=\"nonzero\" fill-opacity=\"1\" /><path clip-path=\"url(#clip290)\" d=\"M1220.63 218.321 L1220.63 214.061 Q1222.39 214.895 1224.2 215.335 Q1226 215.774 1227.74 215.774 Q1232.37 215.774 1234.8 212.673 Q1237.25 209.548 1237.6 203.205 Q1236.26 205.196 1234.2 206.261 Q1232.14 207.325 1229.64 207.325 Q1224.45 207.325 1221.42 204.2 Q1218.41 201.052 1218.41 195.613 Q1218.41 190.288 1221.56 187.071 Q1224.71 183.853 1229.94 183.853 Q1235.93 183.853 1239.08 188.46 Q1242.25 193.043 1242.25 201.793 Q1242.25 209.964 1238.37 214.849 Q1234.5 219.71 1227.95 219.71 Q1226.19 219.71 1224.38 219.362 Q1222.58 219.015 1220.63 218.321 M1229.94 203.668 Q1233.09 203.668 1234.92 201.515 Q1236.77 199.362 1236.77 195.613 Q1236.77 191.886 1234.92 189.733 Q1233.09 187.557 1229.94 187.557 Q1226.79 187.557 1224.94 189.733 Q1223.11 191.886 1223.11 195.613 Q1223.11 199.362 1224.94 201.515 Q1226.79 203.668 1229.94 203.668 Z\" fill=\"#000000\" fill-rule=\"nonzero\" fill-opacity=\"1\" /><path clip-path=\"url(#clip290)\" d=\"M1250.7 184.478 L1269.06 184.478 L1269.06 188.413 L1254.99 188.413 L1254.99 196.886 Q1256 196.538 1257.02 196.376 Q1258.04 196.191 1259.06 196.191 Q1264.85 196.191 1268.23 199.362 Q1271.61 202.534 1271.61 207.95 Q1271.61 213.529 1268.13 216.631 Q1264.66 219.71 1258.34 219.71 Q1256.17 219.71 1253.9 219.339 Q1251.65 218.969 1249.24 218.228 L1249.24 213.529 Q1251.33 214.663 1253.55 215.219 Q1255.77 215.774 1258.25 215.774 Q1262.25 215.774 1264.59 213.668 Q1266.93 211.561 1266.93 207.95 Q1266.93 204.339 1264.59 202.233 Q1262.25 200.126 1258.25 200.126 Q1256.37 200.126 1254.5 200.543 Q1252.65 200.96 1250.7 201.839 L1250.7 184.478 Z\" fill=\"#000000\" fill-rule=\"nonzero\" fill-opacity=\"1\" /><path clip-path=\"url(#clip290)\" d=\"M1310.22 203.83 Q1308.2 203.83 1307.05 205.543 Q1305.91 207.256 1305.91 210.311 Q1305.91 213.321 1307.05 215.057 Q1308.2 216.77 1310.22 216.77 Q1312.18 216.77 1313.32 215.057 Q1314.48 213.321 1314.48 210.311 Q1314.48 207.279 1313.32 205.566 Q1312.18 203.83 1310.22 203.83 M1310.22 200.89 Q1313.87 200.89 1316.03 203.437 Q1318.18 205.983 1318.18 210.311 Q1318.18 214.64 1316 217.186 Q1313.85 219.71 1310.22 219.71 Q1306.51 219.71 1304.36 217.186 Q1302.21 214.64 1302.21 210.311 Q1302.21 205.96 1304.36 203.437 Q1306.54 200.89 1310.22 200.89 M1286.33 186.793 Q1284.34 186.793 1283.18 188.529 Q1282.05 190.242 1282.05 193.251 Q1282.05 196.307 1283.18 198.02 Q1284.31 199.733 1286.33 199.733 Q1288.34 199.733 1289.48 198.02 Q1290.63 196.307 1290.63 193.251 Q1290.63 190.265 1289.48 188.529 Q1288.32 186.793 1286.33 186.793 M1307.23 183.853 L1310.93 183.853 L1289.31 219.71 L1285.61 219.71 L1307.23 183.853 M1286.33 183.853 Q1289.99 183.853 1292.16 186.4 Q1294.34 188.923 1294.34 193.251 Q1294.34 197.626 1292.16 200.15 Q1290.01 202.673 1286.33 202.673 Q1282.65 202.673 1280.49 200.15 Q1278.36 197.603 1278.36 193.251 Q1278.36 188.946 1280.52 186.4 Q1282.67 183.853 1286.33 183.853 Z\" fill=\"#000000\" fill-rule=\"nonzero\" fill-opacity=\"1\" /></svg>\n"
      ]
     },
     "execution_count": 234,
     "metadata": {},
     "output_type": "execute_result"
    }
   ],
   "source": [
    "cumulative_eigenvalues = cumsum(eigenvalues ./ sum(eigenvalues))\n",
    "index_X_percent = findfirst(cumulative_eigenvalues .>= X_percent)\n",
    "\n",
    "# To put X_percent in the middle\n",
    "x_range = 1:index_X_percent * 2\n",
    "\n",
    "# Plot 2 curves con el rango x limitado\n",
    "plot(\n",
    "    [eigenvalues[x_range] ./ sum(eigenvalues)], \n",
    "    label=\"eigenvalues\",\n",
    "    title=\"$(X_percent)% coverage at the $index_X_percent-th elem of $(size(eigenvalues, 1)) (~$(round(index_X_percent/(size(eigenvalues, 1)), digits=4))%)\",\n",
    "    legend=:outerbottom,\n",
    "    titlefontsize=12\n",
    ")\n",
    "\n",
    "# Plot cumulative eigenvalues con el rango x limitado\n",
    "plot!(cumulative_eigenvalues[x_range], label=\"cumulative eigenvalues\")\n",
    "\n",
    "# Add X% text\n",
    "annotate!([(index_X_percent, cumulative_eigenvalues[index_X_percent], text(\"$(X_percent)%\", 8))])\n",
    "\n",
    "# Add x line\n",
    "vline!([index_X_percent], line=:black, linewidth=0.5, label=nothing)\n",
    "\n",
    "# Add y line\n",
    "hline!([cumulative_eigenvalues[index_X_percent]], line=:black, linewidth=0.5, label=nothing)"
   ]
  },
  {
   "cell_type": "markdown",
   "id": "196c7241",
   "metadata": {},
   "source": [
    "# Recognition"
   ]
  },
  {
   "cell_type": "code",
   "execution_count": 1,
   "id": "44085a1d",
   "metadata": {
    "scrolled": false
   },
   "outputs": [],
   "source": [
    "#show_training_images(training_images)"
   ]
  },
  {
   "cell_type": "code",
   "execution_count": 2,
   "id": "72bd7a76",
   "metadata": {},
   "outputs": [],
   "source": [
    "#show_testing_images(testing_images)"
   ]
  },
  {
   "cell_type": "markdown",
   "id": "21418dc1",
   "metadata": {},
   "source": [
    "#### Setup data first:"
   ]
  },
  {
   "cell_type": "code",
   "execution_count": 293,
   "id": "eed58e5b",
   "metadata": {},
   "outputs": [
    {
     "data": {
      "text/plain": [
       "0.99"
      ]
     },
     "execution_count": 293,
     "metadata": {},
     "output_type": "execute_result"
    }
   ],
   "source": [
    "n_folders = 2\n",
    "n_training_images = 4\n",
    "n_testing_images = 4\n",
    "\n",
    "min_images_per_folder = n_training_images + n_testing_images + 1; # +1 because google drive creating desktop.ini\n",
    "\n",
    "# Selecting the top {X_percent}% of the eigenvalues\n",
    "X_percent = 99\n",
    "X_percent = X_percent / 100"
   ]
  },
  {
   "cell_type": "code",
   "execution_count": 294,
   "id": "82973aa4",
   "metadata": {},
   "outputs": [
    {
     "name": "stdout",
     "output_type": "stream",
     "text": [
      "We want 2 folders with 8 min_images_per_folder, we have: 217\n"
     ]
    }
   ],
   "source": [
    "# Check if there are as many folder after the filter using: min_images_per_folder\n",
    "println(\"We want $n_folders folders with $(min_images_per_folder-1) min_images_per_folder, we have: $(size(get_useful_folders(min_images_per_folder), 1))\")"
   ]
  },
  {
   "cell_type": "markdown",
   "id": "d3c7b5e8",
   "metadata": {},
   "source": [
    "#### Aux functions:"
   ]
  },
  {
   "cell_type": "code",
   "execution_count": 303,
   "id": "a57b4834",
   "metadata": {
    "scrolled": true
   },
   "outputs": [
    {
     "data": {
      "text/plain": [
       "test_for_k_components (generic function with 4 methods)"
      ]
     },
     "execution_count": 303,
     "metadata": {},
     "output_type": "execute_result"
    }
   ],
   "source": [
    "# Use k components to test accuracy.\n",
    "\n",
    "#                |  k=1    |    k=2   |   ...   |  k = index_X_percent |\n",
    "#----------------------------------------------------------------------|\n",
    "# Test_image_1   |  error  |   error  |  ...    |        error         |\n",
    "#----------------------------------------------------------------------|\n",
    "# Test_image_2   |  error  |   error  |  ...    |        error         |\n",
    "#----------------------------------------------------------------------|\n",
    "#        ...     |   ...   |    ...   |   ...   |        ...           |\n",
    "#----------------------------------------------------------------------|\n",
    "# Test_image_M   |  error  |   error  |  ...    |        error         |\n",
    "#-----------------------------------------------------------------     |\n",
    "\n",
    "function test_for_k_components(A, eigenfaces, random_n_folders, display_data)\n",
    "    P = transpose(eigenfaces)*transpose(A);\n",
    "\n",
    "    correct = 0.0\n",
    "    all_min_dif = [] # We collect all the min norm diff\n",
    "    for w in 1:size(testing_images,1)\n",
    "        x_i = testing_images[w,:]' - μ\n",
    "        P_i = transpose(eigenfaces) * transpose(x_i);\n",
    "\n",
    "        dist=[]\n",
    "        for j in 1:size(P,2)\n",
    "            push!(dist, norm(P[:,j] - P_i))\n",
    "        end\n",
    "        pred = argmin(dist)\n",
    "        push!(all_min_dif, dist[pred])\n",
    "\n",
    "        celeb_tested = random_n_folders[ div(w - 1, n_testing_images) + 1 ]            \n",
    "        celeb_predicted = random_n_folders[ div(pred - 1, n_training_images) + 1 ]\n",
    "        \n",
    "        if (celeb_tested == celeb_predicted)\n",
    "            correct+=1\n",
    "        end   \n",
    "                \n",
    "        if display_data == true\n",
    "            println(\"_________________________________\")\n",
    "            println(\"Current: $celeb_tested (#$w)\")\n",
    "            println(\"Pred:    $celeb_predicted (#$pred)\")\n",
    "\n",
    "            println(\"Correct: $(correct/w*100)% \")\n",
    "\n",
    "            IJulia.display([\n",
    "                Gray.(reshape(testing_images[w,:], image_size, image_size)),\n",
    "                Gray.(reshape(training_images[pred,:], image_size, image_size))\n",
    "            ])\n",
    "        end\n",
    "    end\n",
    "            \n",
    "    accurracy = correct/size(testing_images,1)*100\n",
    "    (accurracy, vec(all_min_dif))\n",
    "end\n"
   ]
  },
  {
   "cell_type": "markdown",
   "id": "5619d1c3",
   "metadata": {},
   "source": [
    "#### Run block:"
   ]
  },
  {
   "cell_type": "code",
   "execution_count": 305,
   "id": "5688e04b",
   "metadata": {},
   "outputs": [],
   "source": [
    "# Testing for the {X_percent}%\n",
    "cumulative_eigenvalues = cumsum(eigenvalues ./ sum(eigenvalues))\n",
    "index_X_percent = findfirst(cumulative_eigenvalues .>= X_percent)\n",
    "\n",
    "# Table format for {accuracy_by_precision}\n",
    "\n",
    "#           |  Float16  |  Float32  |  Float64  |\n",
    "#-----------|-----------|-----------|-----------|\n",
    "#    k=1    | correct%  | correct%  | correct%  |\n",
    "#    k=2    | correct%  | correct%  | correct%  |\n",
    "#    ...    |   ...     |   ...     |   ...     |\n",
    "#   k = X%  | correct%  | correct%  | correct%  |\n",
    "\n",
    "# The data:\n",
    "accuracy_by_precision = zeros(Float64, index_X_percent, 3)\n",
    "recognition_dif_by_precision = []\n",
    "\n",
    "# The training set (USE THE SAME FOR EVERY PRECISION)\n",
    "training_set = get_random_n_folders(min_images_per_folder)\n",
    "\n",
    "# TODO: Iterations\n",
    "\n",
    "for (col, used_precision) in enumerate(precisions)\n",
    "    ((training_images, testing_images), μ, A, eigenvalues, eigenvectors, elapsed_time, mem_used) = setup_basics(used_precision, training_set);\n",
    "\n",
    "    recognition_diff = zeros(Float64, n_folders*n_training_images, index_X_percent)\n",
    "    \n",
    "    for k in 1:index_X_percent\n",
    "\n",
    "        (accuracy, diff) = test_for_k_components(A, eigenvectors[:,1:k], training_set, false)\n",
    "\n",
    "        accuracy_by_precision[k,col] = accuracy\n",
    "        recognition_diff[:,k] = diff\n",
    "        \n",
    "    end\n",
    "    \n",
    "    push!(recognition_dif_by_precision, recognition_diff)\n",
    "end"
   ]
  },
  {
   "cell_type": "code",
   "execution_count": 290,
   "id": "ebd60ddc",
   "metadata": {},
   "outputs": [
    {
     "data": {
      "text/plain": [
       "141×3 Matrix{Float64}:\n",
       "  4.16667   5.83333   5.83333\n",
       " 20.0      20.0      20.0\n",
       " 16.6667   16.6667   16.6667\n",
       " 19.1667   19.1667   19.1667\n",
       " 22.5      22.5      22.5\n",
       " 19.1667   20.0      20.0\n",
       " 22.5      22.5      22.5\n",
       " 28.3333   28.3333   28.3333\n",
       " 25.8333   25.8333   25.8333\n",
       " 21.6667   21.6667   21.6667\n",
       " 24.1667   24.1667   24.1667\n",
       " 26.6667   26.6667   26.6667\n",
       " 23.3333   23.3333   23.3333\n",
       "  ⋮                  \n",
       " 28.3333   28.3333   28.3333\n",
       " 28.3333   28.3333   28.3333\n",
       " 26.6667   26.6667   26.6667\n",
       " 26.6667   26.6667   26.6667\n",
       " 28.3333   28.3333   28.3333\n",
       " 30.0      28.3333   28.3333\n",
       " 28.3333   28.3333   28.3333\n",
       " 28.3333   28.3333   28.3333\n",
       " 30.0      30.0      30.0\n",
       " 30.0      30.0      30.0\n",
       " 30.0      30.0      30.0\n",
       " 26.6667   26.6667   26.6667"
      ]
     },
     "execution_count": 290,
     "metadata": {},
     "output_type": "execute_result"
    }
   ],
   "source": [
    "accuracy_by_precision"
   ]
  },
  {
   "cell_type": "code",
   "execution_count": 311,
   "id": "78aea309",
   "metadata": {},
   "outputs": [
    {
     "data": {
      "text/plain": [
       "8×7 Matrix{Float64}:\n",
       " 2.57871   4.73388  5.45372  5.80264   6.77594   7.03016   9.13311\n",
       " 1.26411   4.77071  6.41654  6.95248   7.19784   7.25538   8.5747\n",
       " 0.853242  4.58816  4.59601  6.89285   7.01152   7.75806   9.83132\n",
       " 1.12803   6.39193  7.01268  7.54881   9.37023  12.9191   12.9192\n",
       " 1.99649   6.90065  7.0061   9.29712  11.2515   13.0193   13.3649\n",
       " 1.41586   3.09013  6.2495   6.76647   7.09306  11.8349   11.8863\n",
       " 1.57761   5.06197  8.04639  8.6697    9.9395   12.3588   12.5065\n",
       " 0.742513  3.9326   8.16202  8.54763   8.8349   11.2734   11.6616"
      ]
     },
     "execution_count": 311,
     "metadata": {},
     "output_type": "execute_result"
    }
   ],
   "source": [
    "recognition_dif_by_precision[3]"
   ]
  },
  {
   "cell_type": "code",
   "execution_count": 312,
   "id": "45045ce0",
   "metadata": {},
   "outputs": [
    {
     "data": {
      "text/plain": [
       "8×7 Matrix{Float64}:\n",
       " 2.57871   4.73388  5.45373  5.80264   6.77595   7.03017   9.13311\n",
       " 1.26411   4.77072  6.41655  6.95248   7.19785   7.25539   8.5747\n",
       " 0.853242  4.58816  4.59602  6.89285   7.01152   7.75806   9.83132\n",
       " 1.12803   6.39193  7.01269  7.54881   9.37024  12.9191   12.9192\n",
       " 1.99649   6.90066  7.0061   9.29713  11.2515   13.0193   13.3649\n",
       " 1.41586   3.09013  6.2495   6.76646   7.09306  11.8349   11.8863\n",
       " 1.57761   5.06197  8.0464   8.6697    9.93951  12.3588   12.5065\n",
       " 0.742516  3.93261  8.16202  8.54763   8.8349   11.2734   11.6616"
      ]
     },
     "execution_count": 312,
     "metadata": {},
     "output_type": "execute_result"
    }
   ],
   "source": [
    "recognition_dif_by_precision[2]"
   ]
  },
  {
   "cell_type": "code",
   "execution_count": 313,
   "id": "20bba834",
   "metadata": {},
   "outputs": [
    {
     "data": {
      "text/plain": [
       "8×7 Matrix{Float64}:\n",
       " 2.57812   4.73438  5.45703  5.80859   6.78125   7.03516   9.13281\n",
       " 1.25781   4.77734  6.42578  6.96094   7.20703   7.26562   8.58594\n",
       " 0.863281  4.58203  4.58984  6.89062   7.00781   7.75391   9.83594\n",
       " 1.12109   6.38672  7.00781  7.54297   9.36719  12.9219   12.9219\n",
       " 1.99609   6.90234  7.00781  9.29688  11.25     13.0312   13.375\n",
       " 1.39844   3.08594  6.24609  6.76172   7.08594  11.8438   11.8984\n",
       " 1.59375   5.05078  8.04688  8.67969   9.91406  12.3594   12.5156\n",
       " 0.734375  3.92578  8.15625  8.53906   8.82812  11.2734   11.6641"
      ]
     },
     "execution_count": 313,
     "metadata": {},
     "output_type": "execute_result"
    }
   ],
   "source": [
    "recognition_dif_by_precision[1]"
   ]
  },
  {
   "cell_type": "markdown",
   "id": "4a9bc572",
   "metadata": {},
   "source": [
    "#### Comparison"
   ]
  },
  {
   "cell_type": "code",
   "execution_count": 330,
   "id": "60548a31",
   "metadata": {},
   "outputs": [
    {
     "name": "stdout",
     "output_type": "stream",
     "text": [
      "Bool[1 1 1 1 1 1 1; 1 1 1 1 1 1 1; 1 1 1 1 1 1 1; 1 1 1 1 1 1 1; 1 1 1 1 1 1 1; 1 1 1 1 1 1 1; 1 1 1 1 1 1 1; 1 1 1 1 1 1 1]\n"
     ]
    }
   ],
   "source": [
    "# Working with eps 64\n",
    "epsilon = eps(Float64)\n",
    "\n",
    "# Abs diff bigger than eps? (64 vs 16)\n",
    "result = abs.(recognition_dif_by_precision[3] - recognition_dif_by_precision[1]) .> epsilon\n",
    "\n",
    "# Results\n",
    "println(result)"
   ]
  },
  {
   "cell_type": "code",
   "execution_count": null,
   "id": "8f0c8906",
   "metadata": {},
   "outputs": [],
   "source": []
  },
  {
   "cell_type": "code",
   "execution_count": 246,
   "id": "cab9cd33",
   "metadata": {},
   "outputs": [],
   "source": [
    "\"\"\"\n",
    "DATA FRAMES ---> EXCEL\n",
    "\n",
    "# Define DF\n",
    "df = DataFrame(\n",
    "    used_precision = UInt8[],\n",
    "    image_size = UInt16[],\n",
    "    n_folders = UInt16[],\n",
    "    n_training_images = UInt8[],\n",
    "    n_testing_images = UInt8[],\n",
    "    eigen_elapsed_time = Float64[],\n",
    "    used_eigenfaces = UInt8[],\n",
    "    norm_error = Float64[],\n",
    "    acurracy = Float16[]\n",
    ")\n",
    "\n",
    "# Define a row\n",
    "row_dict = Dict{String, Any}()\n",
    "\n",
    "# Save data\n",
    "row_dict[\"used_precision\"] = p\n",
    "row_dict[\"image_size\"] = image_size\n",
    "row_dict[\"persons\"] = used_persons\n",
    "row_dict[\"images_db\"] = images_to_db\n",
    "row_dict[\"images_to_test\"] = images_to_test\n",
    "row_dict[\"covariance_calc_time\"] = covariance_elapsed_time\n",
    "row_dict[\"eigen_elapsed_time\"] = eigen_elapsed_time\n",
    "row_dict[\"used_eigenfaces\"] = n_components\n",
    "row_dict[\"norm_error\"] = error\n",
    "row_dict[\"acurracy\"] = acurracy\n",
    "\n",
    "# Push to DF\n",
    "push!(df, row_dict)\n",
    "\n",
    "# Write excel\n",
    "XLSX.writetable(\"eigenframe.xlsx\", df, overwrite=true, sheetname=\"Recognition\")\n",
    "\"\"\";"
   ]
  },
  {
   "cell_type": "code",
   "execution_count": null,
   "id": "5a35c8f9",
   "metadata": {},
   "outputs": [],
   "source": []
  }
 ],
 "metadata": {
  "@webio": {
   "lastCommId": null,
   "lastKernelId": null
  },
  "kernelspec": {
   "display_name": "Julia 1.9.3",
   "language": "julia",
   "name": "julia-1.9"
  },
  "language_info": {
   "file_extension": ".jl",
   "mimetype": "application/julia",
   "name": "julia",
   "version": "1.9.3"
  }
 },
 "nbformat": 4,
 "nbformat_minor": 5
}
